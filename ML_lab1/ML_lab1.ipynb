{
 "cells": [
  {
   "cell_type": "code",
   "execution_count": 1,
   "metadata": {},
   "outputs": [],
   "source": [
    "#make learning with x=score ,y=Healthy life expectancy"
   ]
  },
  {
   "cell_type": "code",
   "execution_count": 2,
   "metadata": {},
   "outputs": [],
   "source": [
    "import numpy as np"
   ]
  },
  {
   "cell_type": "code",
   "execution_count": 3,
   "metadata": {},
   "outputs": [],
   "source": [
    "import pandas as pd"
   ]
  },
  {
   "cell_type": "code",
   "execution_count": 4,
   "metadata": {},
   "outputs": [],
   "source": [
    "import matplotlib.pyplot as plt"
   ]
  },
  {
   "cell_type": "code",
   "execution_count": 5,
   "metadata": {},
   "outputs": [],
   "source": [
    "df=pd.read_csv('2019.csv')"
   ]
  },
  {
   "cell_type": "code",
   "execution_count": 6,
   "metadata": {
    "scrolled": true
   },
   "outputs": [
    {
     "data": {
      "text/html": [
       "<div>\n",
       "<style scoped>\n",
       "    .dataframe tbody tr th:only-of-type {\n",
       "        vertical-align: middle;\n",
       "    }\n",
       "\n",
       "    .dataframe tbody tr th {\n",
       "        vertical-align: top;\n",
       "    }\n",
       "\n",
       "    .dataframe thead th {\n",
       "        text-align: right;\n",
       "    }\n",
       "</style>\n",
       "<table border=\"1\" class=\"dataframe\">\n",
       "  <thead>\n",
       "    <tr style=\"text-align: right;\">\n",
       "      <th></th>\n",
       "      <th>Overall rank</th>\n",
       "      <th>Country or region</th>\n",
       "      <th>Score</th>\n",
       "      <th>GDP per capita</th>\n",
       "      <th>Social support</th>\n",
       "      <th>Healthy life expectancy</th>\n",
       "      <th>Freedom to make life choices</th>\n",
       "      <th>Generosity</th>\n",
       "      <th>Perceptions of corruption</th>\n",
       "    </tr>\n",
       "  </thead>\n",
       "  <tbody>\n",
       "    <tr>\n",
       "      <th>0</th>\n",
       "      <td>1</td>\n",
       "      <td>Finland</td>\n",
       "      <td>7.769</td>\n",
       "      <td>1.340</td>\n",
       "      <td>1.587</td>\n",
       "      <td>0.986</td>\n",
       "      <td>0.596</td>\n",
       "      <td>0.153</td>\n",
       "      <td>0.393</td>\n",
       "    </tr>\n",
       "    <tr>\n",
       "      <th>1</th>\n",
       "      <td>2</td>\n",
       "      <td>Denmark</td>\n",
       "      <td>7.600</td>\n",
       "      <td>1.383</td>\n",
       "      <td>1.573</td>\n",
       "      <td>0.996</td>\n",
       "      <td>0.592</td>\n",
       "      <td>0.252</td>\n",
       "      <td>0.410</td>\n",
       "    </tr>\n",
       "    <tr>\n",
       "      <th>2</th>\n",
       "      <td>3</td>\n",
       "      <td>Norway</td>\n",
       "      <td>7.554</td>\n",
       "      <td>1.488</td>\n",
       "      <td>1.582</td>\n",
       "      <td>1.028</td>\n",
       "      <td>0.603</td>\n",
       "      <td>0.271</td>\n",
       "      <td>0.341</td>\n",
       "    </tr>\n",
       "    <tr>\n",
       "      <th>3</th>\n",
       "      <td>4</td>\n",
       "      <td>Iceland</td>\n",
       "      <td>7.494</td>\n",
       "      <td>1.380</td>\n",
       "      <td>1.624</td>\n",
       "      <td>1.026</td>\n",
       "      <td>0.591</td>\n",
       "      <td>0.354</td>\n",
       "      <td>0.118</td>\n",
       "    </tr>\n",
       "    <tr>\n",
       "      <th>4</th>\n",
       "      <td>5</td>\n",
       "      <td>Netherlands</td>\n",
       "      <td>7.488</td>\n",
       "      <td>1.396</td>\n",
       "      <td>1.522</td>\n",
       "      <td>0.999</td>\n",
       "      <td>0.557</td>\n",
       "      <td>0.322</td>\n",
       "      <td>0.298</td>\n",
       "    </tr>\n",
       "    <tr>\n",
       "      <th>...</th>\n",
       "      <td>...</td>\n",
       "      <td>...</td>\n",
       "      <td>...</td>\n",
       "      <td>...</td>\n",
       "      <td>...</td>\n",
       "      <td>...</td>\n",
       "      <td>...</td>\n",
       "      <td>...</td>\n",
       "      <td>...</td>\n",
       "    </tr>\n",
       "    <tr>\n",
       "      <th>151</th>\n",
       "      <td>152</td>\n",
       "      <td>Rwanda</td>\n",
       "      <td>3.334</td>\n",
       "      <td>0.359</td>\n",
       "      <td>0.711</td>\n",
       "      <td>0.614</td>\n",
       "      <td>0.555</td>\n",
       "      <td>0.217</td>\n",
       "      <td>0.411</td>\n",
       "    </tr>\n",
       "    <tr>\n",
       "      <th>152</th>\n",
       "      <td>153</td>\n",
       "      <td>Tanzania</td>\n",
       "      <td>3.231</td>\n",
       "      <td>0.476</td>\n",
       "      <td>0.885</td>\n",
       "      <td>0.499</td>\n",
       "      <td>0.417</td>\n",
       "      <td>0.276</td>\n",
       "      <td>0.147</td>\n",
       "    </tr>\n",
       "    <tr>\n",
       "      <th>153</th>\n",
       "      <td>154</td>\n",
       "      <td>Afghanistan</td>\n",
       "      <td>3.203</td>\n",
       "      <td>0.350</td>\n",
       "      <td>0.517</td>\n",
       "      <td>0.361</td>\n",
       "      <td>0.000</td>\n",
       "      <td>0.158</td>\n",
       "      <td>0.025</td>\n",
       "    </tr>\n",
       "    <tr>\n",
       "      <th>154</th>\n",
       "      <td>155</td>\n",
       "      <td>Central African Republic</td>\n",
       "      <td>3.083</td>\n",
       "      <td>0.026</td>\n",
       "      <td>0.000</td>\n",
       "      <td>0.105</td>\n",
       "      <td>0.225</td>\n",
       "      <td>0.235</td>\n",
       "      <td>0.035</td>\n",
       "    </tr>\n",
       "    <tr>\n",
       "      <th>155</th>\n",
       "      <td>156</td>\n",
       "      <td>South Sudan</td>\n",
       "      <td>2.853</td>\n",
       "      <td>0.306</td>\n",
       "      <td>0.575</td>\n",
       "      <td>0.295</td>\n",
       "      <td>0.010</td>\n",
       "      <td>0.202</td>\n",
       "      <td>0.091</td>\n",
       "    </tr>\n",
       "  </tbody>\n",
       "</table>\n",
       "<p>156 rows × 9 columns</p>\n",
       "</div>"
      ],
      "text/plain": [
       "     Overall rank         Country or region  Score  GDP per capita  \\\n",
       "0               1                   Finland  7.769           1.340   \n",
       "1               2                   Denmark  7.600           1.383   \n",
       "2               3                    Norway  7.554           1.488   \n",
       "3               4                   Iceland  7.494           1.380   \n",
       "4               5               Netherlands  7.488           1.396   \n",
       "..            ...                       ...    ...             ...   \n",
       "151           152                    Rwanda  3.334           0.359   \n",
       "152           153                  Tanzania  3.231           0.476   \n",
       "153           154               Afghanistan  3.203           0.350   \n",
       "154           155  Central African Republic  3.083           0.026   \n",
       "155           156               South Sudan  2.853           0.306   \n",
       "\n",
       "     Social support  Healthy life expectancy  Freedom to make life choices  \\\n",
       "0             1.587                    0.986                         0.596   \n",
       "1             1.573                    0.996                         0.592   \n",
       "2             1.582                    1.028                         0.603   \n",
       "3             1.624                    1.026                         0.591   \n",
       "4             1.522                    0.999                         0.557   \n",
       "..              ...                      ...                           ...   \n",
       "151           0.711                    0.614                         0.555   \n",
       "152           0.885                    0.499                         0.417   \n",
       "153           0.517                    0.361                         0.000   \n",
       "154           0.000                    0.105                         0.225   \n",
       "155           0.575                    0.295                         0.010   \n",
       "\n",
       "     Generosity  Perceptions of corruption  \n",
       "0         0.153                      0.393  \n",
       "1         0.252                      0.410  \n",
       "2         0.271                      0.341  \n",
       "3         0.354                      0.118  \n",
       "4         0.322                      0.298  \n",
       "..          ...                        ...  \n",
       "151       0.217                      0.411  \n",
       "152       0.276                      0.147  \n",
       "153       0.158                      0.025  \n",
       "154       0.235                      0.035  \n",
       "155       0.202                      0.091  \n",
       "\n",
       "[156 rows x 9 columns]"
      ]
     },
     "execution_count": 6,
     "metadata": {},
     "output_type": "execute_result"
    }
   ],
   "source": [
    "df"
   ]
  },
  {
   "cell_type": "code",
   "execution_count": 7,
   "metadata": {},
   "outputs": [],
   "source": [
    "x=np.array([i for i in df['Score']])"
   ]
  },
  {
   "cell_type": "code",
   "execution_count": 8,
   "metadata": {},
   "outputs": [],
   "source": [
    "x=x.reshape(-1,1)"
   ]
  },
  {
   "cell_type": "code",
   "execution_count": 9,
   "metadata": {},
   "outputs": [
    {
     "data": {
      "text/plain": [
       "array([[7.769],\n",
       "       [7.6  ],\n",
       "       [7.554],\n",
       "       [7.494],\n",
       "       [7.488],\n",
       "       [7.48 ],\n",
       "       [7.343],\n",
       "       [7.307],\n",
       "       [7.278],\n",
       "       [7.246],\n",
       "       [7.228],\n",
       "       [7.167],\n",
       "       [7.139],\n",
       "       [7.09 ],\n",
       "       [7.054],\n",
       "       [7.021],\n",
       "       [6.985],\n",
       "       [6.923],\n",
       "       [6.892],\n",
       "       [6.852],\n",
       "       [6.825],\n",
       "       [6.726],\n",
       "       [6.595],\n",
       "       [6.592],\n",
       "       [6.446],\n",
       "       [6.444],\n",
       "       [6.436],\n",
       "       [6.375],\n",
       "       [6.374],\n",
       "       [6.354],\n",
       "       [6.321],\n",
       "       [6.3  ],\n",
       "       [6.293],\n",
       "       [6.262],\n",
       "       [6.253],\n",
       "       [6.223],\n",
       "       [6.199],\n",
       "       [6.198],\n",
       "       [6.192],\n",
       "       [6.182],\n",
       "       [6.174],\n",
       "       [6.149],\n",
       "       [6.125],\n",
       "       [6.118],\n",
       "       [6.105],\n",
       "       [6.1  ],\n",
       "       [6.086],\n",
       "       [6.07 ],\n",
       "       [6.046],\n",
       "       [6.028],\n",
       "       [6.021],\n",
       "       [6.008],\n",
       "       [5.94 ],\n",
       "       [5.895],\n",
       "       [5.893],\n",
       "       [5.89 ],\n",
       "       [5.888],\n",
       "       [5.886],\n",
       "       [5.86 ],\n",
       "       [5.809],\n",
       "       [5.779],\n",
       "       [5.758],\n",
       "       [5.743],\n",
       "       [5.718],\n",
       "       [5.697],\n",
       "       [5.693],\n",
       "       [5.653],\n",
       "       [5.648],\n",
       "       [5.631],\n",
       "       [5.603],\n",
       "       [5.529],\n",
       "       [5.525],\n",
       "       [5.523],\n",
       "       [5.467],\n",
       "       [5.432],\n",
       "       [5.43 ],\n",
       "       [5.425],\n",
       "       [5.386],\n",
       "       [5.373],\n",
       "       [5.339],\n",
       "       [5.323],\n",
       "       [5.287],\n",
       "       [5.285],\n",
       "       [5.274],\n",
       "       [5.265],\n",
       "       [5.261],\n",
       "       [5.247],\n",
       "       [5.211],\n",
       "       [5.208],\n",
       "       [5.208],\n",
       "       [5.197],\n",
       "       [5.192],\n",
       "       [5.191],\n",
       "       [5.175],\n",
       "       [5.082],\n",
       "       [5.044],\n",
       "       [5.011],\n",
       "       [4.996],\n",
       "       [4.944],\n",
       "       [4.913],\n",
       "       [4.906],\n",
       "       [4.883],\n",
       "       [4.812],\n",
       "       [4.799],\n",
       "       [4.796],\n",
       "       [4.722],\n",
       "       [4.719],\n",
       "       [4.707],\n",
       "       [4.7  ],\n",
       "       [4.696],\n",
       "       [4.681],\n",
       "       [4.668],\n",
       "       [4.639],\n",
       "       [4.628],\n",
       "       [4.587],\n",
       "       [4.559],\n",
       "       [4.548],\n",
       "       [4.534],\n",
       "       [4.519],\n",
       "       [4.516],\n",
       "       [4.509],\n",
       "       [4.49 ],\n",
       "       [4.466],\n",
       "       [4.461],\n",
       "       [4.456],\n",
       "       [4.437],\n",
       "       [4.418],\n",
       "       [4.39 ],\n",
       "       [4.374],\n",
       "       [4.366],\n",
       "       [4.36 ],\n",
       "       [4.35 ],\n",
       "       [4.332],\n",
       "       [4.286],\n",
       "       [4.212],\n",
       "       [4.189],\n",
       "       [4.166],\n",
       "       [4.107],\n",
       "       [4.085],\n",
       "       [4.015],\n",
       "       [3.975],\n",
       "       [3.973],\n",
       "       [3.933],\n",
       "       [3.802],\n",
       "       [3.775],\n",
       "       [3.663],\n",
       "       [3.597],\n",
       "       [3.488],\n",
       "       [3.462],\n",
       "       [3.41 ],\n",
       "       [3.38 ],\n",
       "       [3.334],\n",
       "       [3.231],\n",
       "       [3.203],\n",
       "       [3.083],\n",
       "       [2.853]])"
      ]
     },
     "execution_count": 9,
     "metadata": {},
     "output_type": "execute_result"
    }
   ],
   "source": [
    "x"
   ]
  },
  {
   "cell_type": "code",
   "execution_count": 10,
   "metadata": {},
   "outputs": [],
   "source": [
    "y=np.array([i for i in df['Healthy life expectancy']])"
   ]
  },
  {
   "cell_type": "code",
   "execution_count": 11,
   "metadata": {},
   "outputs": [
    {
     "data": {
      "text/plain": [
       "array([0.986, 0.996, 1.028, 1.026, 0.999, 1.052, 1.009, 1.026, 1.039,\n",
       "       1.016, 1.036, 0.963, 1.029, 1.012, 0.996, 0.999, 0.987, 0.986,\n",
       "       0.874, 0.92 , 0.825, 0.999, 0.861, 1.045, 0.914, 0.92 , 0.746,\n",
       "       0.795, 0.871, 1.062, 0.91 , 0.802, 0.891, 1.141, 0.789, 1.039,\n",
       "       0.871, 0.881, 0.713, 0.884, 0.756, 0.818, 0.841, 0.953, 0.835,\n",
       "       0.758, 0.881, 0.825, 1.042, 0.868, 0.808, 0.828, 0.812, 1.036,\n",
       "       0.874, 0.831, 0.798, 1.088, 0.828, 0.729, 0.706, 0.828, 0.777,\n",
       "       1.042, 0.854, 0.999, 0.535, 0.726, 0.657, 0.854, 0.739, 0.673,\n",
       "       0.871, 0.718, 0.914, 1.122, 0.779, 0.845, 0.808, 0.828, 0.789,\n",
       "       0.999, 0.667, 0.838, 0.245, 0.723, 0.657, 0.785, 0.782, 0.769,\n",
       "       0.815, 0.66 , 0.893, 0.851, 0.604, 0.331, 0.815, 0.486, 0.232,\n",
       "       0.677, 0.815, 0.397, 0.508, 0.571, 0.551, 0.469, 0.874, 0.805,\n",
       "       0.637, 0.672, 0.571, 0.268, 0.477, 0.366, 0.38 , 0.815, 0.785,\n",
       "       0.375, 0.752, 0.428, 0.581, 0.489, 0.39 , 0.815, 0.723, 0.574,\n",
       "       0.357, 0.308, 0.242, 0.831, 0.555, 0.192, 0.739, 0.532, 0.   ,\n",
       "       0.443, 0.644, 0.426, 0.41 , 0.588, 0.443, 0.505, 0.555, 0.168,\n",
       "       0.38 , 0.433, 0.449, 0.538, 0.44 , 0.495, 0.463, 0.614, 0.499,\n",
       "       0.361, 0.105, 0.295])"
      ]
     },
     "execution_count": 11,
     "metadata": {},
     "output_type": "execute_result"
    }
   ],
   "source": [
    "y"
   ]
  },
  {
   "cell_type": "code",
   "execution_count": 12,
   "metadata": {},
   "outputs": [
    {
     "data": {
      "text/plain": [
       "[<matplotlib.lines.Line2D at 0x7f7608a479a0>]"
      ]
     },
     "execution_count": 12,
     "metadata": {},
     "output_type": "execute_result"
    },
    {
     "data": {
      "image/png": "[encoded data removed]",
      "text/plain": [
       "<Figure size 432x288 with 1 Axes>"
      ]
     },
     "metadata": {
      "needs_background": "light"
     },
     "output_type": "display_data"
    }
   ],
   "source": [
    "plt.plot(x,y,'ro')"
   ]
  },
  {
   "cell_type": "code",
   "execution_count": 13,
   "metadata": {},
   "outputs": [],
   "source": [
    "from sklearn import linear_model"
   ]
  },
  {
   "cell_type": "code",
   "execution_count": 14,
   "metadata": {},
   "outputs": [],
   "source": [
    "ridge_model=linear_model.Ridge(alpha=.5)"
   ]
  },
  {
   "cell_type": "code",
   "execution_count": 15,
   "metadata": {},
   "outputs": [
    {
     "data": {
      "text/plain": [
       "Ridge(alpha=0.5)"
      ]
     },
     "execution_count": 15,
     "metadata": {},
     "output_type": "execute_result"
    }
   ],
   "source": [
    "ridge_model.fit(x,y)"
   ]
  },
  {
   "cell_type": "code",
   "execution_count": 16,
   "metadata": {},
   "outputs": [
    {
     "name": "stdout",
     "output_type": "stream",
     "text": [
      "-0.18962838395228188 , [0.16919839]\n"
     ]
    }
   ],
   "source": [
    "print(str(ridge_model.intercept_)+\" , \"+str(ridge_model.coef_))"
   ]
  },
  {
   "cell_type": "code",
   "execution_count": 17,
   "metadata": {},
   "outputs": [
    {
     "data": {
      "text/plain": [
       "[<matplotlib.lines.Line2D at 0x7f7606181c70>]"
      ]
     },
     "execution_count": 17,
     "metadata": {},
     "output_type": "execute_result"
    },
    {
     "data": {
      "image/png": "[encoded data removed]",
      "text/plain": [
       "<Figure size 432x288 with 1 Axes>"
      ]
     },
     "metadata": {
      "needs_background": "light"
     },
     "output_type": "display_data"
    }
   ],
   "source": [
    "plt.plot(x,y,'ro')\n",
    "plt.plot(x,ridge_model.intercept_+x*ridge_model.coef_[0])"
   ]
  },
  {
   "cell_type": "code",
   "execution_count": 18,
   "metadata": {},
   "outputs": [],
   "source": [
    "iterator=[]\n",
    "i=0.0\n",
    "while i<8.0:\n",
    "    iterator.append(i);\n",
    "    i+=0.1\n",
    "iterator=np.array(iterator)"
   ]
  },
  {
   "cell_type": "code",
   "execution_count": 19,
   "metadata": {},
   "outputs": [
    {
     "data": {
      "text/plain": [
       "[<matplotlib.lines.Line2D at 0x7f76060e92e0>]"
      ]
     },
     "execution_count": 19,
     "metadata": {},
     "output_type": "execute_result"
    },
    {
     "data": {
      "image/png": "[encoded data removed]",
      "text/plain": [
       "<Figure size 432x288 with 1 Axes>"
      ]
     },
     "metadata": {
      "needs_background": "light"
     },
     "output_type": "display_data"
    }
   ],
   "source": [
    "plt.plot(x,y,'ro')\n",
    "plt.plot(iterator,ridge_model.intercept_+iterator*ridge_model.coef_[0])"
   ]
  },
  {
   "cell_type": "code",
   "execution_count": 20,
   "metadata": {},
   "outputs": [
    {
     "data": {
      "text/plain": [
       "0.5"
      ]
     },
     "execution_count": 20,
     "metadata": {},
     "output_type": "execute_result"
    }
   ],
   "source": [
    "ridge_model.alpha"
   ]
  },
  {
   "cell_type": "code",
   "execution_count": 21,
   "metadata": {},
   "outputs": [
    {
     "data": {
      "text/plain": [
       "0.6082136252859252"
      ]
     },
     "execution_count": 21,
     "metadata": {},
     "output_type": "execute_result"
    }
   ],
   "source": [
    "ridge_model.score(x,y)"
   ]
  },
  {
   "cell_type": "code",
   "execution_count": 22,
   "metadata": {},
   "outputs": [],
   "source": [
    "from sklearn.preprocessing import PolynomialFeatures"
   ]
  },
  {
   "cell_type": "code",
   "execution_count": 23,
   "metadata": {},
   "outputs": [],
   "source": [
    "transformer = PolynomialFeatures(degree=2, include_bias=False)"
   ]
  },
  {
   "cell_type": "code",
   "execution_count": 24,
   "metadata": {},
   "outputs": [
    {
     "data": {
      "text/plain": [
       "PolynomialFeatures(include_bias=False)"
      ]
     },
     "execution_count": 24,
     "metadata": {},
     "output_type": "execute_result"
    }
   ],
   "source": [
    "transformer.fit(x)"
   ]
  },
  {
   "cell_type": "code",
   "execution_count": 25,
   "metadata": {},
   "outputs": [],
   "source": [
    "x_ = transformer.transform(x)"
   ]
  },
  {
   "cell_type": "code",
   "execution_count": 26,
   "metadata": {},
   "outputs": [
    {
     "data": {
      "text/plain": [
       "array([[ 7.769   , 60.357361],\n",
       "       [ 7.6     , 57.76    ],\n",
       "       [ 7.554   , 57.062916],\n",
       "       [ 7.494   , 56.160036],\n",
       "       [ 7.488   , 56.070144],\n",
       "       [ 7.48    , 55.9504  ],\n",
       "       [ 7.343   , 53.919649],\n",
       "       [ 7.307   , 53.392249],\n",
       "       [ 7.278   , 52.969284],\n",
       "       [ 7.246   , 52.504516],\n",
       "       [ 7.228   , 52.243984],\n",
       "       [ 7.167   , 51.365889],\n",
       "       [ 7.139   , 50.965321],\n",
       "       [ 7.09    , 50.2681  ],\n",
       "       [ 7.054   , 49.758916],\n",
       "       [ 7.021   , 49.294441],\n",
       "       [ 6.985   , 48.790225],\n",
       "       [ 6.923   , 47.927929],\n",
       "       [ 6.892   , 47.499664],\n",
       "       [ 6.852   , 46.949904],\n",
       "       [ 6.825   , 46.580625],\n",
       "       [ 6.726   , 45.239076],\n",
       "       [ 6.595   , 43.494025],\n",
       "       [ 6.592   , 43.454464],\n",
       "       [ 6.446   , 41.550916],\n",
       "       [ 6.444   , 41.525136],\n",
       "       [ 6.436   , 41.422096],\n",
       "       [ 6.375   , 40.640625],\n",
       "       [ 6.374   , 40.627876],\n",
       "       [ 6.354   , 40.373316],\n",
       "       [ 6.321   , 39.955041],\n",
       "       [ 6.3     , 39.69    ],\n",
       "       [ 6.293   , 39.601849],\n",
       "       [ 6.262   , 39.212644],\n",
       "       [ 6.253   , 39.100009],\n",
       "       [ 6.223   , 38.725729],\n",
       "       [ 6.199   , 38.427601],\n",
       "       [ 6.198   , 38.415204],\n",
       "       [ 6.192   , 38.340864],\n",
       "       [ 6.182   , 38.217124],\n",
       "       [ 6.174   , 38.118276],\n",
       "       [ 6.149   , 37.810201],\n",
       "       [ 6.125   , 37.515625],\n",
       "       [ 6.118   , 37.429924],\n",
       "       [ 6.105   , 37.271025],\n",
       "       [ 6.1     , 37.21    ],\n",
       "       [ 6.086   , 37.039396],\n",
       "       [ 6.07    , 36.8449  ],\n",
       "       [ 6.046   , 36.554116],\n",
       "       [ 6.028   , 36.336784],\n",
       "       [ 6.021   , 36.252441],\n",
       "       [ 6.008   , 36.096064],\n",
       "       [ 5.94    , 35.2836  ],\n",
       "       [ 5.895   , 34.751025],\n",
       "       [ 5.893   , 34.727449],\n",
       "       [ 5.89    , 34.6921  ],\n",
       "       [ 5.888   , 34.668544],\n",
       "       [ 5.886   , 34.644996],\n",
       "       [ 5.86    , 34.3396  ],\n",
       "       [ 5.809   , 33.744481],\n",
       "       [ 5.779   , 33.396841],\n",
       "       [ 5.758   , 33.154564],\n",
       "       [ 5.743   , 32.982049],\n",
       "       [ 5.718   , 32.695524],\n",
       "       [ 5.697   , 32.455809],\n",
       "       [ 5.693   , 32.410249],\n",
       "       [ 5.653   , 31.956409],\n",
       "       [ 5.648   , 31.899904],\n",
       "       [ 5.631   , 31.708161],\n",
       "       [ 5.603   , 31.393609],\n",
       "       [ 5.529   , 30.569841],\n",
       "       [ 5.525   , 30.525625],\n",
       "       [ 5.523   , 30.503529],\n",
       "       [ 5.467   , 29.888089],\n",
       "       [ 5.432   , 29.506624],\n",
       "       [ 5.43    , 29.4849  ],\n",
       "       [ 5.425   , 29.430625],\n",
       "       [ 5.386   , 29.008996],\n",
       "       [ 5.373   , 28.869129],\n",
       "       [ 5.339   , 28.504921],\n",
       "       [ 5.323   , 28.334329],\n",
       "       [ 5.287   , 27.952369],\n",
       "       [ 5.285   , 27.931225],\n",
       "       [ 5.274   , 27.815076],\n",
       "       [ 5.265   , 27.720225],\n",
       "       [ 5.261   , 27.678121],\n",
       "       [ 5.247   , 27.531009],\n",
       "       [ 5.211   , 27.154521],\n",
       "       [ 5.208   , 27.123264],\n",
       "       [ 5.208   , 27.123264],\n",
       "       [ 5.197   , 27.008809],\n",
       "       [ 5.192   , 26.956864],\n",
       "       [ 5.191   , 26.946481],\n",
       "       [ 5.175   , 26.780625],\n",
       "       [ 5.082   , 25.826724],\n",
       "       [ 5.044   , 25.441936],\n",
       "       [ 5.011   , 25.110121],\n",
       "       [ 4.996   , 24.960016],\n",
       "       [ 4.944   , 24.443136],\n",
       "       [ 4.913   , 24.137569],\n",
       "       [ 4.906   , 24.068836],\n",
       "       [ 4.883   , 23.843689],\n",
       "       [ 4.812   , 23.155344],\n",
       "       [ 4.799   , 23.030401],\n",
       "       [ 4.796   , 23.001616],\n",
       "       [ 4.722   , 22.297284],\n",
       "       [ 4.719   , 22.268961],\n",
       "       [ 4.707   , 22.155849],\n",
       "       [ 4.7     , 22.09    ],\n",
       "       [ 4.696   , 22.052416],\n",
       "       [ 4.681   , 21.911761],\n",
       "       [ 4.668   , 21.790224],\n",
       "       [ 4.639   , 21.520321],\n",
       "       [ 4.628   , 21.418384],\n",
       "       [ 4.587   , 21.040569],\n",
       "       [ 4.559   , 20.784481],\n",
       "       [ 4.548   , 20.684304],\n",
       "       [ 4.534   , 20.557156],\n",
       "       [ 4.519   , 20.421361],\n",
       "       [ 4.516   , 20.394256],\n",
       "       [ 4.509   , 20.331081],\n",
       "       [ 4.49    , 20.1601  ],\n",
       "       [ 4.466   , 19.945156],\n",
       "       [ 4.461   , 19.900521],\n",
       "       [ 4.456   , 19.855936],\n",
       "       [ 4.437   , 19.686969],\n",
       "       [ 4.418   , 19.518724],\n",
       "       [ 4.39    , 19.2721  ],\n",
       "       [ 4.374   , 19.131876],\n",
       "       [ 4.366   , 19.061956],\n",
       "       [ 4.36    , 19.0096  ],\n",
       "       [ 4.35    , 18.9225  ],\n",
       "       [ 4.332   , 18.766224],\n",
       "       [ 4.286   , 18.369796],\n",
       "       [ 4.212   , 17.740944],\n",
       "       [ 4.189   , 17.547721],\n",
       "       [ 4.166   , 17.355556],\n",
       "       [ 4.107   , 16.867449],\n",
       "       [ 4.085   , 16.687225],\n",
       "       [ 4.015   , 16.120225],\n",
       "       [ 3.975   , 15.800625],\n",
       "       [ 3.973   , 15.784729],\n",
       "       [ 3.933   , 15.468489],\n",
       "       [ 3.802   , 14.455204],\n",
       "       [ 3.775   , 14.250625],\n",
       "       [ 3.663   , 13.417569],\n",
       "       [ 3.597   , 12.938409],\n",
       "       [ 3.488   , 12.166144],\n",
       "       [ 3.462   , 11.985444],\n",
       "       [ 3.41    , 11.6281  ],\n",
       "       [ 3.38    , 11.4244  ],\n",
       "       [ 3.334   , 11.115556],\n",
       "       [ 3.231   , 10.439361],\n",
       "       [ 3.203   , 10.259209],\n",
       "       [ 3.083   ,  9.504889],\n",
       "       [ 2.853   ,  8.139609]])"
      ]
     },
     "execution_count": 26,
     "metadata": {},
     "output_type": "execute_result"
    }
   ],
   "source": [
    "x_"
   ]
  },
  {
   "cell_type": "code",
   "execution_count": 27,
   "metadata": {},
   "outputs": [],
   "source": [
    "ridge_model2=linear_model.Ridge(alpha=.0).fit(x_,y)"
   ]
  },
  {
   "cell_type": "code",
   "execution_count": 28,
   "metadata": {},
   "outputs": [
    {
     "data": {
      "text/plain": [
       "array([ 0.27472589, -0.00970621])"
      ]
     },
     "execution_count": 28,
     "metadata": {},
     "output_type": "execute_result"
    }
   ],
   "source": [
    "ridge_model2.coef_"
   ]
  },
  {
   "cell_type": "code",
   "execution_count": 29,
   "metadata": {},
   "outputs": [
    {
     "data": {
      "text/plain": [
       "[<matplotlib.lines.Line2D at 0x7f76060cb9d0>]"
      ]
     },
     "execution_count": 29,
     "metadata": {},
     "output_type": "execute_result"
    },
    {
     "data": {
      "image/png": "[encoded data removed]",
      "text/plain": [
       "<Figure size 432x288 with 1 Axes>"
      ]
     },
     "metadata": {
      "needs_background": "light"
     },
     "output_type": "display_data"
    }
   ],
   "source": [
    "plt.plot(x,y,'ro')\n",
    "plt.plot(iterator,ridge_model2.intercept_+iterator*ridge_model2.coef_[0]+iterator*iterator*ridge_model2.coef_[1])"
   ]
  },
  {
   "cell_type": "code",
   "execution_count": 30,
   "metadata": {},
   "outputs": [
    {
     "data": {
      "text/plain": [
       "0.6115824110253937"
      ]
     },
     "execution_count": 30,
     "metadata": {},
     "output_type": "execute_result"
    }
   ],
   "source": [
    "ridge_model2.score(x_,y)"
   ]
  },
  {
   "cell_type": "code",
   "execution_count": 31,
   "metadata": {},
   "outputs": [],
   "source": [
    "#better result in ridge_model2 "
   ]
  },
  {
   "cell_type": "code",
   "execution_count": 32,
   "metadata": {},
   "outputs": [],
   "source": [
    "transformer3 = PolynomialFeatures(degree=3, include_bias=False)"
   ]
  },
  {
   "cell_type": "code",
   "execution_count": 33,
   "metadata": {},
   "outputs": [
    {
     "data": {
      "text/plain": [
       "PolynomialFeatures(degree=3, include_bias=False)"
      ]
     },
     "execution_count": 33,
     "metadata": {},
     "output_type": "execute_result"
    }
   ],
   "source": [
    "transformer3.fit(x)"
   ]
  },
  {
   "cell_type": "code",
   "execution_count": 34,
   "metadata": {},
   "outputs": [],
   "source": [
    "x__=transformer3.transform(x)"
   ]
  },
  {
   "cell_type": "code",
   "execution_count": 35,
   "metadata": {},
   "outputs": [
    {
     "data": {
      "text/plain": [
       "array([[  7.769     ,  60.357361  , 468.91633761],\n",
       "       [  7.6       ,  57.76      , 438.976     ],\n",
       "       [  7.554     ,  57.062916  , 431.05326746],\n",
       "       [  7.494     ,  56.160036  , 420.86330978],\n",
       "       [  7.488     ,  56.070144  , 419.85323827],\n",
       "       [  7.48      ,  55.9504    , 418.508992  ],\n",
       "       [  7.343     ,  53.919649  , 395.93198261],\n",
       "       [  7.307     ,  53.392249  , 390.13716344],\n",
       "       [  7.278     ,  52.969284  , 385.51044895],\n",
       "       [  7.246     ,  52.504516  , 380.44772294],\n",
       "       [  7.228     ,  52.243984  , 377.61951635],\n",
       "       [  7.167     ,  51.365889  , 368.13932646],\n",
       "       [  7.139     ,  50.965321  , 363.84142662],\n",
       "       [  7.09      ,  50.2681    , 356.400829  ],\n",
       "       [  7.054     ,  49.758916  , 350.99939346],\n",
       "       [  7.021     ,  49.294441  , 346.09627026],\n",
       "       [  6.985     ,  48.790225  , 340.79972163],\n",
       "       [  6.923     ,  47.927929  , 331.80505247],\n",
       "       [  6.892     ,  47.499664  , 327.36768429],\n",
       "       [  6.852     ,  46.949904  , 321.70074221],\n",
       "       [  6.825     ,  46.580625  , 317.91276563],\n",
       "       [  6.726     ,  45.239076  , 304.27802518],\n",
       "       [  6.595     ,  43.494025  , 286.84309487],\n",
       "       [  6.592     ,  43.454464  , 286.45182669],\n",
       "       [  6.446     ,  41.550916  , 267.83720454],\n",
       "       [  6.444     ,  41.525136  , 267.58797638],\n",
       "       [  6.436     ,  41.422096  , 266.59260986],\n",
       "       [  6.375     ,  40.640625  , 259.08398438],\n",
       "       [  6.374     ,  40.627876  , 258.96208162],\n",
       "       [  6.354     ,  40.373316  , 256.53204986],\n",
       "       [  6.321     ,  39.955041  , 252.55581416],\n",
       "       [  6.3       ,  39.69      , 250.047     ],\n",
       "       [  6.293     ,  39.601849  , 249.21443576],\n",
       "       [  6.262     ,  39.212644  , 245.54957673],\n",
       "       [  6.253     ,  39.100009  , 244.49235628],\n",
       "       [  6.223     ,  38.725729  , 240.99021157],\n",
       "       [  6.199     ,  38.427601  , 238.2126986 ],\n",
       "       [  6.198     ,  38.415204  , 238.09743439],\n",
       "       [  6.192     ,  38.340864  , 237.40662989],\n",
       "       [  6.182     ,  38.217124  , 236.25826057],\n",
       "       [  6.174     ,  38.118276  , 235.34223602],\n",
       "       [  6.149     ,  37.810201  , 232.49492595],\n",
       "       [  6.125     ,  37.515625  , 229.78320312],\n",
       "       [  6.118     ,  37.429924  , 228.99627503],\n",
       "       [  6.105     ,  37.271025  , 227.53960763],\n",
       "       [  6.1       ,  37.21      , 226.981     ],\n",
       "       [  6.086     ,  37.039396  , 225.42176406],\n",
       "       [  6.07      ,  36.8449    , 223.648543  ],\n",
       "       [  6.046     ,  36.554116  , 221.00618534],\n",
       "       [  6.028     ,  36.336784  , 219.03813395],\n",
       "       [  6.021     ,  36.252441  , 218.27594726],\n",
       "       [  6.008     ,  36.096064  , 216.86515251],\n",
       "       [  5.94      ,  35.2836    , 209.584584  ],\n",
       "       [  5.895     ,  34.751025  , 204.85729237],\n",
       "       [  5.893     ,  34.727449  , 204.64885696],\n",
       "       [  5.89      ,  34.6921    , 204.336469  ],\n",
       "       [  5.888     ,  34.668544  , 204.12838707],\n",
       "       [  5.886     ,  34.644996  , 203.92044646],\n",
       "       [  5.86      ,  34.3396    , 201.230056  ],\n",
       "       [  5.809     ,  33.744481  , 196.02169013],\n",
       "       [  5.779     ,  33.396841  , 193.00034414],\n",
       "       [  5.758     ,  33.154564  , 190.90397951],\n",
       "       [  5.743     ,  32.982049  , 189.41590741],\n",
       "       [  5.718     ,  32.695524  , 186.95300623],\n",
       "       [  5.697     ,  32.455809  , 184.90074387],\n",
       "       [  5.693     ,  32.410249  , 184.51154756],\n",
       "       [  5.653     ,  31.956409  , 180.64958008],\n",
       "       [  5.648     ,  31.899904  , 180.17065779],\n",
       "       [  5.631     ,  31.708161  , 178.54865459],\n",
       "       [  5.603     ,  31.393609  , 175.89839123],\n",
       "       [  5.529     ,  30.569841  , 169.02065089],\n",
       "       [  5.525     ,  30.525625  , 168.65407813],\n",
       "       [  5.523     ,  30.503529  , 168.47099067],\n",
       "       [  5.467     ,  29.888089  , 163.39818256],\n",
       "       [  5.432     ,  29.506624  , 160.27998157],\n",
       "       [  5.43      ,  29.4849    , 160.103007  ],\n",
       "       [  5.425     ,  29.430625  , 159.66114063],\n",
       "       [  5.386     ,  29.008996  , 156.24245246],\n",
       "       [  5.373     ,  28.869129  , 155.11383012],\n",
       "       [  5.339     ,  28.504921  , 152.18777322],\n",
       "       [  5.323     ,  28.334329  , 150.82363327],\n",
       "       [  5.287     ,  27.952369  , 147.7841749 ],\n",
       "       [  5.285     ,  27.931225  , 147.61652413],\n",
       "       [  5.274     ,  27.815076  , 146.69671082],\n",
       "       [  5.265     ,  27.720225  , 145.94698462],\n",
       "       [  5.261     ,  27.678121  , 145.61459458],\n",
       "       [  5.247     ,  27.531009  , 144.45520422],\n",
       "       [  5.211     ,  27.154521  , 141.50220893],\n",
       "       [  5.208     ,  27.123264  , 141.25795891],\n",
       "       [  5.208     ,  27.123264  , 141.25795891],\n",
       "       [  5.197     ,  27.008809  , 140.36478037],\n",
       "       [  5.192     ,  26.956864  , 139.96003789],\n",
       "       [  5.191     ,  26.946481  , 139.87918287],\n",
       "       [  5.175     ,  26.780625  , 138.58973437],\n",
       "       [  5.082     ,  25.826724  , 131.25141137],\n",
       "       [  5.044     ,  25.441936  , 128.32912518],\n",
       "       [  5.011     ,  25.110121  , 125.82681633],\n",
       "       [  4.996     ,  24.960016  , 124.70023994],\n",
       "       [  4.944     ,  24.443136  , 120.84686438],\n",
       "       [  4.913     ,  24.137569  , 118.5878765 ],\n",
       "       [  4.906     ,  24.068836  , 118.08170942],\n",
       "       [  4.883     ,  23.843689  , 116.42873339],\n",
       "       [  4.812     ,  23.155344  , 111.42351533],\n",
       "       [  4.799     ,  23.030401  , 110.5228944 ],\n",
       "       [  4.796     ,  23.001616  , 110.31575034],\n",
       "       [  4.722     ,  22.297284  , 105.28777505],\n",
       "       [  4.719     ,  22.268961  , 105.08722696],\n",
       "       [  4.707     ,  22.155849  , 104.28758124],\n",
       "       [  4.7       ,  22.09      , 103.823     ],\n",
       "       [  4.696     ,  22.052416  , 103.55814554],\n",
       "       [  4.681     ,  21.911761  , 102.56895324],\n",
       "       [  4.668     ,  21.790224  , 101.71676563],\n",
       "       [  4.639     ,  21.520321  ,  99.83276912],\n",
       "       [  4.628     ,  21.418384  ,  99.12428115],\n",
       "       [  4.587     ,  21.040569  ,  96.51309   ],\n",
       "       [  4.559     ,  20.784481  ,  94.75644888],\n",
       "       [  4.548     ,  20.684304  ,  94.07221459],\n",
       "       [  4.534     ,  20.557156  ,  93.2061453 ],\n",
       "       [  4.519     ,  20.421361  ,  92.28413036],\n",
       "       [  4.516     ,  20.394256  ,  92.1004601 ],\n",
       "       [  4.509     ,  20.331081  ,  91.67284423],\n",
       "       [  4.49      ,  20.1601    ,  90.518849  ],\n",
       "       [  4.466     ,  19.945156  ,  89.0750667 ],\n",
       "       [  4.461     ,  19.900521  ,  88.77622418],\n",
       "       [  4.456     ,  19.855936  ,  88.47805082],\n",
       "       [  4.437     ,  19.686969  ,  87.35108145],\n",
       "       [  4.418     ,  19.518724  ,  86.23372263],\n",
       "       [  4.39      ,  19.2721    ,  84.604519  ],\n",
       "       [  4.374     ,  19.131876  ,  83.68282562],\n",
       "       [  4.366     ,  19.061956  ,  83.2244999 ],\n",
       "       [  4.36      ,  19.0096    ,  82.881856  ],\n",
       "       [  4.35      ,  18.9225    ,  82.312875  ],\n",
       "       [  4.332     ,  18.766224  ,  81.29528237],\n",
       "       [  4.286     ,  18.369796  ,  78.73294566],\n",
       "       [  4.212     ,  17.740944  ,  74.72485613],\n",
       "       [  4.189     ,  17.547721  ,  73.50740327],\n",
       "       [  4.166     ,  17.355556  ,  72.3032463 ],\n",
       "       [  4.107     ,  16.867449  ,  69.27461304],\n",
       "       [  4.085     ,  16.687225  ,  68.16731412],\n",
       "       [  4.015     ,  16.120225  ,  64.72270337],\n",
       "       [  3.975     ,  15.800625  ,  62.80748438],\n",
       "       [  3.973     ,  15.784729  ,  62.71272832],\n",
       "       [  3.933     ,  15.468489  ,  60.83756724],\n",
       "       [  3.802     ,  14.455204  ,  54.95868561],\n",
       "       [  3.775     ,  14.250625  ,  53.79610937],\n",
       "       [  3.663     ,  13.417569  ,  49.14855525],\n",
       "       [  3.597     ,  12.938409  ,  46.53945717],\n",
       "       [  3.488     ,  12.166144  ,  42.43551027],\n",
       "       [  3.462     ,  11.985444  ,  41.49360713],\n",
       "       [  3.41      ,  11.6281    ,  39.651821  ],\n",
       "       [  3.38      ,  11.4244    ,  38.614472  ],\n",
       "       [  3.334     ,  11.115556  ,  37.0592637 ],\n",
       "       [  3.231     ,  10.439361  ,  33.72957539],\n",
       "       [  3.203     ,  10.259209  ,  32.86024643],\n",
       "       [  3.083     ,   9.504889  ,  29.30357279],\n",
       "       [  2.853     ,   8.139609  ,  23.22230448]])"
      ]
     },
     "execution_count": 35,
     "metadata": {},
     "output_type": "execute_result"
    }
   ],
   "source": [
    "x__"
   ]
  },
  {
   "cell_type": "code",
   "execution_count": 36,
   "metadata": {},
   "outputs": [],
   "source": [
    "ridge_model3=linear_model.Ridge(alpha=.5).fit(x__,y)"
   ]
  },
  {
   "cell_type": "code",
   "execution_count": 37,
   "metadata": {},
   "outputs": [
    {
     "data": {
      "text/plain": [
       "array([-0.11139739,  0.06685903, -0.00487191])"
      ]
     },
     "execution_count": 37,
     "metadata": {},
     "output_type": "execute_result"
    }
   ],
   "source": [
    "ridge_model3.coef_"
   ]
  },
  {
   "cell_type": "code",
   "execution_count": 38,
   "metadata": {},
   "outputs": [
    {
     "data": {
      "text/plain": [
       "[<matplotlib.lines.Line2D at 0x7f7605c023a0>]"
      ]
     },
     "execution_count": 38,
     "metadata": {},
     "output_type": "execute_result"
    },
    {
     "data": {
      "image/png": "[encoded data removed]",
      "text/plain": [
       "<Figure size 432x288 with 1 Axes>"
      ]
     },
     "metadata": {
      "needs_background": "light"
     },
     "output_type": "display_data"
    }
   ],
   "source": [
    "plt.plot(x,y,'ro')\n",
    "plt.plot(iterator,ridge_model3.intercept_+iterator*ridge_model3.coef_[0]+iterator*iterator*ridge_model3.coef_[1]+(iterator**3)*ridge_model3.coef_[2])"
   ]
  },
  {
   "cell_type": "code",
   "execution_count": 39,
   "metadata": {},
   "outputs": [
    {
     "data": {
      "text/plain": [
       "0.6184349109025267"
      ]
     },
     "execution_count": 39,
     "metadata": {},
     "output_type": "execute_result"
    }
   ],
   "source": [
    "ridge_model3.score(x__,y)"
   ]
  },
  {
   "cell_type": "code",
   "execution_count": 40,
   "metadata": {},
   "outputs": [],
   "source": [
    "#better"
   ]
  },
  {
   "cell_type": "code",
   "execution_count": 41,
   "metadata": {},
   "outputs": [],
   "source": [
    "lasso_model=linear_model.Lasso(alpha=0.1)"
   ]
  },
  {
   "cell_type": "code",
   "execution_count": 42,
   "metadata": {},
   "outputs": [
    {
     "data": {
      "text/plain": [
       "Lasso(alpha=0.1)"
      ]
     },
     "execution_count": 42,
     "metadata": {},
     "output_type": "execute_result"
    }
   ],
   "source": [
    "lasso_model.fit(x,y)"
   ]
  },
  {
   "cell_type": "code",
   "execution_count": 43,
   "metadata": {},
   "outputs": [
    {
     "data": {
      "text/plain": [
       "0.24720067790351896"
      ]
     },
     "execution_count": 43,
     "metadata": {},
     "output_type": "execute_result"
    }
   ],
   "source": [
    "lasso_model.intercept_"
   ]
  },
  {
   "cell_type": "code",
   "execution_count": 44,
   "metadata": {},
   "outputs": [
    {
     "data": {
      "text/plain": [
       "array([0.08841028])"
      ]
     },
     "execution_count": 44,
     "metadata": {},
     "output_type": "execute_result"
    }
   ],
   "source": [
    "lasso_model.coef_"
   ]
  },
  {
   "cell_type": "code",
   "execution_count": 45,
   "metadata": {
    "scrolled": true
   },
   "outputs": [
    {
     "data": {
      "text/plain": [
       "[<matplotlib.lines.Line2D at 0x7f7605b65340>]"
      ]
     },
     "execution_count": 45,
     "metadata": {},
     "output_type": "execute_result"
    },
    {
     "data": {
      "image/png": "[encoded data removed]",
      "text/plain": [
       "<Figure size 432x288 with 1 Axes>"
      ]
     },
     "metadata": {
      "needs_background": "light"
     },
     "output_type": "display_data"
    }
   ],
   "source": [
    "plt.plot(x,y,'ro')\n",
    "plt.plot(iterator,lasso_model.intercept_+iterator*lasso_model.coef_)"
   ]
  },
  {
   "cell_type": "code",
   "execution_count": 46,
   "metadata": {},
   "outputs": [
    {
     "data": {
      "text/plain": [
       "[<matplotlib.lines.Line2D at 0x7f7605b460a0>]"
      ]
     },
     "execution_count": 46,
     "metadata": {},
     "output_type": "execute_result"
    },
    {
     "data": {
      "image/png": "[encoded data removed]",
      "text/plain": [
       "<Figure size 432x288 with 1 Axes>"
      ]
     },
     "metadata": {
      "needs_background": "light"
     },
     "output_type": "display_data"
    }
   ],
   "source": [
    "plt.plot(x,y,'ro')\n",
    "plt.plot(x,lasso_model.intercept_+x*lasso_model.coef_[0])"
   ]
  },
  {
   "cell_type": "code",
   "execution_count": 47,
   "metadata": {},
   "outputs": [
    {
     "data": {
      "text/plain": [
       "0.46876524189324187"
      ]
     },
     "execution_count": 47,
     "metadata": {},
     "output_type": "execute_result"
    }
   ],
   "source": [
    "lasso_model.score(x,y)"
   ]
  },
  {
   "cell_type": "code",
   "execution_count": 48,
   "metadata": {},
   "outputs": [],
   "source": [
    "lasso_model2=linear_model.Lasso(alpha=0.1).fit(x_,y)"
   ]
  },
  {
   "cell_type": "code",
   "execution_count": 49,
   "metadata": {},
   "outputs": [
    {
     "data": {
      "text/plain": [
       "array([0.        , 0.01462475])"
      ]
     },
     "execution_count": 49,
     "metadata": {},
     "output_type": "execute_result"
    }
   ],
   "source": [
    "lasso_model2.coef_"
   ]
  },
  {
   "cell_type": "code",
   "execution_count": 50,
   "metadata": {},
   "outputs": [
    {
     "data": {
      "text/plain": [
       "[<matplotlib.lines.Line2D at 0x7f7605b1b280>]"
      ]
     },
     "execution_count": 50,
     "metadata": {},
     "output_type": "execute_result"
    },
    {
     "data": {
      "image/png": "[encoded data removed]",
      "text/plain": [
       "<Figure size 432x288 with 1 Axes>"
      ]
     },
     "metadata": {
      "needs_background": "light"
     },
     "output_type": "display_data"
    }
   ],
   "source": [
    "plt.plot(x,y,'ro')\n",
    "plt.plot(iterator,lasso_model2.intercept_+iterator*lasso_model2.coef_[0]+iterator*iterator*lasso_model2.coef_[1])"
   ]
  },
  {
   "cell_type": "code",
   "execution_count": 51,
   "metadata": {},
   "outputs": [
    {
     "data": {
      "text/plain": [
       "0.5877407865523933"
      ]
     },
     "execution_count": 51,
     "metadata": {},
     "output_type": "execute_result"
    }
   ],
   "source": [
    "lasso_model2.score(x_,y)"
   ]
  },
  {
   "cell_type": "code",
   "execution_count": 52,
   "metadata": {},
   "outputs": [],
   "source": [
    "lasso_model3=linear_model.Lasso(alpha=0.1).fit(x__,y)"
   ]
  },
  {
   "cell_type": "code",
   "execution_count": 53,
   "metadata": {},
   "outputs": [
    {
     "data": {
      "text/plain": [
       "array([0.        , 0.        , 0.00172817])"
      ]
     },
     "execution_count": 53,
     "metadata": {},
     "output_type": "execute_result"
    }
   ],
   "source": [
    "lasso_model3.coef_"
   ]
  },
  {
   "cell_type": "code",
   "execution_count": 54,
   "metadata": {},
   "outputs": [
    {
     "data": {
      "text/plain": [
       "[<matplotlib.lines.Line2D at 0x7f7605a789d0>]"
      ]
     },
     "execution_count": 54,
     "metadata": {},
     "output_type": "execute_result"
    },
    {
     "data": {
      "image/png": "[encoded data removed]",
      "text/plain": [
       "<Figure size 432x288 with 1 Axes>"
      ]
     },
     "metadata": {
      "needs_background": "light"
     },
     "output_type": "display_data"
    }
   ],
   "source": [
    "plt.plot(x,y,'ro')\n",
    "plt.plot(iterator,lasso_model3.intercept_+iterator*lasso_model3.coef_[0]+iterator*iterator*lasso_model3.coef_[1]+(iterator**3)*lasso_model3.coef_[2])"
   ]
  },
  {
   "cell_type": "code",
   "execution_count": 55,
   "metadata": {},
   "outputs": [
    {
     "data": {
      "text/plain": [
       "0.5546478158448453"
      ]
     },
     "execution_count": 55,
     "metadata": {},
     "output_type": "execute_result"
    }
   ],
   "source": [
    "lasso_model3.score(x__,y)"
   ]
  },
  {
   "cell_type": "code",
   "execution_count": 56,
   "metadata": {},
   "outputs": [],
   "source": [
    "#worse result"
   ]
  },
  {
   "cell_type": "code",
   "execution_count": 57,
   "metadata": {},
   "outputs": [],
   "source": [
    "from sklearn.datasets import make_regression"
   ]
  },
  {
   "cell_type": "code",
   "execution_count": 58,
   "metadata": {},
   "outputs": [],
   "source": [
    "x=np.array([i for i in df['Score']]).reshape(-1,1)"
   ]
  },
  {
   "cell_type": "code",
   "execution_count": 59,
   "metadata": {},
   "outputs": [],
   "source": [
    "y=np.array([i for i in df['Healthy life expectancy']])"
   ]
  },
  {
   "cell_type": "code",
   "execution_count": 60,
   "metadata": {},
   "outputs": [],
   "source": [
    "elastic_model=linear_model.ElasticNet(normalize=True,alpha=0.001,l1_ratio=0.75)"
   ]
  },
  {
   "cell_type": "code",
   "execution_count": 61,
   "metadata": {},
   "outputs": [
    {
     "data": {
      "text/plain": [
       "ElasticNet(alpha=0.001, l1_ratio=0.75, normalize=True)"
      ]
     },
     "execution_count": 61,
     "metadata": {},
     "output_type": "execute_result"
    }
   ],
   "source": [
    "elastic_model.fit(x,y)"
   ]
  },
  {
   "cell_type": "code",
   "execution_count": 62,
   "metadata": {},
   "outputs": [
    {
     "data": {
      "text/plain": [
       "array([0.15514558])"
      ]
     },
     "execution_count": 62,
     "metadata": {},
     "output_type": "execute_result"
    }
   ],
   "source": [
    "elastic_model.coef_"
   ]
  },
  {
   "cell_type": "code",
   "execution_count": 63,
   "metadata": {},
   "outputs": [
    {
     "data": {
      "text/plain": [
       "-0.11364349366847393"
      ]
     },
     "execution_count": 63,
     "metadata": {},
     "output_type": "execute_result"
    }
   ],
   "source": [
    "elastic_model.intercept_\n"
   ]
  },
  {
   "cell_type": "code",
   "execution_count": 64,
   "metadata": {},
   "outputs": [
    {
     "data": {
      "text/plain": [
       "[<matplotlib.lines.Line2D at 0x7f76058d9ac0>]"
      ]
     },
     "execution_count": 64,
     "metadata": {},
     "output_type": "execute_result"
    },
    {
     "data": {
      "image/png": "[encoded data removed]",
      "text/plain": [
       "<Figure size 432x288 with 1 Axes>"
      ]
     },
     "metadata": {
      "needs_background": "light"
     },
     "output_type": "display_data"
    }
   ],
   "source": [
    "plt.plot(x,y,'ro')\n",
    "plt.plot(iterator,elastic_model.intercept_+iterator*elastic_model.coef_[0])"
   ]
  },
  {
   "cell_type": "code",
   "execution_count": 65,
   "metadata": {},
   "outputs": [
    {
     "data": {
      "text/plain": [
       "0.6037781289933192"
      ]
     },
     "execution_count": 65,
     "metadata": {},
     "output_type": "execute_result"
    }
   ],
   "source": [
    "elastic_model.score(x,y)"
   ]
  },
  {
   "cell_type": "code",
   "execution_count": 66,
   "metadata": {},
   "outputs": [],
   "source": [
    "elastic_model2=linear_model.ElasticNet(normalize=True,alpha=0.001,l1_ratio=0.75)"
   ]
  },
  {
   "cell_type": "code",
   "execution_count": 67,
   "metadata": {},
   "outputs": [
    {
     "data": {
      "text/plain": [
       "ElasticNet(alpha=0.001, l1_ratio=0.75, normalize=True)"
      ]
     },
     "execution_count": 67,
     "metadata": {},
     "output_type": "execute_result"
    }
   ],
   "source": [
    "elastic_model2.fit(x_,y)"
   ]
  },
  {
   "cell_type": "code",
   "execution_count": 68,
   "metadata": {},
   "outputs": [
    {
     "data": {
      "text/plain": [
       "array([0.10818722, 0.00450729])"
      ]
     },
     "execution_count": 68,
     "metadata": {},
     "output_type": "execute_result"
    }
   ],
   "source": [
    "elastic_model2.coef_"
   ]
  },
  {
   "cell_type": "code",
   "execution_count": 69,
   "metadata": {},
   "outputs": [
    {
     "data": {
      "text/plain": [
       "[<matplotlib.lines.Line2D at 0x7f7605ae2550>]"
      ]
     },
     "execution_count": 69,
     "metadata": {},
     "output_type": "execute_result"
    },
    {
     "data": {
      "image/png": "[encoded data removed]",
      "text/plain": [
       "<Figure size 432x288 with 1 Axes>"
      ]
     },
     "metadata": {
      "needs_background": "light"
     },
     "output_type": "display_data"
    }
   ],
   "source": [
    "plt.plot(x,y,'ro')\n",
    "plt.plot(iterator,elastic_model2.intercept_+iterator*elastic_model2.coef_[0]+iterator*iterator*elastic_model2.coef_[1])"
   ]
  },
  {
   "cell_type": "code",
   "execution_count": 70,
   "metadata": {},
   "outputs": [
    {
     "data": {
      "text/plain": [
       "0.6009838969640443"
      ]
     },
     "execution_count": 70,
     "metadata": {},
     "output_type": "execute_result"
    }
   ],
   "source": [
    "elastic_model2.score(x_,y)"
   ]
  },
  {
   "cell_type": "code",
   "execution_count": 71,
   "metadata": {},
   "outputs": [],
   "source": [
    "elastic_model3=linear_model.ElasticNet(normalize=True,alpha=0.001,l1_ratio=0.75)"
   ]
  },
  {
   "cell_type": "code",
   "execution_count": 72,
   "metadata": {
    "scrolled": true
   },
   "outputs": [
    {
     "data": {
      "text/plain": [
       "ElasticNet(alpha=0.001, l1_ratio=0.75, normalize=True)"
      ]
     },
     "execution_count": 72,
     "metadata": {},
     "output_type": "execute_result"
    }
   ],
   "source": [
    "elastic_model3.fit(x__,y)"
   ]
  },
  {
   "cell_type": "code",
   "execution_count": 73,
   "metadata": {},
   "outputs": [
    {
     "data": {
      "text/plain": [
       "array([0.10818722, 0.00450729, 0.        ])"
      ]
     },
     "execution_count": 73,
     "metadata": {},
     "output_type": "execute_result"
    }
   ],
   "source": [
    "elastic_model3.coef_"
   ]
  },
  {
   "cell_type": "code",
   "execution_count": 74,
   "metadata": {},
   "outputs": [
    {
     "data": {
      "text/plain": [
       "[<matplotlib.lines.Line2D at 0x7f7605807400>]"
      ]
     },
     "execution_count": 74,
     "metadata": {},
     "output_type": "execute_result"
    },
    {
     "data": {
      "image/png": "[encoded data removed]",
      "text/plain": [
       "<Figure size 432x288 with 1 Axes>"
      ]
     },
     "metadata": {
      "needs_background": "light"
     },
     "output_type": "display_data"
    }
   ],
   "source": [
    "plt.plot(x,y,'ro')\n",
    "plt.plot(iterator,elastic_model3.intercept_+iterator*elastic_model3.coef_[0]+iterator*iterator*elastic_model3.coef_[1]+(iterator**3)*elastic_model3.coef_[2])"
   ]
  },
  {
   "cell_type": "code",
   "execution_count": 75,
   "metadata": {},
   "outputs": [
    {
     "data": {
      "text/plain": [
       "0.6009838969640443"
      ]
     },
     "execution_count": 75,
     "metadata": {},
     "output_type": "execute_result"
    }
   ],
   "source": [
    "elastic_model3.score(x__,y)"
   ]
  },
  {
   "cell_type": "code",
   "execution_count": 76,
   "metadata": {},
   "outputs": [
    {
     "name": "stdout",
     "output_type": "stream",
     "text": [
      "PolynomialFeatures\t df\t elastic_model\t elastic_model2\t elastic_model3\t i\t iterator\t lasso_model\t lasso_model2\t \n",
      "lasso_model3\t linear_model\t make_regression\t np\t pd\t plt\t ridge_model\t ridge_model2\t ridge_model3\t \n",
      "transformer\t transformer3\t x\t x_\t x__\t y\t \n"
     ]
    }
   ],
   "source": [
    "%who"
   ]
  },
  {
   "cell_type": "code",
   "execution_count": 78,
   "metadata": {},
   "outputs": [],
   "source": [
    "from sklearn.ensemble import VotingRegressor"
   ]
  },
  {
   "cell_type": "code",
   "execution_count": 79,
   "metadata": {},
   "outputs": [],
   "source": [
    "lasso=linear_model.Lasso(alpha=0.1)"
   ]
  },
  {
   "cell_type": "code",
   "execution_count": 80,
   "metadata": {},
   "outputs": [],
   "source": [
    "ridge=linear_model.Ridge(alpha=.5)"
   ]
  },
  {
   "cell_type": "code",
   "execution_count": 81,
   "metadata": {},
   "outputs": [],
   "source": [
    "elastic=linear_model.ElasticNet(alpha=0.001)"
   ]
  },
  {
   "cell_type": "code",
   "execution_count": 82,
   "metadata": {},
   "outputs": [],
   "source": [
    "vr=VotingRegressor([('la',lasso),('ri',ridge),('el',elastic)])"
   ]
  },
  {
   "cell_type": "code",
   "execution_count": 83,
   "metadata": {},
   "outputs": [
    {
     "data": {
      "text/plain": [
       "VotingRegressor(estimators=[('la', Lasso(alpha=0.1)), ('ri', Ridge(alpha=0.5)),\n",
       "                            ('el', ElasticNet(alpha=0.001))])"
      ]
     },
     "execution_count": 83,
     "metadata": {},
     "output_type": "execute_result"
    }
   ],
   "source": [
    "vr.fit(x,y)"
   ]
  },
  {
   "cell_type": "code",
   "execution_count": 84,
   "metadata": {},
   "outputs": [
    {
     "data": {
      "text/plain": [
       "0.5923718231107065"
      ]
     },
     "execution_count": 84,
     "metadata": {},
     "output_type": "execute_result"
    }
   ],
   "source": [
    "vr.score(x,y)"
   ]
  },
  {
   "cell_type": "code",
   "execution_count": 85,
   "metadata": {},
   "outputs": [
    {
     "data": {
      "text/plain": [
       "array([1.0612423 , 1.03720077, 1.03065693, 1.02212147, 1.02126793,\n",
       "       1.02012986, 1.00064058, 0.9955193 , 0.99139383, 0.98684159,\n",
       "       0.98428096, 0.97560324, 0.97162003, 0.96464941, 0.95952814,\n",
       "       0.95483364, 0.94971236, 0.9408924 , 0.93648241, 0.93079211,\n",
       "       0.92695115, 0.91286765, 0.89423191, 0.89380514, 0.87303553,\n",
       "       0.87275102, 0.87161296, 0.86293524, 0.86279299, 0.85994783,\n",
       "       0.85525333, 0.85226593, 0.85127012, 0.84686014, 0.84557982,\n",
       "       0.84131209, 0.83789791, 0.83775565, 0.83690211, 0.83547953,\n",
       "       0.83434147, 0.83078503, 0.82737085, 0.82637505, 0.8245257 ,\n",
       "       0.82381441, 0.8218228 , 0.81954668, 0.8161325 , 0.81357187,\n",
       "       0.81257606, 0.81072671, 0.8010532 , 0.79465161, 0.79436709,\n",
       "       0.79394032, 0.7936558 , 0.79337129, 0.78967259, 0.78241746,\n",
       "       0.77814973, 0.77516232, 0.77302846, 0.76947202, 0.76648461,\n",
       "       0.76591558, 0.76022527, 0.75951399, 0.75709561, 0.7531124 ,\n",
       "       0.74258534, 0.74201631, 0.74173179, 0.73376537, 0.72878635,\n",
       "       0.72850184, 0.72779055, 0.7222425 , 0.72039315, 0.7155564 ,\n",
       "       0.71328027, 0.708159  , 0.70787449, 0.70630965, 0.70502934,\n",
       "       0.70446031, 0.7024687 , 0.69734743, 0.69692065, 0.69692065,\n",
       "       0.69535582, 0.69464453, 0.69450227, 0.69222615, 0.6789962 ,\n",
       "       0.67359041, 0.66889591, 0.66676205, 0.65936465, 0.65495467,\n",
       "       0.65395887, 0.65068694, 0.64058665, 0.63873731, 0.63831053,\n",
       "       0.62778347, 0.6273567 , 0.62564961, 0.62465381, 0.62408478,\n",
       "       0.62195091, 0.62010156, 0.61597609, 0.61441126, 0.6085787 ,\n",
       "       0.60459549, 0.60303065, 0.60103905, 0.59890518, 0.59847841,\n",
       "       0.59748261, 0.59477971, 0.59136553, 0.59065424, 0.58994296,\n",
       "       0.58724006, 0.58453717, 0.58055396, 0.57827784, 0.57713978,\n",
       "       0.57628623, 0.57486365, 0.57230302, 0.56575917, 0.55523211,\n",
       "       0.55196018, 0.54868826, 0.54029506, 0.5371654 , 0.52720737,\n",
       "       0.52151706, 0.52123255, 0.51554225, 0.4969065 , 0.49306555,\n",
       "       0.4771327 , 0.4677437 , 0.45223762, 0.44853893, 0.44114153,\n",
       "       0.43687381, 0.43032996, 0.41567743, 0.41169422, 0.39462331,\n",
       "       0.36190406])"
      ]
     },
     "execution_count": 85,
     "metadata": {},
     "output_type": "execute_result"
    }
   ],
   "source": [
    "vr.predict(x)"
   ]
  },
  {
   "cell_type": "code",
   "execution_count": 86,
   "metadata": {},
   "outputs": [],
   "source": [
    "vr2=VotingRegressor([('la',lasso),('ri',ridge),('el',elastic)])"
   ]
  },
  {
   "cell_type": "code",
   "execution_count": 87,
   "metadata": {},
   "outputs": [
    {
     "data": {
      "text/plain": [
       "VotingRegressor(estimators=[('la', Lasso(alpha=0.1)), ('ri', Ridge(alpha=0.5)),\n",
       "                            ('el', ElasticNet(alpha=0.001))])"
      ]
     },
     "execution_count": 87,
     "metadata": {},
     "output_type": "execute_result"
    }
   ],
   "source": [
    "vr2.fit(x_,y)"
   ]
  },
  {
   "cell_type": "code",
   "execution_count": 89,
   "metadata": {},
   "outputs": [
    {
     "data": {
      "text/plain": [
       "array([1.11989742, 1.09125976, 1.0834735 , 1.07332305, 1.07230835,\n",
       "       1.07095551, 1.04780546, 1.04172766, 1.03683329, 1.03143431,\n",
       "       1.02839817, 1.01811321, 1.01339441, 1.0051398 , 0.99907785,\n",
       "       0.99352305, 0.98746542, 0.97703813, 0.971827  , 0.96510542,\n",
       "       0.96056994, 0.94395067, 0.92198575, 0.92148309, 0.89703906,\n",
       "       0.89670446, 0.89536617, 0.8851653 , 0.88499813, 0.88165503,\n",
       "       0.87614043, 0.87263213, 0.87146287, 0.86628573, 0.864783  ,\n",
       "       0.85977493, 0.8557696 , 0.85560273, 0.85460157, 0.8529331 ,\n",
       "       0.85159845, 0.84742838, 0.84342615, 0.84225902, 0.84009171,\n",
       "       0.83925821, 0.83692465, 0.83425813, 0.83025919, 0.82726065,\n",
       "       0.8260947 , 0.82392959, 0.81260921, 0.80512221, 0.80478954,\n",
       "       0.80429054, 0.80395788, 0.80362523, 0.79930142, 0.79082352,\n",
       "       0.78583863, 0.78235015, 0.77985884, 0.77570753, 0.77222127,\n",
       "       0.77155731, 0.76491922, 0.76408966, 0.76126946, 0.75662553,\n",
       "       0.74435884, 0.74369605, 0.74336466, 0.73408869, 0.72829398,\n",
       "       0.72796292, 0.72713529, 0.72068131, 0.71853058, 0.71290696,\n",
       "       0.71026125, 0.70431003, 0.70397947, 0.70216153, 0.70067428,\n",
       "       0.70001333, 0.69770021, 0.69175375, 0.69125832, 0.69125832,\n",
       "       0.68944185, 0.68861625, 0.68845114, 0.68580955, 0.67046414,\n",
       "       0.6641983 , 0.65875896, 0.65628715, 0.64772127, 0.64261692,\n",
       "       0.64146456, 0.63767883, 0.62599824, 0.62386049, 0.62336721,\n",
       "       0.61120447, 0.61071159, 0.60874022, 0.60759037, 0.60693334,\n",
       "       0.60446977, 0.60233498, 0.59757383, 0.59576826, 0.58904026,\n",
       "       0.58444721, 0.58264317, 0.58034743, 0.57788808, 0.57739626,\n",
       "       0.57624873, 0.57313445, 0.56920152, 0.56838229, 0.56756309,\n",
       "       0.56445057, 0.56133867, 0.55675385, 0.55413457, 0.5528251 ,\n",
       "       0.55184307, 0.55020649, 0.54726108, 0.5397365 , 0.52763946,\n",
       "       0.52388151, 0.52012448, 0.5104911 , 0.50690054, 0.49548164,\n",
       "       0.48896039, 0.4886344 , 0.48211607, 0.46078803, 0.45639589,\n",
       "       0.43819018, 0.42747205, 0.40978748, 0.4055722 , 0.39714517,\n",
       "       0.39228556, 0.3848372 , 0.36817272, 0.36364576, 0.34425996,\n",
       "       0.30717391])"
      ]
     },
     "execution_count": 89,
     "metadata": {},
     "output_type": "execute_result"
    }
   ],
   "source": [
    "vr2.predict(x_)"
   ]
  },
  {
   "cell_type": "code",
   "execution_count": 90,
   "metadata": {},
   "outputs": [
    {
     "data": {
      "text/plain": [
       "0.6072252609705099"
      ]
     },
     "execution_count": 90,
     "metadata": {},
     "output_type": "execute_result"
    }
   ],
   "source": [
    "vr2.score(x_,y)"
   ]
  },
  {
   "cell_type": "code",
   "execution_count": null,
   "metadata": {},
   "outputs": [],
   "source": []
  }
 ],
 "metadata": {
  "kernelspec": {
   "display_name": "Python 3",
   "language": "python",
   "name": "python3"
  },
  "language_info": {
   "codemirror_mode": {
    "name": "ipython",
    "version": 3
   },
   "file_extension": ".py",
   "mimetype": "text/x-python",
   "name": "python",
   "nbconvert_exporter": "python",
   "pygments_lexer": "ipython3",
   "version": "3.8.3"
  }
 },
 "nbformat": 4,
 "nbformat_minor": 4
}
