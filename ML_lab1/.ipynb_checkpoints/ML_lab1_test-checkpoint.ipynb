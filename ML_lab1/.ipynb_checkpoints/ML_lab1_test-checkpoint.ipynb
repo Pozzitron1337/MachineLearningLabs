{
 "cells": [
  {
   "cell_type": "markdown",
   "metadata": {},
   "source": [
    "# import matplotlib.pyplot as plt"
   ]
  },
  {
   "cell_type": "code",
   "execution_count": null,
   "metadata": {},
   "outputs": [],
   "source": [
    "import numpy as np\n"
   ]
  },
  {
   "cell_type": "code",
   "execution_count": null,
   "metadata": {},
   "outputs": [],
   "source": [
    "x = np.linspace(0, 10, 1000)\n",
    "plt.plot(x, np.sin(8*x));"
   ]
  },
  {
   "cell_type": "code",
   "execution_count": null,
   "metadata": {},
   "outputs": [],
   "source": [
    "plt.plot(x,np.cos(0.222*x))"
   ]
  },
  {
   "cell_type": "code",
   "execution_count": null,
   "metadata": {},
   "outputs": [],
   "source": [
    "plt.plot(x, np.sin(x - 0), color='blue')        # specify color by name\n",
    "plt.plot(x, np.sin(x - 1), color='g')           # short color code (rgbcmyk)\n",
    "plt.plot(x, np.sin(x - 2), color='0.75')        # Grayscale between 0 and 1\n",
    "plt.plot(x, np.sin(x - 3), color='#FFDD44')     # Hex code (RRGGBB from 00 to FF)\n",
    "plt.plot(x, np.sin(x - 4), color=(1.0,0.2,0.3)) # RGB tuple, values 0 to 1\n",
    "plt.plot(x, np.sin(x - 5), color='chartreuse'); # all HTML color names supported"
   ]
  },
  {
   "cell_type": "code",
   "execution_count": null,
   "metadata": {},
   "outputs": [],
   "source": [
    "import csv"
   ]
  },
  {
   "cell_type": "code",
   "execution_count": null,
   "metadata": {},
   "outputs": [],
   "source": [
    "import pandas as pd"
   ]
  },
  {
   "cell_type": "code",
   "execution_count": null,
   "metadata": {},
   "outputs": [],
   "source": [
    "file=pd.read_csv('2019.csv')"
   ]
  },
  {
   "cell_type": "code",
   "execution_count": null,
   "metadata": {},
   "outputs": [],
   "source": [
    "file.tail()"
   ]
  },
  {
   "cell_type": "code",
   "execution_count": null,
   "metadata": {},
   "outputs": [],
   "source": [
    "df=file"
   ]
  },
  {
   "cell_type": "code",
   "execution_count": null,
   "metadata": {},
   "outputs": [],
   "source": [
    "df.info()"
   ]
  },
  {
   "cell_type": "code",
   "execution_count": null,
   "metadata": {},
   "outputs": [],
   "source": [
    "df.iloc[120]"
   ]
  },
  {
   "cell_type": "code",
   "execution_count": null,
   "metadata": {},
   "outputs": [],
   "source": [
    "%who"
   ]
  },
  {
   "cell_type": "code",
   "execution_count": null,
   "metadata": {},
   "outputs": [],
   "source": [
    "df['Generosity']в"
   ]
  },
  {
   "cell_type": "code",
   "execution_count": null,
   "metadata": {},
   "outputs": [],
   "source": [
    "df.info"
   ]
  },
  {
   "cell_type": "code",
   "execution_count": null,
   "metadata": {},
   "outputs": [],
   "source": [
    "df.shape"
   ]
  },
  {
   "cell_type": "code",
   "execution_count": null,
   "metadata": {},
   "outputs": [],
   "source": [
    "df.describe()"
   ]
  },
  {
   "cell_type": "code",
   "execution_count": null,
   "metadata": {},
   "outputs": [],
   "source": [
    "df.rank"
   ]
  },
  {
   "cell_type": "code",
   "execution_count": null,
   "metadata": {},
   "outputs": [],
   "source": [
    "df.info()"
   ]
  },
  {
   "cell_type": "code",
   "execution_count": null,
   "metadata": {},
   "outputs": [],
   "source": [
    "x=df['Generosity']"
   ]
  },
  {
   "cell_type": "code",
   "execution_count": null,
   "metadata": {},
   "outputs": [],
   "source": [
    "x"
   ]
  },
  {
   "cell_type": "code",
   "execution_count": null,
   "metadata": {},
   "outputs": [],
   "source": [
    "for i in x:\n",
    "    print(i)"
   ]
  },
  {
   "cell_type": "code",
   "execution_count": null,
   "metadata": {},
   "outputs": [],
   "source": [
    "arr_x=[i for i in x]"
   ]
  },
  {
   "cell_type": "code",
   "execution_count": null,
   "metadata": {},
   "outputs": [],
   "source": [
    "arr_x"
   ]
  },
  {
   "cell_type": "code",
   "execution_count": null,
   "metadata": {},
   "outputs": [],
   "source": [
    "df.info()"
   ]
  },
  {
   "cell_type": "code",
   "execution_count": null,
   "metadata": {},
   "outputs": [],
   "source": [
    "%who"
   ]
  },
  {
   "cell_type": "code",
   "execution_count": null,
   "metadata": {},
   "outputs": [],
   "source": [
    "df"
   ]
  },
  {
   "cell_type": "code",
   "execution_count": null,
   "metadata": {},
   "outputs": [],
   "source": [
    "arr_y=[i for i in df['Social support']]"
   ]
  },
  {
   "cell_type": "code",
   "execution_count": null,
   "metadata": {},
   "outputs": [],
   "source": [
    "arr_y"
   ]
  },
  {
   "cell_type": "code",
   "execution_count": null,
   "metadata": {},
   "outputs": [],
   "source": [
    "plot(arr_x,arr_y)"
   ]
  },
  {
   "cell_type": "code",
   "execution_count": null,
   "metadata": {},
   "outputs": [],
   "source": [
    "import matplotlib as mp"
   ]
  },
  {
   "cell_type": "code",
   "execution_count": null,
   "metadata": {},
   "outputs": [],
   "source": [
    "mp.plot(arr_x,arr_y)"
   ]
  },
  {
   "cell_type": "code",
   "execution_count": null,
   "metadata": {},
   "outputs": [],
   "source": [
    "plt.plot(arr_x,arr_y)"
   ]
  },
  {
   "cell_type": "code",
   "execution_count": null,
   "metadata": {},
   "outputs": [],
   "source": [
    "import matplotlib as plt"
   ]
  },
  {
   "cell_type": "code",
   "execution_count": null,
   "metadata": {},
   "outputs": [],
   "source": [
    "plt.plot(arr_x,arr_y)"
   ]
  },
  {
   "cell_type": "code",
   "execution_count": null,
   "metadata": {},
   "outputs": [],
   "source": [
    "from matplotlib import plot"
   ]
  },
  {
   "cell_type": "code",
   "execution_count": null,
   "metadata": {},
   "outputs": [],
   "source": [
    "plt.pyplot(arr_x,arr_y)"
   ]
  },
  {
   "cell_type": "code",
   "execution_count": null,
   "metadata": {},
   "outputs": [],
   "source": [
    "plt.plot(x,np.cos(0.222*x))"
   ]
  },
  {
   "cell_type": "code",
   "execution_count": null,
   "metadata": {},
   "outputs": [],
   "source": [
    "import matplotlib.pyplot as plt \n"
   ]
  },
  {
   "cell_type": "code",
   "execution_count": null,
   "metadata": {},
   "outputs": [],
   "source": [
    "plt.plot(arr_x, arr_y)"
   ]
  },
  {
   "cell_type": "code",
   "execution_count": null,
   "metadata": {},
   "outputs": [],
   "source": [
    "plt.plot(arr_x,arr_y)"
   ]
  },
  {
   "cell_type": "code",
   "execution_count": null,
   "metadata": {},
   "outputs": [],
   "source": [
    "%exit"
   ]
  },
  {
   "cell_type": "raw",
   "metadata": {},
   "source": [
    "%who"
   ]
  },
  {
   "cell_type": "code",
   "execution_count": null,
   "metadata": {},
   "outputs": [],
   "source": []
  },
  {
   "cell_type": "code",
   "execution_count": null,
   "metadata": {},
   "outputs": [],
   "source": [
    "%who"
   ]
  },
  {
   "cell_type": "code",
   "execution_count": null,
   "metadata": {},
   "outputs": [],
   "source": [
    "plt"
   ]
  },
  {
   "cell_type": "code",
   "execution_count": 1,
   "metadata": {},
   "outputs": [],
   "source": [
    "import pandas as pd"
   ]
  },
  {
   "cell_type": "code",
   "execution_count": 2,
   "metadata": {},
   "outputs": [
    {
     "data": {
      "text/plain": [
       "<module 'pandas' from '/home/ippolit/anaconda3/lib/python3.8/site-packages/pandas/__init__.py'>"
      ]
     },
     "execution_count": 2,
     "metadata": {},
     "output_type": "execute_result"
    }
   ],
   "source": [
    "pd"
   ]
  },
  {
   "cell_type": "code",
   "execution_count": 3,
   "metadata": {},
   "outputs": [],
   "source": [
    "df=pd.read_csv('2019.csv')"
   ]
  },
  {
   "cell_type": "code",
   "execution_count": 4,
   "metadata": {},
   "outputs": [
    {
     "data": {
      "text/html": [
       "<div>\n",
       "<style scoped>\n",
       "    .dataframe tbody tr th:only-of-type {\n",
       "        vertical-align: middle;\n",
       "    }\n",
       "\n",
       "    .dataframe tbody tr th {\n",
       "        vertical-align: top;\n",
       "    }\n",
       "\n",
       "    .dataframe thead th {\n",
       "        text-align: right;\n",
       "    }\n",
       "</style>\n",
       "<table border=\"1\" class=\"dataframe\">\n",
       "  <thead>\n",
       "    <tr style=\"text-align: right;\">\n",
       "      <th></th>\n",
       "      <th>Overall rank</th>\n",
       "      <th>Country or region</th>\n",
       "      <th>Score</th>\n",
       "      <th>GDP per capita</th>\n",
       "      <th>Social support</th>\n",
       "      <th>Healthy life expectancy</th>\n",
       "      <th>Freedom to make life choices</th>\n",
       "      <th>Generosity</th>\n",
       "      <th>Perceptions of corruption</th>\n",
       "    </tr>\n",
       "  </thead>\n",
       "  <tbody>\n",
       "    <tr>\n",
       "      <th>0</th>\n",
       "      <td>1</td>\n",
       "      <td>Finland</td>\n",
       "      <td>7.769</td>\n",
       "      <td>1.340</td>\n",
       "      <td>1.587</td>\n",
       "      <td>0.986</td>\n",
       "      <td>0.596</td>\n",
       "      <td>0.153</td>\n",
       "      <td>0.393</td>\n",
       "    </tr>\n",
       "    <tr>\n",
       "      <th>1</th>\n",
       "      <td>2</td>\n",
       "      <td>Denmark</td>\n",
       "      <td>7.600</td>\n",
       "      <td>1.383</td>\n",
       "      <td>1.573</td>\n",
       "      <td>0.996</td>\n",
       "      <td>0.592</td>\n",
       "      <td>0.252</td>\n",
       "      <td>0.410</td>\n",
       "    </tr>\n",
       "    <tr>\n",
       "      <th>2</th>\n",
       "      <td>3</td>\n",
       "      <td>Norway</td>\n",
       "      <td>7.554</td>\n",
       "      <td>1.488</td>\n",
       "      <td>1.582</td>\n",
       "      <td>1.028</td>\n",
       "      <td>0.603</td>\n",
       "      <td>0.271</td>\n",
       "      <td>0.341</td>\n",
       "    </tr>\n",
       "    <tr>\n",
       "      <th>3</th>\n",
       "      <td>4</td>\n",
       "      <td>Iceland</td>\n",
       "      <td>7.494</td>\n",
       "      <td>1.380</td>\n",
       "      <td>1.624</td>\n",
       "      <td>1.026</td>\n",
       "      <td>0.591</td>\n",
       "      <td>0.354</td>\n",
       "      <td>0.118</td>\n",
       "    </tr>\n",
       "    <tr>\n",
       "      <th>4</th>\n",
       "      <td>5</td>\n",
       "      <td>Netherlands</td>\n",
       "      <td>7.488</td>\n",
       "      <td>1.396</td>\n",
       "      <td>1.522</td>\n",
       "      <td>0.999</td>\n",
       "      <td>0.557</td>\n",
       "      <td>0.322</td>\n",
       "      <td>0.298</td>\n",
       "    </tr>\n",
       "    <tr>\n",
       "      <th>...</th>\n",
       "      <td>...</td>\n",
       "      <td>...</td>\n",
       "      <td>...</td>\n",
       "      <td>...</td>\n",
       "      <td>...</td>\n",
       "      <td>...</td>\n",
       "      <td>...</td>\n",
       "      <td>...</td>\n",
       "      <td>...</td>\n",
       "    </tr>\n",
       "    <tr>\n",
       "      <th>151</th>\n",
       "      <td>152</td>\n",
       "      <td>Rwanda</td>\n",
       "      <td>3.334</td>\n",
       "      <td>0.359</td>\n",
       "      <td>0.711</td>\n",
       "      <td>0.614</td>\n",
       "      <td>0.555</td>\n",
       "      <td>0.217</td>\n",
       "      <td>0.411</td>\n",
       "    </tr>\n",
       "    <tr>\n",
       "      <th>152</th>\n",
       "      <td>153</td>\n",
       "      <td>Tanzania</td>\n",
       "      <td>3.231</td>\n",
       "      <td>0.476</td>\n",
       "      <td>0.885</td>\n",
       "      <td>0.499</td>\n",
       "      <td>0.417</td>\n",
       "      <td>0.276</td>\n",
       "      <td>0.147</td>\n",
       "    </tr>\n",
       "    <tr>\n",
       "      <th>153</th>\n",
       "      <td>154</td>\n",
       "      <td>Afghanistan</td>\n",
       "      <td>3.203</td>\n",
       "      <td>0.350</td>\n",
       "      <td>0.517</td>\n",
       "      <td>0.361</td>\n",
       "      <td>0.000</td>\n",
       "      <td>0.158</td>\n",
       "      <td>0.025</td>\n",
       "    </tr>\n",
       "    <tr>\n",
       "      <th>154</th>\n",
       "      <td>155</td>\n",
       "      <td>Central African Republic</td>\n",
       "      <td>3.083</td>\n",
       "      <td>0.026</td>\n",
       "      <td>0.000</td>\n",
       "      <td>0.105</td>\n",
       "      <td>0.225</td>\n",
       "      <td>0.235</td>\n",
       "      <td>0.035</td>\n",
       "    </tr>\n",
       "    <tr>\n",
       "      <th>155</th>\n",
       "      <td>156</td>\n",
       "      <td>South Sudan</td>\n",
       "      <td>2.853</td>\n",
       "      <td>0.306</td>\n",
       "      <td>0.575</td>\n",
       "      <td>0.295</td>\n",
       "      <td>0.010</td>\n",
       "      <td>0.202</td>\n",
       "      <td>0.091</td>\n",
       "    </tr>\n",
       "  </tbody>\n",
       "</table>\n",
       "<p>156 rows × 9 columns</p>\n",
       "</div>"
      ],
      "text/plain": [
       "     Overall rank         Country or region  Score  GDP per capita  \\\n",
       "0               1                   Finland  7.769           1.340   \n",
       "1               2                   Denmark  7.600           1.383   \n",
       "2               3                    Norway  7.554           1.488   \n",
       "3               4                   Iceland  7.494           1.380   \n",
       "4               5               Netherlands  7.488           1.396   \n",
       "..            ...                       ...    ...             ...   \n",
       "151           152                    Rwanda  3.334           0.359   \n",
       "152           153                  Tanzania  3.231           0.476   \n",
       "153           154               Afghanistan  3.203           0.350   \n",
       "154           155  Central African Republic  3.083           0.026   \n",
       "155           156               South Sudan  2.853           0.306   \n",
       "\n",
       "     Social support  Healthy life expectancy  Freedom to make life choices  \\\n",
       "0             1.587                    0.986                         0.596   \n",
       "1             1.573                    0.996                         0.592   \n",
       "2             1.582                    1.028                         0.603   \n",
       "3             1.624                    1.026                         0.591   \n",
       "4             1.522                    0.999                         0.557   \n",
       "..              ...                      ...                           ...   \n",
       "151           0.711                    0.614                         0.555   \n",
       "152           0.885                    0.499                         0.417   \n",
       "153           0.517                    0.361                         0.000   \n",
       "154           0.000                    0.105                         0.225   \n",
       "155           0.575                    0.295                         0.010   \n",
       "\n",
       "     Generosity  Perceptions of corruption  \n",
       "0         0.153                      0.393  \n",
       "1         0.252                      0.410  \n",
       "2         0.271                      0.341  \n",
       "3         0.354                      0.118  \n",
       "4         0.322                      0.298  \n",
       "..          ...                        ...  \n",
       "151       0.217                      0.411  \n",
       "152       0.276                      0.147  \n",
       "153       0.158                      0.025  \n",
       "154       0.235                      0.035  \n",
       "155       0.202                      0.091  \n",
       "\n",
       "[156 rows x 9 columns]"
      ]
     },
     "execution_count": 4,
     "metadata": {},
     "output_type": "execute_result"
    }
   ],
   "source": [
    "df"
   ]
  },
  {
   "cell_type": "code",
   "execution_count": 5,
   "metadata": {},
   "outputs": [],
   "source": [
    "x=[i for i in df['Generosity']]"
   ]
  },
  {
   "cell_type": "code",
   "execution_count": 6,
   "metadata": {},
   "outputs": [
    {
     "data": {
      "text/plain": [
       "[0.153,\n",
       " 0.252,\n",
       " 0.271,\n",
       " 0.354,\n",
       " 0.322,\n",
       " 0.263,\n",
       " 0.267,\n",
       " 0.33,\n",
       " 0.285,\n",
       " 0.244,\n",
       " 0.332,\n",
       " 0.14400000000000002,\n",
       " 0.261,\n",
       " 0.19399999999999998,\n",
       " 0.348,\n",
       " 0.298,\n",
       " 0.261,\n",
       " 0.16,\n",
       " 0.28,\n",
       " 0.046,\n",
       " 0.262,\n",
       " 0.375,\n",
       " 0.07400000000000001,\n",
       " 0.111,\n",
       " 0.242,\n",
       " 0.187,\n",
       " 0.175,\n",
       " 0.08,\n",
       " 0.22,\n",
       " 0.153,\n",
       " 0.109,\n",
       " 0.099,\n",
       " 0.127,\n",
       " 0.271,\n",
       " 0.09300000000000001,\n",
       " 0.158,\n",
       " 0.255,\n",
       " 0.121,\n",
       " 0.185,\n",
       " 0.11699999999999999,\n",
       " 0.322,\n",
       " 0.043,\n",
       " 0.099,\n",
       " 0.14400000000000002,\n",
       " 0.2,\n",
       " 0.262,\n",
       " 0.066,\n",
       " 0.083,\n",
       " 0.19,\n",
       " 0.126,\n",
       " 0.142,\n",
       " 0.359,\n",
       " 0.075,\n",
       " 0.175,\n",
       " 0.10300000000000001,\n",
       " 0.107,\n",
       " 0.215,\n",
       " 0.069,\n",
       " 0.24600000000000002,\n",
       " 0.146,\n",
       " 0.13699999999999998,\n",
       " 0.081,\n",
       " 0.184,\n",
       " 0.191,\n",
       " 0.083,\n",
       " 0.047,\n",
       " 0.22,\n",
       " 0.08199999999999999,\n",
       " 0.11699999999999999,\n",
       " 0.13699999999999998,\n",
       " 0.18100000000000002,\n",
       " 0.133,\n",
       " 0.142,\n",
       " 0.23,\n",
       " 0.11900000000000001,\n",
       " 0.258,\n",
       " 0.113,\n",
       " 0.263,\n",
       " 0.083,\n",
       " 0.26,\n",
       " 0.094,\n",
       " 0.0,\n",
       " 0.235,\n",
       " 0.185,\n",
       " 0.215,\n",
       " 0.3,\n",
       " 0.244,\n",
       " 0.073,\n",
       " 0.036000000000000004,\n",
       " 0.035,\n",
       " 0.166,\n",
       " 0.498,\n",
       " 0.057999999999999996,\n",
       " 0.147,\n",
       " 0.37,\n",
       " 0.187,\n",
       " 0.081,\n",
       " 0.245,\n",
       " 0.154,\n",
       " 0.285,\n",
       " 0.11,\n",
       " 0.175,\n",
       " 0.105,\n",
       " 0.043,\n",
       " 0.266,\n",
       " 0.13,\n",
       " 0.17800000000000002,\n",
       " 0.064,\n",
       " 0.23199999999999998,\n",
       " 0.10300000000000001,\n",
       " 0.153,\n",
       " 0.243,\n",
       " 0.07,\n",
       " 0.188,\n",
       " 0.177,\n",
       " 0.095,\n",
       " 0.27,\n",
       " 0.207,\n",
       " 0.043,\n",
       " 0.26899999999999996,\n",
       " 0.37200000000000005,\n",
       " 0.106,\n",
       " 0.19699999999999998,\n",
       " 0.059000000000000004,\n",
       " 0.166,\n",
       " 0.14800000000000002,\n",
       " 0.212,\n",
       " 0.153,\n",
       " 0.252,\n",
       " 0.244,\n",
       " 0.5660000000000001,\n",
       " 0.198,\n",
       " 0.187,\n",
       " 0.209,\n",
       " 0.07400000000000001,\n",
       " 0.252,\n",
       " 0.076,\n",
       " 0.247,\n",
       " 0.177,\n",
       " 0.2,\n",
       " 0.233,\n",
       " 0.275,\n",
       " 0.16899999999999998,\n",
       " 0.107,\n",
       " 0.17600000000000002,\n",
       " 0.151,\n",
       " 0.419,\n",
       " 0.025,\n",
       " 0.331,\n",
       " 0.218,\n",
       " 0.10800000000000001,\n",
       " 0.217,\n",
       " 0.276,\n",
       " 0.158,\n",
       " 0.235,\n",
       " 0.20199999999999999]"
      ]
     },
     "execution_count": 6,
     "metadata": {},
     "output_type": "execute_result"
    }
   ],
   "source": [
    "x"
   ]
  },
  {
   "cell_type": "code",
   "execution_count": 7,
   "metadata": {},
   "outputs": [],
   "source": [
    "y=[i for i in df['Social support']]"
   ]
  },
  {
   "cell_type": "code",
   "execution_count": 8,
   "metadata": {},
   "outputs": [
    {
     "data": {
      "text/plain": [
       "[1.587,\n",
       " 1.5730000000000002,\n",
       " 1.5819999999999999,\n",
       " 1.624,\n",
       " 1.5219999999999998,\n",
       " 1.526,\n",
       " 1.4869999999999999,\n",
       " 1.557,\n",
       " 1.505,\n",
       " 1.475,\n",
       " 1.548,\n",
       " 1.4409999999999998,\n",
       " 1.455,\n",
       " 1.479,\n",
       " 1.538,\n",
       " 1.5530000000000002,\n",
       " 1.454,\n",
       " 1.504,\n",
       " 1.4569999999999999,\n",
       " 1.4869999999999999,\n",
       " 1.31,\n",
       " 1.52,\n",
       " 1.3230000000000002,\n",
       " 1.472,\n",
       " 1.43,\n",
       " 1.369,\n",
       " 1.2690000000000001,\n",
       " 1.357,\n",
       " 1.3130000000000002,\n",
       " 1.484,\n",
       " 1.442,\n",
       " 1.439,\n",
       " 1.465,\n",
       " 1.463,\n",
       " 1.242,\n",
       " 1.4880000000000002,\n",
       " 1.368,\n",
       " 1.504,\n",
       " 1.4769999999999999,\n",
       " 1.4380000000000002,\n",
       " 1.5290000000000001,\n",
       " 1.515,\n",
       " 1.41,\n",
       " 1.5230000000000001,\n",
       " 1.325,\n",
       " 1.232,\n",
       " 1.432,\n",
       " 1.232,\n",
       " 1.2229999999999999,\n",
       " 1.3119999999999998,\n",
       " 1.319,\n",
       " 1.409,\n",
       " 1.465,\n",
       " 1.219,\n",
       " 1.528,\n",
       " 1.4780000000000002,\n",
       " 1.402,\n",
       " 1.419,\n",
       " 1.236,\n",
       " 1.508,\n",
       " 1.209,\n",
       " 1.41,\n",
       " 1.475,\n",
       " 1.252,\n",
       " 1.274,\n",
       " 1.431,\n",
       " 0.8859999999999999,\n",
       " 1.452,\n",
       " 1.2930000000000001,\n",
       " 1.383,\n",
       " 1.328,\n",
       " 1.3030000000000002,\n",
       " 1.361,\n",
       " 1.0979999999999999,\n",
       " 1.266,\n",
       " 1.2770000000000001,\n",
       " 1.401,\n",
       " 1.212,\n",
       " 1.36,\n",
       " 1.171,\n",
       " 1.465,\n",
       " 1.156,\n",
       " 1.531,\n",
       " 1.294,\n",
       " 1.111,\n",
       " 1.4380000000000002,\n",
       " 1.538,\n",
       " 1.16,\n",
       " 0.782,\n",
       " 1.147,\n",
       " 1.224,\n",
       " 1.203,\n",
       " 1.125,\n",
       " 1.3459999999999999,\n",
       " 1.321,\n",
       " 0.91,\n",
       " 1.5130000000000001,\n",
       " 0.868,\n",
       " 0.8079999999999999,\n",
       " 1.226,\n",
       " 1.225,\n",
       " 0.43700000000000006,\n",
       " 0.799,\n",
       " 1.183,\n",
       " 1.03,\n",
       " 1.351,\n",
       " 0.848,\n",
       " 1.4269999999999998,\n",
       " 1.122,\n",
       " 1.247,\n",
       " 1.1340000000000001,\n",
       " 0.698,\n",
       " 1.3130000000000002,\n",
       " 0.774,\n",
       " 1.056,\n",
       " 1.055,\n",
       " 0.8420000000000001,\n",
       " 0.8290000000000001,\n",
       " 0.6659999999999999,\n",
       " 0.9390000000000001,\n",
       " 0.983,\n",
       " 1.167,\n",
       " 0.986,\n",
       " 1.0,\n",
       " 0.9279999999999999,\n",
       " 0.98,\n",
       " 1.125,\n",
       " 1.105,\n",
       " 0.841,\n",
       " 1.265,\n",
       " 1.181,\n",
       " 0.7659999999999999,\n",
       " 1.39,\n",
       " 1.033,\n",
       " 1.149,\n",
       " 1.069,\n",
       " 1.0390000000000001,\n",
       " 1.058,\n",
       " 0.5720000000000001,\n",
       " 0.765,\n",
       " 0.922,\n",
       " 0.757,\n",
       " 0.9159999999999999,\n",
       " 1.169,\n",
       " 0.447,\n",
       " 1.114,\n",
       " 0.688,\n",
       " 1.145,\n",
       " 0.37799999999999995,\n",
       " 0.56,\n",
       " 1.163,\n",
       " 0.711,\n",
       " 0.885,\n",
       " 0.517,\n",
       " 0.0,\n",
       " 0.575]"
      ]
     },
     "execution_count": 8,
     "metadata": {},
     "output_type": "execute_result"
    }
   ],
   "source": [
    "y"
   ]
  },
  {
   "cell_type": "code",
   "execution_count": 9,
   "metadata": {},
   "outputs": [],
   "source": [
    "import numpy as np"
   ]
  },
  {
   "cell_type": "code",
   "execution_count": 10,
   "metadata": {},
   "outputs": [],
   "source": [
    "new_x=np.array(x)"
   ]
  },
  {
   "cell_type": "code",
   "execution_count": 11,
   "metadata": {},
   "outputs": [
    {
     "data": {
      "text/plain": [
       "array([0.153, 0.252, 0.271, 0.354, 0.322, 0.263, 0.267, 0.33 , 0.285,\n",
       "       0.244, 0.332, 0.144, 0.261, 0.194, 0.348, 0.298, 0.261, 0.16 ,\n",
       "       0.28 , 0.046, 0.262, 0.375, 0.074, 0.111, 0.242, 0.187, 0.175,\n",
       "       0.08 , 0.22 , 0.153, 0.109, 0.099, 0.127, 0.271, 0.093, 0.158,\n",
       "       0.255, 0.121, 0.185, 0.117, 0.322, 0.043, 0.099, 0.144, 0.2  ,\n",
       "       0.262, 0.066, 0.083, 0.19 , 0.126, 0.142, 0.359, 0.075, 0.175,\n",
       "       0.103, 0.107, 0.215, 0.069, 0.246, 0.146, 0.137, 0.081, 0.184,\n",
       "       0.191, 0.083, 0.047, 0.22 , 0.082, 0.117, 0.137, 0.181, 0.133,\n",
       "       0.142, 0.23 , 0.119, 0.258, 0.113, 0.263, 0.083, 0.26 , 0.094,\n",
       "       0.   , 0.235, 0.185, 0.215, 0.3  , 0.244, 0.073, 0.036, 0.035,\n",
       "       0.166, 0.498, 0.058, 0.147, 0.37 , 0.187, 0.081, 0.245, 0.154,\n",
       "       0.285, 0.11 , 0.175, 0.105, 0.043, 0.266, 0.13 , 0.178, 0.064,\n",
       "       0.232, 0.103, 0.153, 0.243, 0.07 , 0.188, 0.177, 0.095, 0.27 ,\n",
       "       0.207, 0.043, 0.269, 0.372, 0.106, 0.197, 0.059, 0.166, 0.148,\n",
       "       0.212, 0.153, 0.252, 0.244, 0.566, 0.198, 0.187, 0.209, 0.074,\n",
       "       0.252, 0.076, 0.247, 0.177, 0.2  , 0.233, 0.275, 0.169, 0.107,\n",
       "       0.176, 0.151, 0.419, 0.025, 0.331, 0.218, 0.108, 0.217, 0.276,\n",
       "       0.158, 0.235, 0.202])"
      ]
     },
     "execution_count": 11,
     "metadata": {},
     "output_type": "execute_result"
    }
   ],
   "source": [
    "new_x"
   ]
  },
  {
   "cell_type": "code",
   "execution_count": 12,
   "metadata": {},
   "outputs": [],
   "source": [
    "newy=np.array(y)"
   ]
  },
  {
   "cell_type": "code",
   "execution_count": 13,
   "metadata": {},
   "outputs": [],
   "source": [
    "new_y=np.array(y)"
   ]
  },
  {
   "cell_type": "code",
   "execution_count": 14,
   "metadata": {},
   "outputs": [
    {
     "data": {
      "text/plain": [
       "array([1.587, 1.573, 1.582, 1.624, 1.522, 1.526, 1.487, 1.557, 1.505,\n",
       "       1.475, 1.548, 1.441, 1.455, 1.479, 1.538, 1.553, 1.454, 1.504,\n",
       "       1.457, 1.487, 1.31 , 1.52 , 1.323, 1.472, 1.43 , 1.369, 1.269,\n",
       "       1.357, 1.313, 1.484, 1.442, 1.439, 1.465, 1.463, 1.242, 1.488,\n",
       "       1.368, 1.504, 1.477, 1.438, 1.529, 1.515, 1.41 , 1.523, 1.325,\n",
       "       1.232, 1.432, 1.232, 1.223, 1.312, 1.319, 1.409, 1.465, 1.219,\n",
       "       1.528, 1.478, 1.402, 1.419, 1.236, 1.508, 1.209, 1.41 , 1.475,\n",
       "       1.252, 1.274, 1.431, 0.886, 1.452, 1.293, 1.383, 1.328, 1.303,\n",
       "       1.361, 1.098, 1.266, 1.277, 1.401, 1.212, 1.36 , 1.171, 1.465,\n",
       "       1.156, 1.531, 1.294, 1.111, 1.438, 1.538, 1.16 , 0.782, 1.147,\n",
       "       1.224, 1.203, 1.125, 1.346, 1.321, 0.91 , 1.513, 0.868, 0.808,\n",
       "       1.226, 1.225, 0.437, 0.799, 1.183, 1.03 , 1.351, 0.848, 1.427,\n",
       "       1.122, 1.247, 1.134, 0.698, 1.313, 0.774, 1.056, 1.055, 0.842,\n",
       "       0.829, 0.666, 0.939, 0.983, 1.167, 0.986, 1.   , 0.928, 0.98 ,\n",
       "       1.125, 1.105, 0.841, 1.265, 1.181, 0.766, 1.39 , 1.033, 1.149,\n",
       "       1.069, 1.039, 1.058, 0.572, 0.765, 0.922, 0.757, 0.916, 1.169,\n",
       "       0.447, 1.114, 0.688, 1.145, 0.378, 0.56 , 1.163, 0.711, 0.885,\n",
       "       0.517, 0.   , 0.575])"
      ]
     },
     "execution_count": 14,
     "metadata": {},
     "output_type": "execute_result"
    }
   ],
   "source": [
    "new_y"
   ]
  },
  {
   "cell_type": "code",
   "execution_count": 15,
   "metadata": {},
   "outputs": [],
   "source": [
    "from sklearn import linear_model"
   ]
  },
  {
   "cell_type": "code",
   "execution_count": 16,
   "metadata": {},
   "outputs": [],
   "source": [
    "reg=linear_model.Ridge(alpha=.5)"
   ]
  },
  {
   "cell_type": "code",
   "execution_count": 17,
   "metadata": {},
   "outputs": [
    {
     "data": {
      "text/plain": [
       "Ridge(alpha=0.5)"
      ]
     },
     "execution_count": 17,
     "metadata": {},
     "output_type": "execute_result"
    }
   ],
   "source": [
    "reg"
   ]
  },
  {
   "cell_type": "code",
   "execution_count": 18,
   "metadata": {},
   "outputs": [
    {
     "ename": "ValueError",
     "evalue": "Expected 2D array, got 1D array instead:\narray=[0.153 0.252 0.271 0.354 0.322 0.263 0.267 0.33  0.285 0.244 0.332 0.144\n 0.261 0.194 0.348 0.298 0.261 0.16  0.28  0.046 0.262 0.375 0.074 0.111\n 0.242 0.187 0.175 0.08  0.22  0.153 0.109 0.099 0.127 0.271 0.093 0.158\n 0.255 0.121 0.185 0.117 0.322 0.043 0.099 0.144 0.2   0.262 0.066 0.083\n 0.19  0.126 0.142 0.359 0.075 0.175 0.103 0.107 0.215 0.069 0.246 0.146\n 0.137 0.081 0.184 0.191 0.083 0.047 0.22  0.082 0.117 0.137 0.181 0.133\n 0.142 0.23  0.119 0.258 0.113 0.263 0.083 0.26  0.094 0.    0.235 0.185\n 0.215 0.3   0.244 0.073 0.036 0.035 0.166 0.498 0.058 0.147 0.37  0.187\n 0.081 0.245 0.154 0.285 0.11  0.175 0.105 0.043 0.266 0.13  0.178 0.064\n 0.232 0.103 0.153 0.243 0.07  0.188 0.177 0.095 0.27  0.207 0.043 0.269\n 0.372 0.106 0.197 0.059 0.166 0.148 0.212 0.153 0.252 0.244 0.566 0.198\n 0.187 0.209 0.074 0.252 0.076 0.247 0.177 0.2   0.233 0.275 0.169 0.107\n 0.176 0.151 0.419 0.025 0.331 0.218 0.108 0.217 0.276 0.158 0.235 0.202].\nReshape your data either using array.reshape(-1, 1) if your data has a single feature or array.reshape(1, -1) if it contains a single sample.",
     "output_type": "error",
     "traceback": [
      "\u001b[0;31m---------------------------------------------------------------------------\u001b[0m",
      "\u001b[0;31mValueError\u001b[0m                                Traceback (most recent call last)",
      "\u001b[0;32m<ipython-input-18-1cc8266c4dd7>\u001b[0m in \u001b[0;36m<module>\u001b[0;34m\u001b[0m\n\u001b[0;32m----> 1\u001b[0;31m \u001b[0mreg\u001b[0m\u001b[0;34m.\u001b[0m\u001b[0mfit\u001b[0m\u001b[0;34m(\u001b[0m\u001b[0mnew_x\u001b[0m\u001b[0;34m,\u001b[0m\u001b[0mnew_y\u001b[0m\u001b[0;34m)\u001b[0m\u001b[0;34m\u001b[0m\u001b[0;34m\u001b[0m\u001b[0m\n\u001b[0m",
      "\u001b[0;32m~/anaconda3/lib/python3.8/site-packages/sklearn/linear_model/_ridge.py\u001b[0m in \u001b[0;36mfit\u001b[0;34m(self, X, y, sample_weight)\u001b[0m\n\u001b[1;32m    760\u001b[0m         \u001b[0mself\u001b[0m \u001b[0;34m:\u001b[0m \u001b[0mreturns\u001b[0m \u001b[0man\u001b[0m \u001b[0minstance\u001b[0m \u001b[0mof\u001b[0m \u001b[0mself\u001b[0m\u001b[0;34m.\u001b[0m\u001b[0;34m\u001b[0m\u001b[0;34m\u001b[0m\u001b[0m\n\u001b[1;32m    761\u001b[0m         \"\"\"\n\u001b[0;32m--> 762\u001b[0;31m         \u001b[0;32mreturn\u001b[0m \u001b[0msuper\u001b[0m\u001b[0;34m(\u001b[0m\u001b[0;34m)\u001b[0m\u001b[0;34m.\u001b[0m\u001b[0mfit\u001b[0m\u001b[0;34m(\u001b[0m\u001b[0mX\u001b[0m\u001b[0;34m,\u001b[0m \u001b[0my\u001b[0m\u001b[0;34m,\u001b[0m \u001b[0msample_weight\u001b[0m\u001b[0;34m=\u001b[0m\u001b[0msample_weight\u001b[0m\u001b[0;34m)\u001b[0m\u001b[0;34m\u001b[0m\u001b[0;34m\u001b[0m\u001b[0m\n\u001b[0m\u001b[1;32m    763\u001b[0m \u001b[0;34m\u001b[0m\u001b[0m\n\u001b[1;32m    764\u001b[0m \u001b[0;34m\u001b[0m\u001b[0m\n",
      "\u001b[0;32m~/anaconda3/lib/python3.8/site-packages/sklearn/linear_model/_ridge.py\u001b[0m in \u001b[0;36mfit\u001b[0;34m(self, X, y, sample_weight)\u001b[0m\n\u001b[1;32m    540\u001b[0m         _accept_sparse = _get_valid_accept_sparse(sparse.issparse(X),\n\u001b[1;32m    541\u001b[0m                                                   self.solver)\n\u001b[0;32m--> 542\u001b[0;31m         X, y = self._validate_data(X, y,\n\u001b[0m\u001b[1;32m    543\u001b[0m                                    \u001b[0maccept_sparse\u001b[0m\u001b[0;34m=\u001b[0m\u001b[0m_accept_sparse\u001b[0m\u001b[0;34m,\u001b[0m\u001b[0;34m\u001b[0m\u001b[0;34m\u001b[0m\u001b[0m\n\u001b[1;32m    544\u001b[0m                                    \u001b[0mdtype\u001b[0m\u001b[0;34m=\u001b[0m\u001b[0m_dtype\u001b[0m\u001b[0;34m,\u001b[0m\u001b[0;34m\u001b[0m\u001b[0;34m\u001b[0m\u001b[0m\n",
      "\u001b[0;32m~/anaconda3/lib/python3.8/site-packages/sklearn/base.py\u001b[0m in \u001b[0;36m_validate_data\u001b[0;34m(self, X, y, reset, validate_separately, **check_params)\u001b[0m\n\u001b[1;32m    430\u001b[0m                 \u001b[0my\u001b[0m \u001b[0;34m=\u001b[0m \u001b[0mcheck_array\u001b[0m\u001b[0;34m(\u001b[0m\u001b[0my\u001b[0m\u001b[0;34m,\u001b[0m \u001b[0;34m**\u001b[0m\u001b[0mcheck_y_params\u001b[0m\u001b[0;34m)\u001b[0m\u001b[0;34m\u001b[0m\u001b[0;34m\u001b[0m\u001b[0m\n\u001b[1;32m    431\u001b[0m             \u001b[0;32melse\u001b[0m\u001b[0;34m:\u001b[0m\u001b[0;34m\u001b[0m\u001b[0;34m\u001b[0m\u001b[0m\n\u001b[0;32m--> 432\u001b[0;31m                 \u001b[0mX\u001b[0m\u001b[0;34m,\u001b[0m \u001b[0my\u001b[0m \u001b[0;34m=\u001b[0m \u001b[0mcheck_X_y\u001b[0m\u001b[0;34m(\u001b[0m\u001b[0mX\u001b[0m\u001b[0;34m,\u001b[0m \u001b[0my\u001b[0m\u001b[0;34m,\u001b[0m \u001b[0;34m**\u001b[0m\u001b[0mcheck_params\u001b[0m\u001b[0;34m)\u001b[0m\u001b[0;34m\u001b[0m\u001b[0;34m\u001b[0m\u001b[0m\n\u001b[0m\u001b[1;32m    433\u001b[0m             \u001b[0mout\u001b[0m \u001b[0;34m=\u001b[0m \u001b[0mX\u001b[0m\u001b[0;34m,\u001b[0m \u001b[0my\u001b[0m\u001b[0;34m\u001b[0m\u001b[0;34m\u001b[0m\u001b[0m\n\u001b[1;32m    434\u001b[0m \u001b[0;34m\u001b[0m\u001b[0m\n",
      "\u001b[0;32m~/anaconda3/lib/python3.8/site-packages/sklearn/utils/validation.py\u001b[0m in \u001b[0;36minner_f\u001b[0;34m(*args, **kwargs)\u001b[0m\n\u001b[1;32m     71\u001b[0m                           FutureWarning)\n\u001b[1;32m     72\u001b[0m         \u001b[0mkwargs\u001b[0m\u001b[0;34m.\u001b[0m\u001b[0mupdate\u001b[0m\u001b[0;34m(\u001b[0m\u001b[0;34m{\u001b[0m\u001b[0mk\u001b[0m\u001b[0;34m:\u001b[0m \u001b[0marg\u001b[0m \u001b[0;32mfor\u001b[0m \u001b[0mk\u001b[0m\u001b[0;34m,\u001b[0m \u001b[0marg\u001b[0m \u001b[0;32min\u001b[0m \u001b[0mzip\u001b[0m\u001b[0;34m(\u001b[0m\u001b[0msig\u001b[0m\u001b[0;34m.\u001b[0m\u001b[0mparameters\u001b[0m\u001b[0;34m,\u001b[0m \u001b[0margs\u001b[0m\u001b[0;34m)\u001b[0m\u001b[0;34m}\u001b[0m\u001b[0;34m)\u001b[0m\u001b[0;34m\u001b[0m\u001b[0;34m\u001b[0m\u001b[0m\n\u001b[0;32m---> 73\u001b[0;31m         \u001b[0;32mreturn\u001b[0m \u001b[0mf\u001b[0m\u001b[0;34m(\u001b[0m\u001b[0;34m**\u001b[0m\u001b[0mkwargs\u001b[0m\u001b[0;34m)\u001b[0m\u001b[0;34m\u001b[0m\u001b[0;34m\u001b[0m\u001b[0m\n\u001b[0m\u001b[1;32m     74\u001b[0m     \u001b[0;32mreturn\u001b[0m \u001b[0minner_f\u001b[0m\u001b[0;34m\u001b[0m\u001b[0;34m\u001b[0m\u001b[0m\n\u001b[1;32m     75\u001b[0m \u001b[0;34m\u001b[0m\u001b[0m\n",
      "\u001b[0;32m~/anaconda3/lib/python3.8/site-packages/sklearn/utils/validation.py\u001b[0m in \u001b[0;36mcheck_X_y\u001b[0;34m(X, y, accept_sparse, accept_large_sparse, dtype, order, copy, force_all_finite, ensure_2d, allow_nd, multi_output, ensure_min_samples, ensure_min_features, y_numeric, estimator)\u001b[0m\n\u001b[1;32m    794\u001b[0m         \u001b[0;32mraise\u001b[0m \u001b[0mValueError\u001b[0m\u001b[0;34m(\u001b[0m\u001b[0;34m\"y cannot be None\"\u001b[0m\u001b[0;34m)\u001b[0m\u001b[0;34m\u001b[0m\u001b[0;34m\u001b[0m\u001b[0m\n\u001b[1;32m    795\u001b[0m \u001b[0;34m\u001b[0m\u001b[0m\n\u001b[0;32m--> 796\u001b[0;31m     X = check_array(X, accept_sparse=accept_sparse,\n\u001b[0m\u001b[1;32m    797\u001b[0m                     \u001b[0maccept_large_sparse\u001b[0m\u001b[0;34m=\u001b[0m\u001b[0maccept_large_sparse\u001b[0m\u001b[0;34m,\u001b[0m\u001b[0;34m\u001b[0m\u001b[0;34m\u001b[0m\u001b[0m\n\u001b[1;32m    798\u001b[0m                     \u001b[0mdtype\u001b[0m\u001b[0;34m=\u001b[0m\u001b[0mdtype\u001b[0m\u001b[0;34m,\u001b[0m \u001b[0morder\u001b[0m\u001b[0;34m=\u001b[0m\u001b[0morder\u001b[0m\u001b[0;34m,\u001b[0m \u001b[0mcopy\u001b[0m\u001b[0;34m=\u001b[0m\u001b[0mcopy\u001b[0m\u001b[0;34m,\u001b[0m\u001b[0;34m\u001b[0m\u001b[0;34m\u001b[0m\u001b[0m\n",
      "\u001b[0;32m~/anaconda3/lib/python3.8/site-packages/sklearn/utils/validation.py\u001b[0m in \u001b[0;36minner_f\u001b[0;34m(*args, **kwargs)\u001b[0m\n\u001b[1;32m     71\u001b[0m                           FutureWarning)\n\u001b[1;32m     72\u001b[0m         \u001b[0mkwargs\u001b[0m\u001b[0;34m.\u001b[0m\u001b[0mupdate\u001b[0m\u001b[0;34m(\u001b[0m\u001b[0;34m{\u001b[0m\u001b[0mk\u001b[0m\u001b[0;34m:\u001b[0m \u001b[0marg\u001b[0m \u001b[0;32mfor\u001b[0m \u001b[0mk\u001b[0m\u001b[0;34m,\u001b[0m \u001b[0marg\u001b[0m \u001b[0;32min\u001b[0m \u001b[0mzip\u001b[0m\u001b[0;34m(\u001b[0m\u001b[0msig\u001b[0m\u001b[0;34m.\u001b[0m\u001b[0mparameters\u001b[0m\u001b[0;34m,\u001b[0m \u001b[0margs\u001b[0m\u001b[0;34m)\u001b[0m\u001b[0;34m}\u001b[0m\u001b[0;34m)\u001b[0m\u001b[0;34m\u001b[0m\u001b[0;34m\u001b[0m\u001b[0m\n\u001b[0;32m---> 73\u001b[0;31m         \u001b[0;32mreturn\u001b[0m \u001b[0mf\u001b[0m\u001b[0;34m(\u001b[0m\u001b[0;34m**\u001b[0m\u001b[0mkwargs\u001b[0m\u001b[0;34m)\u001b[0m\u001b[0;34m\u001b[0m\u001b[0;34m\u001b[0m\u001b[0m\n\u001b[0m\u001b[1;32m     74\u001b[0m     \u001b[0;32mreturn\u001b[0m \u001b[0minner_f\u001b[0m\u001b[0;34m\u001b[0m\u001b[0;34m\u001b[0m\u001b[0m\n\u001b[1;32m     75\u001b[0m \u001b[0;34m\u001b[0m\u001b[0m\n",
      "\u001b[0;32m~/anaconda3/lib/python3.8/site-packages/sklearn/utils/validation.py\u001b[0m in \u001b[0;36mcheck_array\u001b[0;34m(array, accept_sparse, accept_large_sparse, dtype, order, copy, force_all_finite, ensure_2d, allow_nd, ensure_min_samples, ensure_min_features, estimator)\u001b[0m\n\u001b[1;32m    618\u001b[0m             \u001b[0;31m# If input is 1D raise error\u001b[0m\u001b[0;34m\u001b[0m\u001b[0;34m\u001b[0m\u001b[0;34m\u001b[0m\u001b[0m\n\u001b[1;32m    619\u001b[0m             \u001b[0;32mif\u001b[0m \u001b[0marray\u001b[0m\u001b[0;34m.\u001b[0m\u001b[0mndim\u001b[0m \u001b[0;34m==\u001b[0m \u001b[0;36m1\u001b[0m\u001b[0;34m:\u001b[0m\u001b[0;34m\u001b[0m\u001b[0;34m\u001b[0m\u001b[0m\n\u001b[0;32m--> 620\u001b[0;31m                 raise ValueError(\n\u001b[0m\u001b[1;32m    621\u001b[0m                     \u001b[0;34m\"Expected 2D array, got 1D array instead:\\narray={}.\\n\"\u001b[0m\u001b[0;34m\u001b[0m\u001b[0;34m\u001b[0m\u001b[0m\n\u001b[1;32m    622\u001b[0m                     \u001b[0;34m\"Reshape your data either using array.reshape(-1, 1) if \"\u001b[0m\u001b[0;34m\u001b[0m\u001b[0;34m\u001b[0m\u001b[0m\n",
      "\u001b[0;31mValueError\u001b[0m: Expected 2D array, got 1D array instead:\narray=[0.153 0.252 0.271 0.354 0.322 0.263 0.267 0.33  0.285 0.244 0.332 0.144\n 0.261 0.194 0.348 0.298 0.261 0.16  0.28  0.046 0.262 0.375 0.074 0.111\n 0.242 0.187 0.175 0.08  0.22  0.153 0.109 0.099 0.127 0.271 0.093 0.158\n 0.255 0.121 0.185 0.117 0.322 0.043 0.099 0.144 0.2   0.262 0.066 0.083\n 0.19  0.126 0.142 0.359 0.075 0.175 0.103 0.107 0.215 0.069 0.246 0.146\n 0.137 0.081 0.184 0.191 0.083 0.047 0.22  0.082 0.117 0.137 0.181 0.133\n 0.142 0.23  0.119 0.258 0.113 0.263 0.083 0.26  0.094 0.    0.235 0.185\n 0.215 0.3   0.244 0.073 0.036 0.035 0.166 0.498 0.058 0.147 0.37  0.187\n 0.081 0.245 0.154 0.285 0.11  0.175 0.105 0.043 0.266 0.13  0.178 0.064\n 0.232 0.103 0.153 0.243 0.07  0.188 0.177 0.095 0.27  0.207 0.043 0.269\n 0.372 0.106 0.197 0.059 0.166 0.148 0.212 0.153 0.252 0.244 0.566 0.198\n 0.187 0.209 0.074 0.252 0.076 0.247 0.177 0.2   0.233 0.275 0.169 0.107\n 0.176 0.151 0.419 0.025 0.331 0.218 0.108 0.217 0.276 0.158 0.235 0.202].\nReshape your data either using array.reshape(-1, 1) if your data has a single feature or array.reshape(1, -1) if it contains a single sample."
     ]
    }
   ],
   "source": [
    "reg.fit(new_x,new_y)"
   ]
  },
  {
   "cell_type": "code",
   "execution_count": 19,
   "metadata": {},
   "outputs": [],
   "source": [
    "new_x=new_x.reshape(-1,1)"
   ]
  },
  {
   "cell_type": "code",
   "execution_count": 20,
   "metadata": {},
   "outputs": [
    {
     "data": {
      "text/plain": [
       "array([[0.153],\n",
       "       [0.252],\n",
       "       [0.271],\n",
       "       [0.354],\n",
       "       [0.322],\n",
       "       [0.263],\n",
       "       [0.267],\n",
       "       [0.33 ],\n",
       "       [0.285],\n",
       "       [0.244],\n",
       "       [0.332],\n",
       "       [0.144],\n",
       "       [0.261],\n",
       "       [0.194],\n",
       "       [0.348],\n",
       "       [0.298],\n",
       "       [0.261],\n",
       "       [0.16 ],\n",
       "       [0.28 ],\n",
       "       [0.046],\n",
       "       [0.262],\n",
       "       [0.375],\n",
       "       [0.074],\n",
       "       [0.111],\n",
       "       [0.242],\n",
       "       [0.187],\n",
       "       [0.175],\n",
       "       [0.08 ],\n",
       "       [0.22 ],\n",
       "       [0.153],\n",
       "       [0.109],\n",
       "       [0.099],\n",
       "       [0.127],\n",
       "       [0.271],\n",
       "       [0.093],\n",
       "       [0.158],\n",
       "       [0.255],\n",
       "       [0.121],\n",
       "       [0.185],\n",
       "       [0.117],\n",
       "       [0.322],\n",
       "       [0.043],\n",
       "       [0.099],\n",
       "       [0.144],\n",
       "       [0.2  ],\n",
       "       [0.262],\n",
       "       [0.066],\n",
       "       [0.083],\n",
       "       [0.19 ],\n",
       "       [0.126],\n",
       "       [0.142],\n",
       "       [0.359],\n",
       "       [0.075],\n",
       "       [0.175],\n",
       "       [0.103],\n",
       "       [0.107],\n",
       "       [0.215],\n",
       "       [0.069],\n",
       "       [0.246],\n",
       "       [0.146],\n",
       "       [0.137],\n",
       "       [0.081],\n",
       "       [0.184],\n",
       "       [0.191],\n",
       "       [0.083],\n",
       "       [0.047],\n",
       "       [0.22 ],\n",
       "       [0.082],\n",
       "       [0.117],\n",
       "       [0.137],\n",
       "       [0.181],\n",
       "       [0.133],\n",
       "       [0.142],\n",
       "       [0.23 ],\n",
       "       [0.119],\n",
       "       [0.258],\n",
       "       [0.113],\n",
       "       [0.263],\n",
       "       [0.083],\n",
       "       [0.26 ],\n",
       "       [0.094],\n",
       "       [0.   ],\n",
       "       [0.235],\n",
       "       [0.185],\n",
       "       [0.215],\n",
       "       [0.3  ],\n",
       "       [0.244],\n",
       "       [0.073],\n",
       "       [0.036],\n",
       "       [0.035],\n",
       "       [0.166],\n",
       "       [0.498],\n",
       "       [0.058],\n",
       "       [0.147],\n",
       "       [0.37 ],\n",
       "       [0.187],\n",
       "       [0.081],\n",
       "       [0.245],\n",
       "       [0.154],\n",
       "       [0.285],\n",
       "       [0.11 ],\n",
       "       [0.175],\n",
       "       [0.105],\n",
       "       [0.043],\n",
       "       [0.266],\n",
       "       [0.13 ],\n",
       "       [0.178],\n",
       "       [0.064],\n",
       "       [0.232],\n",
       "       [0.103],\n",
       "       [0.153],\n",
       "       [0.243],\n",
       "       [0.07 ],\n",
       "       [0.188],\n",
       "       [0.177],\n",
       "       [0.095],\n",
       "       [0.27 ],\n",
       "       [0.207],\n",
       "       [0.043],\n",
       "       [0.269],\n",
       "       [0.372],\n",
       "       [0.106],\n",
       "       [0.197],\n",
       "       [0.059],\n",
       "       [0.166],\n",
       "       [0.148],\n",
       "       [0.212],\n",
       "       [0.153],\n",
       "       [0.252],\n",
       "       [0.244],\n",
       "       [0.566],\n",
       "       [0.198],\n",
       "       [0.187],\n",
       "       [0.209],\n",
       "       [0.074],\n",
       "       [0.252],\n",
       "       [0.076],\n",
       "       [0.247],\n",
       "       [0.177],\n",
       "       [0.2  ],\n",
       "       [0.233],\n",
       "       [0.275],\n",
       "       [0.169],\n",
       "       [0.107],\n",
       "       [0.176],\n",
       "       [0.151],\n",
       "       [0.419],\n",
       "       [0.025],\n",
       "       [0.331],\n",
       "       [0.218],\n",
       "       [0.108],\n",
       "       [0.217],\n",
       "       [0.276],\n",
       "       [0.158],\n",
       "       [0.235],\n",
       "       [0.202]])"
      ]
     },
     "execution_count": 20,
     "metadata": {},
     "output_type": "execute_result"
    }
   ],
   "source": [
    "new_x"
   ]
  },
  {
   "cell_type": "code",
   "execution_count": 21,
   "metadata": {},
   "outputs": [
    {
     "data": {
      "text/plain": [
       "Ridge(alpha=0.5)"
      ]
     },
     "execution_count": 21,
     "metadata": {},
     "output_type": "execute_result"
    }
   ],
   "source": [
    "reg.fit(new_x,new_y)re\n"
   ]
  },
  {
   "cell_type": "code",
   "execution_count": 22,
   "metadata": {},
   "outputs": [
    {
     "data": {
      "text/plain": [
       "array([-0.11151693])"
      ]
     },
     "execution_count": 22,
     "metadata": {},
     "output_type": "execute_result"
    }
   ],
   "source": [
    "reg.coef_"
   ]
  },
  {
   "cell_type": "code",
   "execution_count": 23,
   "metadata": {},
   "outputs": [
    {
     "data": {
      "text/plain": [
       "Ridge(alpha=0.5)"
      ]
     },
     "execution_count": 23,
     "metadata": {},
     "output_type": "execute_result"
    }
   ],
   "source": [
    "reg"
   ]
  },
  {
   "cell_type": "code",
   "execution_count": 24,
   "metadata": {},
   "outputs": [
    {
     "data": {
      "text/plain": [
       "1.2294275786719977"
      ]
     },
     "execution_count": 24,
     "metadata": {},
     "output_type": "execute_result"
    }
   ],
   "source": [
    "reg.intercept_"
   ]
  },
  {
   "cell_type": "code",
   "execution_count": 25,
   "metadata": {},
   "outputs": [
    {
     "ename": "NameError",
     "evalue": "name 'plt' is not defined",
     "output_type": "error",
     "traceback": [
      "\u001b[0;31m---------------------------------------------------------------------------\u001b[0m",
      "\u001b[0;31mNameError\u001b[0m                                 Traceback (most recent call last)",
      "\u001b[0;32m<ipython-input-25-92525d7a7198>\u001b[0m in \u001b[0;36m<module>\u001b[0;34m\u001b[0m\n\u001b[0;32m----> 1\u001b[0;31m \u001b[0mplt\u001b[0m\u001b[0;34m.\u001b[0m\u001b[0mplot\u001b[0m\u001b[0;34m(\u001b[0m\u001b[0mx\u001b[0m\u001b[0;34m,\u001b[0m \u001b[0mnp\u001b[0m\u001b[0;34m.\u001b[0m\u001b[0msin\u001b[0m\u001b[0;34m(\u001b[0m\u001b[0;36m8\u001b[0m\u001b[0;34m*\u001b[0m\u001b[0mx\u001b[0m\u001b[0;34m)\u001b[0m\u001b[0;34m)\u001b[0m\u001b[0;34m;\u001b[0m\u001b[0;34m\u001b[0m\u001b[0;34m\u001b[0m\u001b[0m\n\u001b[0m",
      "\u001b[0;31mNameError\u001b[0m: name 'plt' is not defined"
     ]
    }
   ],
   "source": [
    "plt.plot(x, np.sin(8*x));"
   ]
  },
  {
   "cell_type": "code",
   "execution_count": 26,
   "metadata": {},
   "outputs": [],
   "source": [
    "import matplotlib as plt"
   ]
  },
  {
   "cell_type": "code",
   "execution_count": 27,
   "metadata": {},
   "outputs": [
    {
     "ename": "AttributeError",
     "evalue": "module 'matplotlib' has no attribute 'plot'",
     "output_type": "error",
     "traceback": [
      "\u001b[0;31m---------------------------------------------------------------------------\u001b[0m",
      "\u001b[0;31mAttributeError\u001b[0m                            Traceback (most recent call last)",
      "\u001b[0;32m<ipython-input-27-92525d7a7198>\u001b[0m in \u001b[0;36m<module>\u001b[0;34m\u001b[0m\n\u001b[0;32m----> 1\u001b[0;31m \u001b[0mplt\u001b[0m\u001b[0;34m.\u001b[0m\u001b[0mplot\u001b[0m\u001b[0;34m(\u001b[0m\u001b[0mx\u001b[0m\u001b[0;34m,\u001b[0m \u001b[0mnp\u001b[0m\u001b[0;34m.\u001b[0m\u001b[0msin\u001b[0m\u001b[0;34m(\u001b[0m\u001b[0;36m8\u001b[0m\u001b[0;34m*\u001b[0m\u001b[0mx\u001b[0m\u001b[0;34m)\u001b[0m\u001b[0;34m)\u001b[0m\u001b[0;34m;\u001b[0m\u001b[0;34m\u001b[0m\u001b[0;34m\u001b[0m\u001b[0m\n\u001b[0m",
      "\u001b[0;31mAttributeError\u001b[0m: module 'matplotlib' has no attribute 'plot'"
     ]
    }
   ],
   "source": [
    "plt.plot(x, np.sin(8*x));"
   ]
  },
  {
   "cell_type": "code",
   "execution_count": 28,
   "metadata": {},
   "outputs": [],
   "source": [
    "import matplotlib.pyplot as plt\n"
   ]
  },
  {
   "cell_type": "code",
   "execution_count": 29,
   "metadata": {},
   "outputs": [
    {
     "name": "stdout",
     "output_type": "stream",
     "text": [
      "df\t linear_model\t new_x\t new_y\t newy\t np\t pd\t plt\t reg\t \n",
      "x\t y\t \n"
     ]
    }
   ],
   "source": [
    "%who"
   ]
  },
  {
   "cell_type": "code",
   "execution_count": 31,
   "metadata": {},
   "outputs": [
    {
     "data": {
      "text/plain": [
       "[<matplotlib.lines.Line2D at 0x7f85b2f012b0>]"
      ]
     },
     "execution_count": 31,
     "metadata": {},
     "output_type": "execute_result"
    },
    {
     "data": {
      "image/png": "[encoded data removed]",
      "text/plain": [
       "<Figure size 432x288 with 1 Axes>"
      ]
     },
     "metadata": {
      "needs_background": "light"
     },
     "output_type": "display_data"
    }
   ],
   "source": [
    "plt.plot(new_x,new_y,'ro')"
   ]
  },
  {
   "cell_type": "code",
   "execution_count": 32,
   "metadata": {},
   "outputs": [
    {
     "data": {
      "text/plain": [
       "[<matplotlib.lines.Line2D at 0x7f85b2e610a0>]"
      ]
     },
     "execution_count": 32,
     "metadata": {},
     "output_type": "execute_result"
    },
    {
     "data": {
      "image/png": "[encoded data removed]",
      "text/plain": [
       "<Figure size 432x288 with 1 Axes>"
      ]
     },
     "metadata": {
      "needs_background": "light"
     },
     "output_type": "display_data"
    }
   ],
   "source": [
    "plt.plot(new_x,new_y,'ro')"
   ]
  },
  {
   "cell_type": "code",
   "execution_count": 33,
   "metadata": {},
   "outputs": [
    {
     "data": {
      "text/plain": [
       "[<matplotlib.lines.Line2D at 0x7f85b2de9e50>]"
      ]
     },
     "execution_count": 33,
     "metadata": {},
     "output_type": "execute_result"
    },
    {
     "data": {
      "image/png": "[encoded data removed]",
      "text/plain": [
       "<Figure size 432x288 with 1 Axes>"
      ]
     },
     "metadata": {
      "needs_background": "light"
     },
     "output_type": "display_data"
    }
   ],
   "source": [
    "plt.plot(new_x,new_y,'ro')\n",
    "plt.plot(new_x,reg.intercept_+new_x*reg.coef_)"
   ]
  },
  {
   "cell_type": "code",
   "execution_count": 35,
   "metadata": {},
   "outputs": [
    {
     "ename": "TypeError",
     "evalue": "score() missing 2 required positional arguments: 'X' and 'y'",
     "output_type": "error",
     "traceback": [
      "\u001b[0;31m---------------------------------------------------------------------------\u001b[0m",
      "\u001b[0;31mTypeError\u001b[0m                                 Traceback (most recent call last)",
      "\u001b[0;32m<ipython-input-35-208ed01e3368>\u001b[0m in \u001b[0;36m<module>\u001b[0;34m\u001b[0m\n\u001b[0;32m----> 1\u001b[0;31m \u001b[0mreg\u001b[0m\u001b[0;34m.\u001b[0m\u001b[0mscore\u001b[0m\u001b[0;34m(\u001b[0m\u001b[0;34m)\u001b[0m\u001b[0;34m\u001b[0m\u001b[0;34m\u001b[0m\u001b[0m\n\u001b[0m",
      "\u001b[0;31mTypeError\u001b[0m: score() missing 2 required positional arguments: 'X' and 'y'"
     ]
    }
   ],
   "source": [
    "reg.score()"
   ]
  },
  {
   "cell_type": "code",
   "execution_count": 36,
   "metadata": {},
   "outputs": [
    {
     "data": {
      "text/plain": [
       "0.0021568285485855654"
      ]
     },
     "execution_count": 36,
     "metadata": {},
     "output_type": "execute_result"
    }
   ],
   "source": [
    "reg.score(new_x,new_y)"
   ]
  },
  {
   "cell_type": "code",
   "execution_count": 37,
   "metadata": {},
   "outputs": [
    {
     "data": {
      "text/plain": [
       "array([1.21236549, 1.20132531, 1.19920649, 1.18995058, 1.19351913,\n",
       "       1.20009863, 1.19965256, 1.19262699, 1.19764525, 1.20221745,\n",
       "       1.19240396, 1.21336914, 1.20032166, 1.20779329, 1.19061969,\n",
       "       1.19619553, 1.20032166, 1.21158487, 1.19820284, 1.2242978 ,\n",
       "       1.20021014, 1.18760873, 1.22117533, 1.2170492 , 1.20244048,\n",
       "       1.20857391, 1.20991212, 1.22050622, 1.20489385, 1.21236549,\n",
       "       1.21727223, 1.2183874 , 1.21526493, 1.19920649, 1.2190565 ,\n",
       "       1.2118079 , 1.20099076, 1.21593403, 1.20879695, 1.2163801 ,\n",
       "       1.19351913, 1.22463235, 1.2183874 , 1.21336914, 1.20712419,\n",
       "       1.20021014, 1.22206746, 1.22017167, 1.20823936, 1.21537645,\n",
       "       1.21359217, 1.189393  , 1.22106381, 1.20991212, 1.21794133,\n",
       "       1.21749527, 1.20545144, 1.22173291, 1.20199441, 1.21314611,\n",
       "       1.21414976, 1.22039471, 1.20890846, 1.20812784, 1.22017167,\n",
       "       1.22418628, 1.20489385, 1.22028319, 1.2163801 , 1.21414976,\n",
       "       1.20924301, 1.21459583, 1.21359217, 1.20377868, 1.21615706,\n",
       "       1.20065621, 1.21682617, 1.20009863, 1.22017167, 1.20043318,\n",
       "       1.21894499, 1.22942758, 1.2032211 , 1.20879695, 1.20545144,\n",
       "       1.1959725 , 1.20221745, 1.22128684, 1.22541297, 1.22552449,\n",
       "       1.21091577, 1.17389215, 1.2229596 , 1.21303459, 1.18816631,\n",
       "       1.20857391, 1.22039471, 1.20210593, 1.21225397, 1.19764525,\n",
       "       1.21716072, 1.20991212, 1.2177183 , 1.22463235, 1.19976407,\n",
       "       1.21493038, 1.20957756, 1.22229049, 1.20355565, 1.21794133,\n",
       "       1.21236549, 1.20232896, 1.22162139, 1.2084624 , 1.20968908,\n",
       "       1.21883347, 1.19931801, 1.20634357, 1.22463235, 1.19942952,\n",
       "       1.18794328, 1.21760678, 1.20745874, 1.22284808, 1.21091577,\n",
       "       1.21292307, 1.20578599, 1.21236549, 1.20132531, 1.20221745,\n",
       "       1.16630899, 1.20734723, 1.20857391, 1.20612054, 1.22117533,\n",
       "       1.20132531, 1.22095229, 1.2018829 , 1.20968908, 1.20712419,\n",
       "       1.20344413, 1.19876042, 1.21058122, 1.21749527, 1.2098006 ,\n",
       "       1.21258852, 1.18270198, 1.22663966, 1.19251547, 1.20511689,\n",
       "       1.21738375, 1.2052284 , 1.19864891, 1.2118079 , 1.2032211 ,\n",
       "       1.20690116])"
      ]
     },
     "execution_count": 37,
     "metadata": {},
     "output_type": "execute_result"
    }
   ],
   "source": [
    "reg.predict(new_x)"
   ]
  },
  {
   "cell_type": "code",
   "execution_count": 38,
   "metadata": {},
   "outputs": [],
   "source": [
    "from sklearn.preprocessing import PolynomialFeatures\n"
   ]
  },
  {
   "cell_type": "code",
   "execution_count": 39,
   "metadata": {},
   "outputs": [],
   "source": [
    "transformer = PolynomialFeatures(degree=2, include_bias=False)"
   ]
  },
  {
   "cell_type": "code",
   "execution_count": 40,
   "metadata": {},
   "outputs": [
    {
     "ename": "NotFittedError",
     "evalue": "This PolynomialFeatures instance is not fitted yet. Call 'fit' with appropriate arguments before using this estimator.",
     "output_type": "error",
     "traceback": [
      "\u001b[0;31m---------------------------------------------------------------------------\u001b[0m",
      "\u001b[0;31mNotFittedError\u001b[0m                            Traceback (most recent call last)",
      "\u001b[0;32m<ipython-input-40-0e5465e13626>\u001b[0m in \u001b[0;36m<module>\u001b[0;34m\u001b[0m\n\u001b[0;32m----> 1\u001b[0;31m \u001b[0mx_\u001b[0m\u001b[0;34m=\u001b[0m\u001b[0mtransformer\u001b[0m\u001b[0;34m.\u001b[0m\u001b[0mtransform\u001b[0m\u001b[0;34m(\u001b[0m\u001b[0mnew_x\u001b[0m\u001b[0;34m)\u001b[0m\u001b[0;34m\u001b[0m\u001b[0;34m\u001b[0m\u001b[0m\n\u001b[0m",
      "\u001b[0;32m~/anaconda3/lib/python3.8/site-packages/sklearn/preprocessing/_data.py\u001b[0m in \u001b[0;36mtransform\u001b[0;34m(self, X)\u001b[0m\n\u001b[1;32m   1546\u001b[0m             \u001b[0mfeatures\u001b[0m \u001b[0mgenerated\u001b[0m \u001b[0;32mfrom\u001b[0m \u001b[0mthe\u001b[0m \u001b[0mcombination\u001b[0m \u001b[0mof\u001b[0m \u001b[0minputs\u001b[0m\u001b[0;34m.\u001b[0m\u001b[0;34m\u001b[0m\u001b[0;34m\u001b[0m\u001b[0m\n\u001b[1;32m   1547\u001b[0m         \"\"\"\n\u001b[0;32m-> 1548\u001b[0;31m         \u001b[0mcheck_is_fitted\u001b[0m\u001b[0;34m(\u001b[0m\u001b[0mself\u001b[0m\u001b[0;34m)\u001b[0m\u001b[0;34m\u001b[0m\u001b[0;34m\u001b[0m\u001b[0m\n\u001b[0m\u001b[1;32m   1549\u001b[0m \u001b[0;34m\u001b[0m\u001b[0m\n\u001b[1;32m   1550\u001b[0m         X = check_array(X, order='F', dtype=FLOAT_DTYPES,\n",
      "\u001b[0;32m~/anaconda3/lib/python3.8/site-packages/sklearn/utils/validation.py\u001b[0m in \u001b[0;36minner_f\u001b[0;34m(*args, **kwargs)\u001b[0m\n\u001b[1;32m     71\u001b[0m                           FutureWarning)\n\u001b[1;32m     72\u001b[0m         \u001b[0mkwargs\u001b[0m\u001b[0;34m.\u001b[0m\u001b[0mupdate\u001b[0m\u001b[0;34m(\u001b[0m\u001b[0;34m{\u001b[0m\u001b[0mk\u001b[0m\u001b[0;34m:\u001b[0m \u001b[0marg\u001b[0m \u001b[0;32mfor\u001b[0m \u001b[0mk\u001b[0m\u001b[0;34m,\u001b[0m \u001b[0marg\u001b[0m \u001b[0;32min\u001b[0m \u001b[0mzip\u001b[0m\u001b[0;34m(\u001b[0m\u001b[0msig\u001b[0m\u001b[0;34m.\u001b[0m\u001b[0mparameters\u001b[0m\u001b[0;34m,\u001b[0m \u001b[0margs\u001b[0m\u001b[0;34m)\u001b[0m\u001b[0;34m}\u001b[0m\u001b[0;34m)\u001b[0m\u001b[0;34m\u001b[0m\u001b[0;34m\u001b[0m\u001b[0m\n\u001b[0;32m---> 73\u001b[0;31m         \u001b[0;32mreturn\u001b[0m \u001b[0mf\u001b[0m\u001b[0;34m(\u001b[0m\u001b[0;34m**\u001b[0m\u001b[0mkwargs\u001b[0m\u001b[0;34m)\u001b[0m\u001b[0;34m\u001b[0m\u001b[0;34m\u001b[0m\u001b[0m\n\u001b[0m\u001b[1;32m     74\u001b[0m     \u001b[0;32mreturn\u001b[0m \u001b[0minner_f\u001b[0m\u001b[0;34m\u001b[0m\u001b[0;34m\u001b[0m\u001b[0m\n\u001b[1;32m     75\u001b[0m \u001b[0;34m\u001b[0m\u001b[0m\n",
      "\u001b[0;32m~/anaconda3/lib/python3.8/site-packages/sklearn/utils/validation.py\u001b[0m in \u001b[0;36mcheck_is_fitted\u001b[0;34m(estimator, attributes, msg, all_or_any)\u001b[0m\n\u001b[1;32m   1018\u001b[0m \u001b[0;34m\u001b[0m\u001b[0m\n\u001b[1;32m   1019\u001b[0m     \u001b[0;32mif\u001b[0m \u001b[0;32mnot\u001b[0m \u001b[0mattrs\u001b[0m\u001b[0;34m:\u001b[0m\u001b[0;34m\u001b[0m\u001b[0;34m\u001b[0m\u001b[0m\n\u001b[0;32m-> 1020\u001b[0;31m         \u001b[0;32mraise\u001b[0m \u001b[0mNotFittedError\u001b[0m\u001b[0;34m(\u001b[0m\u001b[0mmsg\u001b[0m \u001b[0;34m%\u001b[0m \u001b[0;34m{\u001b[0m\u001b[0;34m'name'\u001b[0m\u001b[0;34m:\u001b[0m \u001b[0mtype\u001b[0m\u001b[0;34m(\u001b[0m\u001b[0mestimator\u001b[0m\u001b[0;34m)\u001b[0m\u001b[0;34m.\u001b[0m\u001b[0m__name__\u001b[0m\u001b[0;34m}\u001b[0m\u001b[0;34m)\u001b[0m\u001b[0;34m\u001b[0m\u001b[0;34m\u001b[0m\u001b[0m\n\u001b[0m\u001b[1;32m   1021\u001b[0m \u001b[0;34m\u001b[0m\u001b[0m\n\u001b[1;32m   1022\u001b[0m \u001b[0;34m\u001b[0m\u001b[0m\n",
      "\u001b[0;31mNotFittedError\u001b[0m: This PolynomialFeatures instance is not fitted yet. Call 'fit' with appropriate arguments before using this estimator."
     ]
    }
   ],
   "source": [
    "x_=transformer.transform(new_x)"
   ]
  },
  {
   "cell_type": "code",
   "execution_count": 41,
   "metadata": {},
   "outputs": [
    {
     "data": {
      "text/plain": [
       "PolynomialFeatures(include_bias=False)"
      ]
     },
     "execution_count": 41,
     "metadata": {},
     "output_type": "execute_result"
    }
   ],
   "source": [
    "transformer.fit(new_x)"
   ]
  },
  {
   "cell_type": "code",
   "execution_count": 42,
   "metadata": {},
   "outputs": [],
   "source": [
    "x_=transformer.transform(new_x)\n"
   ]
  },
  {
   "cell_type": "code",
   "execution_count": 43,
   "metadata": {},
   "outputs": [
    {
     "name": "stdout",
     "output_type": "stream",
     "text": [
      "[[0.153    0.023409]\n",
      " [0.252    0.063504]\n",
      " [0.271    0.073441]\n",
      " [0.354    0.125316]\n",
      " [0.322    0.103684]\n",
      " [0.263    0.069169]\n",
      " [0.267    0.071289]\n",
      " [0.33     0.1089  ]\n",
      " [0.285    0.081225]\n",
      " [0.244    0.059536]\n",
      " [0.332    0.110224]\n",
      " [0.144    0.020736]\n",
      " [0.261    0.068121]\n",
      " [0.194    0.037636]\n",
      " [0.348    0.121104]\n",
      " [0.298    0.088804]\n",
      " [0.261    0.068121]\n",
      " [0.16     0.0256  ]\n",
      " [0.28     0.0784  ]\n",
      " [0.046    0.002116]\n",
      " [0.262    0.068644]\n",
      " [0.375    0.140625]\n",
      " [0.074    0.005476]\n",
      " [0.111    0.012321]\n",
      " [0.242    0.058564]\n",
      " [0.187    0.034969]\n",
      " [0.175    0.030625]\n",
      " [0.08     0.0064  ]\n",
      " [0.22     0.0484  ]\n",
      " [0.153    0.023409]\n",
      " [0.109    0.011881]\n",
      " [0.099    0.009801]\n",
      " [0.127    0.016129]\n",
      " [0.271    0.073441]\n",
      " [0.093    0.008649]\n",
      " [0.158    0.024964]\n",
      " [0.255    0.065025]\n",
      " [0.121    0.014641]\n",
      " [0.185    0.034225]\n",
      " [0.117    0.013689]\n",
      " [0.322    0.103684]\n",
      " [0.043    0.001849]\n",
      " [0.099    0.009801]\n",
      " [0.144    0.020736]\n",
      " [0.2      0.04    ]\n",
      " [0.262    0.068644]\n",
      " [0.066    0.004356]\n",
      " [0.083    0.006889]\n",
      " [0.19     0.0361  ]\n",
      " [0.126    0.015876]\n",
      " [0.142    0.020164]\n",
      " [0.359    0.128881]\n",
      " [0.075    0.005625]\n",
      " [0.175    0.030625]\n",
      " [0.103    0.010609]\n",
      " [0.107    0.011449]\n",
      " [0.215    0.046225]\n",
      " [0.069    0.004761]\n",
      " [0.246    0.060516]\n",
      " [0.146    0.021316]\n",
      " [0.137    0.018769]\n",
      " [0.081    0.006561]\n",
      " [0.184    0.033856]\n",
      " [0.191    0.036481]\n",
      " [0.083    0.006889]\n",
      " [0.047    0.002209]\n",
      " [0.22     0.0484  ]\n",
      " [0.082    0.006724]\n",
      " [0.117    0.013689]\n",
      " [0.137    0.018769]\n",
      " [0.181    0.032761]\n",
      " [0.133    0.017689]\n",
      " [0.142    0.020164]\n",
      " [0.23     0.0529  ]\n",
      " [0.119    0.014161]\n",
      " [0.258    0.066564]\n",
      " [0.113    0.012769]\n",
      " [0.263    0.069169]\n",
      " [0.083    0.006889]\n",
      " [0.26     0.0676  ]\n",
      " [0.094    0.008836]\n",
      " [0.       0.      ]\n",
      " [0.235    0.055225]\n",
      " [0.185    0.034225]\n",
      " [0.215    0.046225]\n",
      " [0.3      0.09    ]\n",
      " [0.244    0.059536]\n",
      " [0.073    0.005329]\n",
      " [0.036    0.001296]\n",
      " [0.035    0.001225]\n",
      " [0.166    0.027556]\n",
      " [0.498    0.248004]\n",
      " [0.058    0.003364]\n",
      " [0.147    0.021609]\n",
      " [0.37     0.1369  ]\n",
      " [0.187    0.034969]\n",
      " [0.081    0.006561]\n",
      " [0.245    0.060025]\n",
      " [0.154    0.023716]\n",
      " [0.285    0.081225]\n",
      " [0.11     0.0121  ]\n",
      " [0.175    0.030625]\n",
      " [0.105    0.011025]\n",
      " [0.043    0.001849]\n",
      " [0.266    0.070756]\n",
      " [0.13     0.0169  ]\n",
      " [0.178    0.031684]\n",
      " [0.064    0.004096]\n",
      " [0.232    0.053824]\n",
      " [0.103    0.010609]\n",
      " [0.153    0.023409]\n",
      " [0.243    0.059049]\n",
      " [0.07     0.0049  ]\n",
      " [0.188    0.035344]\n",
      " [0.177    0.031329]\n",
      " [0.095    0.009025]\n",
      " [0.27     0.0729  ]\n",
      " [0.207    0.042849]\n",
      " [0.043    0.001849]\n",
      " [0.269    0.072361]\n",
      " [0.372    0.138384]\n",
      " [0.106    0.011236]\n",
      " [0.197    0.038809]\n",
      " [0.059    0.003481]\n",
      " [0.166    0.027556]\n",
      " [0.148    0.021904]\n",
      " [0.212    0.044944]\n",
      " [0.153    0.023409]\n",
      " [0.252    0.063504]\n",
      " [0.244    0.059536]\n",
      " [0.566    0.320356]\n",
      " [0.198    0.039204]\n",
      " [0.187    0.034969]\n",
      " [0.209    0.043681]\n",
      " [0.074    0.005476]\n",
      " [0.252    0.063504]\n",
      " [0.076    0.005776]\n",
      " [0.247    0.061009]\n",
      " [0.177    0.031329]\n",
      " [0.2      0.04    ]\n",
      " [0.233    0.054289]\n",
      " [0.275    0.075625]\n",
      " [0.169    0.028561]\n",
      " [0.107    0.011449]\n",
      " [0.176    0.030976]\n",
      " [0.151    0.022801]\n",
      " [0.419    0.175561]\n",
      " [0.025    0.000625]\n",
      " [0.331    0.109561]\n",
      " [0.218    0.047524]\n",
      " [0.108    0.011664]\n",
      " [0.217    0.047089]\n",
      " [0.276    0.076176]\n",
      " [0.158    0.024964]\n",
      " [0.235    0.055225]\n",
      " [0.202    0.040804]]\n"
     ]
    }
   ],
   "source": [
    "print(x_)"
   ]
  },
  {
   "cell_type": "code",
   "execution_count": 44,
   "metadata": {},
   "outputs": [],
   "source": [
    "reg2=linear_model.Ridge(alpha=.5)"
   ]
  },
  {
   "cell_type": "code",
   "execution_count": 45,
   "metadata": {},
   "outputs": [
    {
     "data": {
      "text/plain": [
       "Ridge(alpha=0.5)"
      ]
     },
     "execution_count": 45,
     "metadata": {},
     "output_type": "execute_result"
    }
   ],
   "source": [
    "reg2.fit(x_,new_y)"
   ]
  },
  {
   "cell_type": "code",
   "execution_count": 46,
   "metadata": {},
   "outputs": [
    {
     "data": {
      "text/plain": [
       "0.0025224978126223707"
      ]
     },
     "execution_count": 46,
     "metadata": {},
     "output_type": "execute_result"
    }
   ],
   "source": [
    "reg2.score(x_,new_y)"
   ]
  },
  {
   "cell_type": "code",
   "execution_count": 47,
   "metadata": {},
   "outputs": [
    {
     "data": {
      "text/plain": [
       "0.0021568285485855654"
      ]
     },
     "execution_count": 47,
     "metadata": {},
     "output_type": "execute_result"
    }
   ],
   "source": [
    "reg.score(new_x,new_y)"
   ]
  },
  {
   "cell_type": "code",
   "execution_count": 48,
   "metadata": {},
   "outputs": [],
   "source": [
    "#better:)"
   ]
  },
  {
   "cell_type": "code",
   "execution_count": 49,
   "metadata": {},
   "outputs": [
    {
     "data": {
      "text/plain": [
       "array([-0.12852461,  0.05241571])"
      ]
     },
     "execution_count": 49,
     "metadata": {},
     "output_type": "execute_result"
    }
   ],
   "source": [
    "reg2.coef_"
   ]
  },
  {
   "cell_type": "code",
   "execution_count": 50,
   "metadata": {},
   "outputs": [
    {
     "data": {
      "text/plain": [
       "1.2303078960605733"
      ]
     },
     "execution_count": 50,
     "metadata": {},
     "output_type": "execute_result"
    }
   ],
   "source": [
    "reg2.intercept_"
   ]
  },
  {
   "cell_type": "code",
   "execution_count": 55,
   "metadata": {},
   "outputs": [
    {
     "ename": "TypeError",
     "evalue": "can't multiply sequence by non-int of type 'list'",
     "output_type": "error",
     "traceback": [
      "\u001b[0;31m---------------------------------------------------------------------------\u001b[0m",
      "\u001b[0;31mTypeError\u001b[0m                                 Traceback (most recent call last)",
      "\u001b[0;32m<ipython-input-55-b52acf427c1e>\u001b[0m in \u001b[0;36m<module>\u001b[0;34m\u001b[0m\n\u001b[1;32m      1\u001b[0m \u001b[0mplt\u001b[0m\u001b[0;34m.\u001b[0m\u001b[0mplot\u001b[0m\u001b[0;34m(\u001b[0m\u001b[0mnew_x\u001b[0m\u001b[0;34m,\u001b[0m\u001b[0mnew_y\u001b[0m\u001b[0;34m,\u001b[0m\u001b[0;34m'ro'\u001b[0m\u001b[0;34m)\u001b[0m\u001b[0;34m\u001b[0m\u001b[0;34m\u001b[0m\u001b[0m\n\u001b[0;32m----> 2\u001b[0;31m \u001b[0mplt\u001b[0m\u001b[0;34m.\u001b[0m\u001b[0mplot\u001b[0m\u001b[0;34m(\u001b[0m\u001b[0mx_\u001b[0m\u001b[0;34m,\u001b[0m\u001b[0mreg2\u001b[0m\u001b[0;34m.\u001b[0m\u001b[0mintercept_\u001b[0m\u001b[0;34m+\u001b[0m\u001b[0mx_\u001b[0m\u001b[0;34m*\u001b[0m\u001b[0mreg2\u001b[0m\u001b[0;34m.\u001b[0m\u001b[0mcoef_\u001b[0m\u001b[0;34m[\u001b[0m\u001b[0;36m0\u001b[0m\u001b[0;34m]\u001b[0m\u001b[0;34m+\u001b[0m\u001b[0mx\u001b[0m\u001b[0;34m*\u001b[0m\u001b[0mx\u001b[0m\u001b[0;34m*\u001b[0m\u001b[0mreg2\u001b[0m\u001b[0;34m.\u001b[0m\u001b[0mcoef_\u001b[0m\u001b[0;34m[\u001b[0m\u001b[0;36m1\u001b[0m\u001b[0;34m]\u001b[0m\u001b[0;34m)\u001b[0m\u001b[0;34m\u001b[0m\u001b[0;34m\u001b[0m\u001b[0m\n\u001b[0m",
      "\u001b[0;31mTypeError\u001b[0m: can't multiply sequence by non-int of type 'list'"
     ]
    },
    {
     "data": {
      "image/png": "[encoded data removed]",
      "text/plain": [
       "<Figure size 432x288 with 1 Axes>"
      ]
     },
     "metadata": {
      "needs_background": "light"
     },
     "output_type": "display_data"
    }
   ],
   "source": [
    "plt.plot(new_x,new_y,'ro')\n",
    "plt.plot(x_,reg2.intercept_+x_*reg2.coef_[0]+x*x*reg2.coef_[1])"
   ]
  },
  {
   "cell_type": "code",
   "execution_count": 58,
   "metadata": {},
   "outputs": [],
   "source": [
    "xx=[]"
   ]
  },
  {
   "cell_type": "code",
   "execution_count": 59,
   "metadata": {},
   "outputs": [],
   "source": [
    "i=0.0\n",
    "while i<1.0:\n",
    "    xx.append(i)\n",
    "    i+=0.01"
   ]
  },
  {
   "cell_type": "code",
   "execution_count": 60,
   "metadata": {},
   "outputs": [
    {
     "data": {
      "text/plain": [
       "[0.0,\n",
       " 0.01,\n",
       " 0.02,\n",
       " 0.03,\n",
       " 0.04,\n",
       " 0.05,\n",
       " 0.060000000000000005,\n",
       " 0.07,\n",
       " 0.08,\n",
       " 0.09,\n",
       " 0.09999999999999999,\n",
       " 0.10999999999999999,\n",
       " 0.11999999999999998,\n",
       " 0.12999999999999998,\n",
       " 0.13999999999999999,\n",
       " 0.15,\n",
       " 0.16,\n",
       " 0.17,\n",
       " 0.18000000000000002,\n",
       " 0.19000000000000003,\n",
       " 0.20000000000000004,\n",
       " 0.21000000000000005,\n",
       " 0.22000000000000006,\n",
       " 0.23000000000000007,\n",
       " 0.24000000000000007,\n",
       " 0.25000000000000006,\n",
       " 0.26000000000000006,\n",
       " 0.2700000000000001,\n",
       " 0.2800000000000001,\n",
       " 0.2900000000000001,\n",
       " 0.3000000000000001,\n",
       " 0.3100000000000001,\n",
       " 0.3200000000000001,\n",
       " 0.3300000000000001,\n",
       " 0.34000000000000014,\n",
       " 0.35000000000000014,\n",
       " 0.36000000000000015,\n",
       " 0.37000000000000016,\n",
       " 0.38000000000000017,\n",
       " 0.3900000000000002,\n",
       " 0.4000000000000002,\n",
       " 0.4100000000000002,\n",
       " 0.4200000000000002,\n",
       " 0.4300000000000002,\n",
       " 0.4400000000000002,\n",
       " 0.45000000000000023,\n",
       " 0.46000000000000024,\n",
       " 0.47000000000000025,\n",
       " 0.48000000000000026,\n",
       " 0.49000000000000027,\n",
       " 0.5000000000000002,\n",
       " 0.5100000000000002,\n",
       " 0.5200000000000002,\n",
       " 0.5300000000000002,\n",
       " 0.5400000000000003,\n",
       " 0.5500000000000003,\n",
       " 0.5600000000000003,\n",
       " 0.5700000000000003,\n",
       " 0.5800000000000003,\n",
       " 0.5900000000000003,\n",
       " 0.6000000000000003,\n",
       " 0.6100000000000003,\n",
       " 0.6200000000000003,\n",
       " 0.6300000000000003,\n",
       " 0.6400000000000003,\n",
       " 0.6500000000000004,\n",
       " 0.6600000000000004,\n",
       " 0.6700000000000004,\n",
       " 0.6800000000000004,\n",
       " 0.6900000000000004,\n",
       " 0.7000000000000004,\n",
       " 0.7100000000000004,\n",
       " 0.7200000000000004,\n",
       " 0.7300000000000004,\n",
       " 0.7400000000000004,\n",
       " 0.7500000000000004,\n",
       " 0.7600000000000005,\n",
       " 0.7700000000000005,\n",
       " 0.7800000000000005,\n",
       " 0.7900000000000005,\n",
       " 0.8000000000000005,\n",
       " 0.8100000000000005,\n",
       " 0.8200000000000005,\n",
       " 0.8300000000000005,\n",
       " 0.8400000000000005,\n",
       " 0.8500000000000005,\n",
       " 0.8600000000000005,\n",
       " 0.8700000000000006,\n",
       " 0.8800000000000006,\n",
       " 0.8900000000000006,\n",
       " 0.9000000000000006,\n",
       " 0.9100000000000006,\n",
       " 0.9200000000000006,\n",
       " 0.9300000000000006,\n",
       " 0.9400000000000006,\n",
       " 0.9500000000000006,\n",
       " 0.9600000000000006,\n",
       " 0.9700000000000006,\n",
       " 0.9800000000000006,\n",
       " 0.9900000000000007]"
      ]
     },
     "execution_count": 60,
     "metadata": {},
     "output_type": "execute_result"
    }
   ],
   "source": [
    "xx"
   ]
  },
  {
   "cell_type": "code",
   "execution_count": 61,
   "metadata": {},
   "outputs": [
    {
     "ename": "TypeError",
     "evalue": "can't multiply sequence by non-int of type 'numpy.float64'",
     "output_type": "error",
     "traceback": [
      "\u001b[0;31m---------------------------------------------------------------------------\u001b[0m",
      "\u001b[0;31mTypeError\u001b[0m                                 Traceback (most recent call last)",
      "\u001b[0;32m<ipython-input-61-e735297cb7f3>\u001b[0m in \u001b[0;36m<module>\u001b[0;34m\u001b[0m\n\u001b[1;32m      1\u001b[0m \u001b[0mplt\u001b[0m\u001b[0;34m.\u001b[0m\u001b[0mplot\u001b[0m\u001b[0;34m(\u001b[0m\u001b[0mnew_x\u001b[0m\u001b[0;34m,\u001b[0m\u001b[0mnew_y\u001b[0m\u001b[0;34m,\u001b[0m\u001b[0;34m'ro'\u001b[0m\u001b[0;34m)\u001b[0m\u001b[0;34m\u001b[0m\u001b[0;34m\u001b[0m\u001b[0m\n\u001b[0;32m----> 2\u001b[0;31m \u001b[0mplt\u001b[0m\u001b[0;34m.\u001b[0m\u001b[0mplot\u001b[0m\u001b[0;34m(\u001b[0m\u001b[0mxx\u001b[0m\u001b[0;34m,\u001b[0m\u001b[0mreg2\u001b[0m\u001b[0;34m.\u001b[0m\u001b[0mintercept_\u001b[0m\u001b[0;34m+\u001b[0m\u001b[0mxx\u001b[0m\u001b[0;34m*\u001b[0m\u001b[0mreg2\u001b[0m\u001b[0;34m.\u001b[0m\u001b[0mcoef_\u001b[0m\u001b[0;34m[\u001b[0m\u001b[0;36m0\u001b[0m\u001b[0;34m]\u001b[0m\u001b[0;34m+\u001b[0m\u001b[0mxx\u001b[0m\u001b[0;34m*\u001b[0m\u001b[0mxx\u001b[0m\u001b[0;34m*\u001b[0m\u001b[0mreg2\u001b[0m\u001b[0;34m.\u001b[0m\u001b[0mcoef_\u001b[0m\u001b[0;34m[\u001b[0m\u001b[0;36m1\u001b[0m\u001b[0;34m]\u001b[0m\u001b[0;34m)\u001b[0m\u001b[0;34m\u001b[0m\u001b[0;34m\u001b[0m\u001b[0m\n\u001b[0m",
      "\u001b[0;31mTypeError\u001b[0m: can't multiply sequence by non-int of type 'numpy.float64'"
     ]
    },
    {
     "data": {
      "image/png": "[encoded data removed]",
      "text/plain": [
       "<Figure size 432x288 with 1 Axes>"
      ]
     },
     "metadata": {
      "needs_background": "light"
     },
     "output_type": "display_data"
    }
   ],
   "source": [
    "plt.plot(new_x,new_y,'ro')\n",
    "plt.plot(xx,reg2.intercept_+xx*reg2.coef_[0]+xx*xx*reg2.coef_[1])"
   ]
  },
  {
   "cell_type": "code",
   "execution_count": 62,
   "metadata": {},
   "outputs": [],
   "source": [
    "xx=np.array(xx)"
   ]
  },
  {
   "cell_type": "code",
   "execution_count": 63,
   "metadata": {},
   "outputs": [
    {
     "data": {
      "text/plain": [
       "array([0.  , 0.01, 0.02, 0.03, 0.04, 0.05, 0.06, 0.07, 0.08, 0.09, 0.1 ,\n",
       "       0.11, 0.12, 0.13, 0.14, 0.15, 0.16, 0.17, 0.18, 0.19, 0.2 , 0.21,\n",
       "       0.22, 0.23, 0.24, 0.25, 0.26, 0.27, 0.28, 0.29, 0.3 , 0.31, 0.32,\n",
       "       0.33, 0.34, 0.35, 0.36, 0.37, 0.38, 0.39, 0.4 , 0.41, 0.42, 0.43,\n",
       "       0.44, 0.45, 0.46, 0.47, 0.48, 0.49, 0.5 , 0.51, 0.52, 0.53, 0.54,\n",
       "       0.55, 0.56, 0.57, 0.58, 0.59, 0.6 , 0.61, 0.62, 0.63, 0.64, 0.65,\n",
       "       0.66, 0.67, 0.68, 0.69, 0.7 , 0.71, 0.72, 0.73, 0.74, 0.75, 0.76,\n",
       "       0.77, 0.78, 0.79, 0.8 , 0.81, 0.82, 0.83, 0.84, 0.85, 0.86, 0.87,\n",
       "       0.88, 0.89, 0.9 , 0.91, 0.92, 0.93, 0.94, 0.95, 0.96, 0.97, 0.98,\n",
       "       0.99])"
      ]
     },
     "execution_count": 63,
     "metadata": {},
     "output_type": "execute_result"
    }
   ],
   "source": [
    "xx"
   ]
  },
  {
   "cell_type": "code",
   "execution_count": 64,
   "metadata": {},
   "outputs": [
    {
     "data": {
      "text/plain": [
       "[<matplotlib.lines.Line2D at 0x7f85b2630a60>]"
      ]
     },
     "execution_count": 64,
     "metadata": {},
     "output_type": "execute_result"
    },
    {
     "data": {
      "image/png": "[encoded data removed]",
      "text/plain": [
       "<Figure size 432x288 with 1 Axes>"
      ]
     },
     "metadata": {
      "needs_background": "light"
     },
     "output_type": "display_data"
    }
   ],
   "source": [
    "plt.plot(new_x,new_y,'ro')\n",
    "plt.plot(xx,reg2.intercept_+xx*reg2.coef_[0]+xx*xx*reg2.coef_[1])"
   ]
  },
  {
   "cell_type": "code",
   "execution_count": 65,
   "metadata": {},
   "outputs": [
    {
     "data": {
      "text/plain": [
       "array([-0.12852461,  0.05241571])"
      ]
     },
     "execution_count": 65,
     "metadata": {},
     "output_type": "execute_result"
    }
   ],
   "source": [
    "reg2.coef_"
   ]
  },
  {
   "cell_type": "code",
   "execution_count": 67,
   "metadata": {},
   "outputs": [
    {
     "data": {
      "text/plain": [
       "0.0025224978126223707"
      ]
     },
     "execution_count": 67,
     "metadata": {},
     "output_type": "execute_result"
    }
   ],
   "source": [
    "reg2.score(x_,new_y)"
   ]
  },
  {
   "cell_type": "code",
   "execution_count": 68,
   "metadata": {},
   "outputs": [
    {
     "data": {
      "text/plain": [
       "<bound method DataFrame.info of      Overall rank         Country or region  Score  GDP per capita  \\\n",
       "0               1                   Finland  7.769           1.340   \n",
       "1               2                   Denmark  7.600           1.383   \n",
       "2               3                    Norway  7.554           1.488   \n",
       "3               4                   Iceland  7.494           1.380   \n",
       "4               5               Netherlands  7.488           1.396   \n",
       "..            ...                       ...    ...             ...   \n",
       "151           152                    Rwanda  3.334           0.359   \n",
       "152           153                  Tanzania  3.231           0.476   \n",
       "153           154               Afghanistan  3.203           0.350   \n",
       "154           155  Central African Republic  3.083           0.026   \n",
       "155           156               South Sudan  2.853           0.306   \n",
       "\n",
       "     Social support  Healthy life expectancy  Freedom to make life choices  \\\n",
       "0             1.587                    0.986                         0.596   \n",
       "1             1.573                    0.996                         0.592   \n",
       "2             1.582                    1.028                         0.603   \n",
       "3             1.624                    1.026                         0.591   \n",
       "4             1.522                    0.999                         0.557   \n",
       "..              ...                      ...                           ...   \n",
       "151           0.711                    0.614                         0.555   \n",
       "152           0.885                    0.499                         0.417   \n",
       "153           0.517                    0.361                         0.000   \n",
       "154           0.000                    0.105                         0.225   \n",
       "155           0.575                    0.295                         0.010   \n",
       "\n",
       "     Generosity  Perceptions of corruption  \n",
       "0         0.153                      0.393  \n",
       "1         0.252                      0.410  \n",
       "2         0.271                      0.341  \n",
       "3         0.354                      0.118  \n",
       "4         0.322                      0.298  \n",
       "..          ...                        ...  \n",
       "151       0.217                      0.411  \n",
       "152       0.276                      0.147  \n",
       "153       0.158                      0.025  \n",
       "154       0.235                      0.035  \n",
       "155       0.202                      0.091  \n",
       "\n",
       "[156 rows x 9 columns]>"
      ]
     },
     "execution_count": 68,
     "metadata": {},
     "output_type": "execute_result"
    }
   ],
   "source": [
    "df.info"
   ]
  },
  {
   "cell_type": "code",
   "execution_count": 69,
   "metadata": {},
   "outputs": [
    {
     "name": "stdout",
     "output_type": "stream",
     "text": [
      "<class 'pandas.core.frame.DataFrame'>\n",
      "RangeIndex: 156 entries, 0 to 155\n",
      "Data columns (total 9 columns):\n",
      " #   Column                        Non-Null Count  Dtype  \n",
      "---  ------                        --------------  -----  \n",
      " 0   Overall rank                  156 non-null    int64  \n",
      " 1   Country or region             156 non-null    object \n",
      " 2   Score                         156 non-null    float64\n",
      " 3   GDP per capita                156 non-null    float64\n",
      " 4   Social support                156 non-null    float64\n",
      " 5   Healthy life expectancy       156 non-null    float64\n",
      " 6   Freedom to make life choices  156 non-null    float64\n",
      " 7   Generosity                    156 non-null    float64\n",
      " 8   Perceptions of corruption     156 non-null    float64\n",
      "dtypes: float64(7), int64(1), object(1)\n",
      "memory usage: 11.1+ KB\n"
     ]
    }
   ],
   "source": [
    "df.info()\n"
   ]
  },
  {
   "cell_type": "code",
   "execution_count": 70,
   "metadata": {},
   "outputs": [
    {
     "data": {
      "text/html": [
       "<div>\n",
       "<style scoped>\n",
       "    .dataframe tbody tr th:only-of-type {\n",
       "        vertical-align: middle;\n",
       "    }\n",
       "\n",
       "    .dataframe tbody tr th {\n",
       "        vertical-align: top;\n",
       "    }\n",
       "\n",
       "    .dataframe thead th {\n",
       "        text-align: right;\n",
       "    }\n",
       "</style>\n",
       "<table border=\"1\" class=\"dataframe\">\n",
       "  <thead>\n",
       "    <tr style=\"text-align: right;\">\n",
       "      <th></th>\n",
       "      <th>Overall rank</th>\n",
       "      <th>Score</th>\n",
       "      <th>GDP per capita</th>\n",
       "      <th>Social support</th>\n",
       "      <th>Healthy life expectancy</th>\n",
       "      <th>Freedom to make life choices</th>\n",
       "      <th>Generosity</th>\n",
       "      <th>Perceptions of corruption</th>\n",
       "    </tr>\n",
       "  </thead>\n",
       "  <tbody>\n",
       "    <tr>\n",
       "      <th>count</th>\n",
       "      <td>156.000000</td>\n",
       "      <td>156.000000</td>\n",
       "      <td>156.000000</td>\n",
       "      <td>156.000000</td>\n",
       "      <td>156.000000</td>\n",
       "      <td>156.000000</td>\n",
       "      <td>156.000000</td>\n",
       "      <td>156.000000</td>\n",
       "    </tr>\n",
       "    <tr>\n",
       "      <th>mean</th>\n",
       "      <td>78.500000</td>\n",
       "      <td>5.407096</td>\n",
       "      <td>0.905147</td>\n",
       "      <td>1.208814</td>\n",
       "      <td>0.725244</td>\n",
       "      <td>0.392571</td>\n",
       "      <td>0.184846</td>\n",
       "      <td>0.110603</td>\n",
       "    </tr>\n",
       "    <tr>\n",
       "      <th>std</th>\n",
       "      <td>45.177428</td>\n",
       "      <td>1.113120</td>\n",
       "      <td>0.398389</td>\n",
       "      <td>0.299191</td>\n",
       "      <td>0.242124</td>\n",
       "      <td>0.143289</td>\n",
       "      <td>0.095254</td>\n",
       "      <td>0.094538</td>\n",
       "    </tr>\n",
       "    <tr>\n",
       "      <th>min</th>\n",
       "      <td>1.000000</td>\n",
       "      <td>2.853000</td>\n",
       "      <td>0.000000</td>\n",
       "      <td>0.000000</td>\n",
       "      <td>0.000000</td>\n",
       "      <td>0.000000</td>\n",
       "      <td>0.000000</td>\n",
       "      <td>0.000000</td>\n",
       "    </tr>\n",
       "    <tr>\n",
       "      <th>25%</th>\n",
       "      <td>39.750000</td>\n",
       "      <td>4.544500</td>\n",
       "      <td>0.602750</td>\n",
       "      <td>1.055750</td>\n",
       "      <td>0.547750</td>\n",
       "      <td>0.308000</td>\n",
       "      <td>0.108750</td>\n",
       "      <td>0.047000</td>\n",
       "    </tr>\n",
       "    <tr>\n",
       "      <th>50%</th>\n",
       "      <td>78.500000</td>\n",
       "      <td>5.379500</td>\n",
       "      <td>0.960000</td>\n",
       "      <td>1.271500</td>\n",
       "      <td>0.789000</td>\n",
       "      <td>0.417000</td>\n",
       "      <td>0.177500</td>\n",
       "      <td>0.085500</td>\n",
       "    </tr>\n",
       "    <tr>\n",
       "      <th>75%</th>\n",
       "      <td>117.250000</td>\n",
       "      <td>6.184500</td>\n",
       "      <td>1.232500</td>\n",
       "      <td>1.452500</td>\n",
       "      <td>0.881750</td>\n",
       "      <td>0.507250</td>\n",
       "      <td>0.248250</td>\n",
       "      <td>0.141250</td>\n",
       "    </tr>\n",
       "    <tr>\n",
       "      <th>max</th>\n",
       "      <td>156.000000</td>\n",
       "      <td>7.769000</td>\n",
       "      <td>1.684000</td>\n",
       "      <td>1.624000</td>\n",
       "      <td>1.141000</td>\n",
       "      <td>0.631000</td>\n",
       "      <td>0.566000</td>\n",
       "      <td>0.453000</td>\n",
       "    </tr>\n",
       "  </tbody>\n",
       "</table>\n",
       "</div>"
      ],
      "text/plain": [
       "       Overall rank       Score  GDP per capita  Social support  \\\n",
       "count    156.000000  156.000000      156.000000      156.000000   \n",
       "mean      78.500000    5.407096        0.905147        1.208814   \n",
       "std       45.177428    1.113120        0.398389        0.299191   \n",
       "min        1.000000    2.853000        0.000000        0.000000   \n",
       "25%       39.750000    4.544500        0.602750        1.055750   \n",
       "50%       78.500000    5.379500        0.960000        1.271500   \n",
       "75%      117.250000    6.184500        1.232500        1.452500   \n",
       "max      156.000000    7.769000        1.684000        1.624000   \n",
       "\n",
       "       Healthy life expectancy  Freedom to make life choices  Generosity  \\\n",
       "count               156.000000                    156.000000  156.000000   \n",
       "mean                  0.725244                      0.392571    0.184846   \n",
       "std                   0.242124                      0.143289    0.095254   \n",
       "min                   0.000000                      0.000000    0.000000   \n",
       "25%                   0.547750                      0.308000    0.108750   \n",
       "50%                   0.789000                      0.417000    0.177500   \n",
       "75%                   0.881750                      0.507250    0.248250   \n",
       "max                   1.141000                      0.631000    0.566000   \n",
       "\n",
       "       Perceptions of corruption  \n",
       "count                 156.000000  \n",
       "mean                    0.110603  \n",
       "std                     0.094538  \n",
       "min                     0.000000  \n",
       "25%                     0.047000  \n",
       "50%                     0.085500  \n",
       "75%                     0.141250  \n",
       "max                     0.453000  "
      ]
     },
     "execution_count": 70,
     "metadata": {},
     "output_type": "execute_result"
    }
   ],
   "source": [
    "df.describe()"
   ]
  },
  {
   "cell_type": "code",
   "execution_count": 71,
   "metadata": {},
   "outputs": [
    {
     "data": {
      "text/html": [
       "<div>\n",
       "<style scoped>\n",
       "    .dataframe tbody tr th:only-of-type {\n",
       "        vertical-align: middle;\n",
       "    }\n",
       "\n",
       "    .dataframe tbody tr th {\n",
       "        vertical-align: top;\n",
       "    }\n",
       "\n",
       "    .dataframe thead th {\n",
       "        text-align: right;\n",
       "    }\n",
       "</style>\n",
       "<table border=\"1\" class=\"dataframe\">\n",
       "  <thead>\n",
       "    <tr style=\"text-align: right;\">\n",
       "      <th></th>\n",
       "      <th>Overall rank</th>\n",
       "      <th>Country or region</th>\n",
       "      <th>Score</th>\n",
       "      <th>GDP per capita</th>\n",
       "      <th>Social support</th>\n",
       "      <th>Healthy life expectancy</th>\n",
       "      <th>Freedom to make life choices</th>\n",
       "      <th>Generosity</th>\n",
       "      <th>Perceptions of corruption</th>\n",
       "    </tr>\n",
       "  </thead>\n",
       "  <tbody>\n",
       "    <tr>\n",
       "      <th>0</th>\n",
       "      <td>1</td>\n",
       "      <td>Finland</td>\n",
       "      <td>7.769</td>\n",
       "      <td>1.340</td>\n",
       "      <td>1.587</td>\n",
       "      <td>0.986</td>\n",
       "      <td>0.596</td>\n",
       "      <td>0.153</td>\n",
       "      <td>0.393</td>\n",
       "    </tr>\n",
       "    <tr>\n",
       "      <th>1</th>\n",
       "      <td>2</td>\n",
       "      <td>Denmark</td>\n",
       "      <td>7.600</td>\n",
       "      <td>1.383</td>\n",
       "      <td>1.573</td>\n",
       "      <td>0.996</td>\n",
       "      <td>0.592</td>\n",
       "      <td>0.252</td>\n",
       "      <td>0.410</td>\n",
       "    </tr>\n",
       "    <tr>\n",
       "      <th>2</th>\n",
       "      <td>3</td>\n",
       "      <td>Norway</td>\n",
       "      <td>7.554</td>\n",
       "      <td>1.488</td>\n",
       "      <td>1.582</td>\n",
       "      <td>1.028</td>\n",
       "      <td>0.603</td>\n",
       "      <td>0.271</td>\n",
       "      <td>0.341</td>\n",
       "    </tr>\n",
       "    <tr>\n",
       "      <th>3</th>\n",
       "      <td>4</td>\n",
       "      <td>Iceland</td>\n",
       "      <td>7.494</td>\n",
       "      <td>1.380</td>\n",
       "      <td>1.624</td>\n",
       "      <td>1.026</td>\n",
       "      <td>0.591</td>\n",
       "      <td>0.354</td>\n",
       "      <td>0.118</td>\n",
       "    </tr>\n",
       "    <tr>\n",
       "      <th>4</th>\n",
       "      <td>5</td>\n",
       "      <td>Netherlands</td>\n",
       "      <td>7.488</td>\n",
       "      <td>1.396</td>\n",
       "      <td>1.522</td>\n",
       "      <td>0.999</td>\n",
       "      <td>0.557</td>\n",
       "      <td>0.322</td>\n",
       "      <td>0.298</td>\n",
       "    </tr>\n",
       "    <tr>\n",
       "      <th>...</th>\n",
       "      <td>...</td>\n",
       "      <td>...</td>\n",
       "      <td>...</td>\n",
       "      <td>...</td>\n",
       "      <td>...</td>\n",
       "      <td>...</td>\n",
       "      <td>...</td>\n",
       "      <td>...</td>\n",
       "      <td>...</td>\n",
       "    </tr>\n",
       "    <tr>\n",
       "      <th>151</th>\n",
       "      <td>152</td>\n",
       "      <td>Rwanda</td>\n",
       "      <td>3.334</td>\n",
       "      <td>0.359</td>\n",
       "      <td>0.711</td>\n",
       "      <td>0.614</td>\n",
       "      <td>0.555</td>\n",
       "      <td>0.217</td>\n",
       "      <td>0.411</td>\n",
       "    </tr>\n",
       "    <tr>\n",
       "      <th>152</th>\n",
       "      <td>153</td>\n",
       "      <td>Tanzania</td>\n",
       "      <td>3.231</td>\n",
       "      <td>0.476</td>\n",
       "      <td>0.885</td>\n",
       "      <td>0.499</td>\n",
       "      <td>0.417</td>\n",
       "      <td>0.276</td>\n",
       "      <td>0.147</td>\n",
       "    </tr>\n",
       "    <tr>\n",
       "      <th>153</th>\n",
       "      <td>154</td>\n",
       "      <td>Afghanistan</td>\n",
       "      <td>3.203</td>\n",
       "      <td>0.350</td>\n",
       "      <td>0.517</td>\n",
       "      <td>0.361</td>\n",
       "      <td>0.000</td>\n",
       "      <td>0.158</td>\n",
       "      <td>0.025</td>\n",
       "    </tr>\n",
       "    <tr>\n",
       "      <th>154</th>\n",
       "      <td>155</td>\n",
       "      <td>Central African Republic</td>\n",
       "      <td>3.083</td>\n",
       "      <td>0.026</td>\n",
       "      <td>0.000</td>\n",
       "      <td>0.105</td>\n",
       "      <td>0.225</td>\n",
       "      <td>0.235</td>\n",
       "      <td>0.035</td>\n",
       "    </tr>\n",
       "    <tr>\n",
       "      <th>155</th>\n",
       "      <td>156</td>\n",
       "      <td>South Sudan</td>\n",
       "      <td>2.853</td>\n",
       "      <td>0.306</td>\n",
       "      <td>0.575</td>\n",
       "      <td>0.295</td>\n",
       "      <td>0.010</td>\n",
       "      <td>0.202</td>\n",
       "      <td>0.091</td>\n",
       "    </tr>\n",
       "  </tbody>\n",
       "</table>\n",
       "<p>156 rows × 9 columns</p>\n",
       "</div>"
      ],
      "text/plain": [
       "     Overall rank         Country or region  Score  GDP per capita  \\\n",
       "0               1                   Finland  7.769           1.340   \n",
       "1               2                   Denmark  7.600           1.383   \n",
       "2               3                    Norway  7.554           1.488   \n",
       "3               4                   Iceland  7.494           1.380   \n",
       "4               5               Netherlands  7.488           1.396   \n",
       "..            ...                       ...    ...             ...   \n",
       "151           152                    Rwanda  3.334           0.359   \n",
       "152           153                  Tanzania  3.231           0.476   \n",
       "153           154               Afghanistan  3.203           0.350   \n",
       "154           155  Central African Republic  3.083           0.026   \n",
       "155           156               South Sudan  2.853           0.306   \n",
       "\n",
       "     Social support  Healthy life expectancy  Freedom to make life choices  \\\n",
       "0             1.587                    0.986                         0.596   \n",
       "1             1.573                    0.996                         0.592   \n",
       "2             1.582                    1.028                         0.603   \n",
       "3             1.624                    1.026                         0.591   \n",
       "4             1.522                    0.999                         0.557   \n",
       "..              ...                      ...                           ...   \n",
       "151           0.711                    0.614                         0.555   \n",
       "152           0.885                    0.499                         0.417   \n",
       "153           0.517                    0.361                         0.000   \n",
       "154           0.000                    0.105                         0.225   \n",
       "155           0.575                    0.295                         0.010   \n",
       "\n",
       "     Generosity  Perceptions of corruption  \n",
       "0         0.153                      0.393  \n",
       "1         0.252                      0.410  \n",
       "2         0.271                      0.341  \n",
       "3         0.354                      0.118  \n",
       "4         0.322                      0.298  \n",
       "..          ...                        ...  \n",
       "151       0.217                      0.411  \n",
       "152       0.276                      0.147  \n",
       "153       0.158                      0.025  \n",
       "154       0.235                      0.035  \n",
       "155       0.202                      0.091  \n",
       "\n",
       "[156 rows x 9 columns]"
      ]
     },
     "execution_count": 71,
     "metadata": {},
     "output_type": "execute_result"
    }
   ],
   "source": [
    "df"
   ]
  },
  {
   "cell_type": "code",
   "execution_count": 91,
   "metadata": {},
   "outputs": [],
   "source": [
    "x=np.array([i for i in df['Score']])"
   ]
  },
  {
   "cell_type": "code",
   "execution_count": 92,
   "metadata": {},
   "outputs": [
    {
     "data": {
      "text/plain": [
       "array([7.769, 7.6  , 7.554, 7.494, 7.488, 7.48 , 7.343, 7.307, 7.278,\n",
       "       7.246, 7.228, 7.167, 7.139, 7.09 , 7.054, 7.021, 6.985, 6.923,\n",
       "       6.892, 6.852, 6.825, 6.726, 6.595, 6.592, 6.446, 6.444, 6.436,\n",
       "       6.375, 6.374, 6.354, 6.321, 6.3  , 6.293, 6.262, 6.253, 6.223,\n",
       "       6.199, 6.198, 6.192, 6.182, 6.174, 6.149, 6.125, 6.118, 6.105,\n",
       "       6.1  , 6.086, 6.07 , 6.046, 6.028, 6.021, 6.008, 5.94 , 5.895,\n",
       "       5.893, 5.89 , 5.888, 5.886, 5.86 , 5.809, 5.779, 5.758, 5.743,\n",
       "       5.718, 5.697, 5.693, 5.653, 5.648, 5.631, 5.603, 5.529, 5.525,\n",
       "       5.523, 5.467, 5.432, 5.43 , 5.425, 5.386, 5.373, 5.339, 5.323,\n",
       "       5.287, 5.285, 5.274, 5.265, 5.261, 5.247, 5.211, 5.208, 5.208,\n",
       "       5.197, 5.192, 5.191, 5.175, 5.082, 5.044, 5.011, 4.996, 4.944,\n",
       "       4.913, 4.906, 4.883, 4.812, 4.799, 4.796, 4.722, 4.719, 4.707,\n",
       "       4.7  , 4.696, 4.681, 4.668, 4.639, 4.628, 4.587, 4.559, 4.548,\n",
       "       4.534, 4.519, 4.516, 4.509, 4.49 , 4.466, 4.461, 4.456, 4.437,\n",
       "       4.418, 4.39 , 4.374, 4.366, 4.36 , 4.35 , 4.332, 4.286, 4.212,\n",
       "       4.189, 4.166, 4.107, 4.085, 4.015, 3.975, 3.973, 3.933, 3.802,\n",
       "       3.775, 3.663, 3.597, 3.488, 3.462, 3.41 , 3.38 , 3.334, 3.231,\n",
       "       3.203, 3.083, 2.853])"
      ]
     },
     "execution_count": 92,
     "metadata": {},
     "output_type": "execute_result"
    }
   ],
   "source": [
    "x"
   ]
  },
  {
   "cell_type": "code",
   "execution_count": 93,
   "metadata": {},
   "outputs": [],
   "source": [
    "y=np.array([i for i in df['Healthy life expectancy']])"
   ]
  },
  {
   "cell_type": "code",
   "execution_count": 94,
   "metadata": {},
   "outputs": [
    {
     "data": {
      "text/plain": [
       "array([0.986, 0.996, 1.028, 1.026, 0.999, 1.052, 1.009, 1.026, 1.039,\n",
       "       1.016, 1.036, 0.963, 1.029, 1.012, 0.996, 0.999, 0.987, 0.986,\n",
       "       0.874, 0.92 , 0.825, 0.999, 0.861, 1.045, 0.914, 0.92 , 0.746,\n",
       "       0.795, 0.871, 1.062, 0.91 , 0.802, 0.891, 1.141, 0.789, 1.039,\n",
       "       0.871, 0.881, 0.713, 0.884, 0.756, 0.818, 0.841, 0.953, 0.835,\n",
       "       0.758, 0.881, 0.825, 1.042, 0.868, 0.808, 0.828, 0.812, 1.036,\n",
       "       0.874, 0.831, 0.798, 1.088, 0.828, 0.729, 0.706, 0.828, 0.777,\n",
       "       1.042, 0.854, 0.999, 0.535, 0.726, 0.657, 0.854, 0.739, 0.673,\n",
       "       0.871, 0.718, 0.914, 1.122, 0.779, 0.845, 0.808, 0.828, 0.789,\n",
       "       0.999, 0.667, 0.838, 0.245, 0.723, 0.657, 0.785, 0.782, 0.769,\n",
       "       0.815, 0.66 , 0.893, 0.851, 0.604, 0.331, 0.815, 0.486, 0.232,\n",
       "       0.677, 0.815, 0.397, 0.508, 0.571, 0.551, 0.469, 0.874, 0.805,\n",
       "       0.637, 0.672, 0.571, 0.268, 0.477, 0.366, 0.38 , 0.815, 0.785,\n",
       "       0.375, 0.752, 0.428, 0.581, 0.489, 0.39 , 0.815, 0.723, 0.574,\n",
       "       0.357, 0.308, 0.242, 0.831, 0.555, 0.192, 0.739, 0.532, 0.   ,\n",
       "       0.443, 0.644, 0.426, 0.41 , 0.588, 0.443, 0.505, 0.555, 0.168,\n",
       "       0.38 , 0.433, 0.449, 0.538, 0.44 , 0.495, 0.463, 0.614, 0.499,\n",
       "       0.361, 0.105, 0.295])"
      ]
     },
     "execution_count": 94,
     "metadata": {},
     "output_type": "execute_result"
    }
   ],
   "source": [
    "y"
   ]
  },
  {
   "cell_type": "code",
   "execution_count": 95,
   "metadata": {},
   "outputs": [
    {
     "ename": "NameError",
     "evalue": "name 'plot' is not defined",
     "output_type": "error",
     "traceback": [
      "\u001b[0;31m---------------------------------------------------------------------------\u001b[0m",
      "\u001b[0;31mNameError\u001b[0m                                 Traceback (most recent call last)",
      "\u001b[0;32m<ipython-input-95-da844fa99866>\u001b[0m in \u001b[0;36m<module>\u001b[0;34m\u001b[0m\n\u001b[0;32m----> 1\u001b[0;31m \u001b[0mplot\u001b[0m\u001b[0;34m(\u001b[0m\u001b[0mx\u001b[0m\u001b[0;34m,\u001b[0m\u001b[0my\u001b[0m\u001b[0;34m)\u001b[0m\u001b[0;34m\u001b[0m\u001b[0;34m\u001b[0m\u001b[0m\n\u001b[0m",
      "\u001b[0;31mNameError\u001b[0m: name 'plot' is not defined"
     ]
    }
   ],
   "source": [
    "plot(x,y)"
   ]
  },
  {
   "cell_type": "code",
   "execution_count": 77,
   "metadata": {},
   "outputs": [
    {
     "data": {
      "text/plain": [
       "[<matplotlib.lines.Line2D at 0x7f85b2817f40>]"
      ]
     },
     "execution_count": 77,
     "metadata": {},
     "output_type": "execute_result"
    },
    {
     "data": {
      "image/png": "[encoded data removed]",
      "text/plain": [
       "<Figure size 432x288 with 1 Axes>"
      ]
     },
     "metadata": {
      "needs_background": "light"
     },
     "output_type": "display_data"
    }
   ],
   "source": [
    "plt.plot(x,y)"
   ]
  },
  {
   "cell_type": "code",
   "execution_count": 96,
   "metadata": {},
   "outputs": [],
   "source": [
    "reg3=linear_model.Lasso(alpha=0.1)"
   ]
  },
  {
   "cell_type": "code",
   "execution_count": 79,
   "metadata": {},
   "outputs": [
    {
     "ename": "ValueError",
     "evalue": "Expected 2D array, got 1D array instead:\narray=[7.769 7.6   7.554 7.494 7.488 7.48  7.343 7.307 7.278 7.246 7.228 7.167\n 7.139 7.09  7.054 7.021 6.985 6.923 6.892 6.852 6.825 6.726 6.595 6.592\n 6.446 6.444 6.436 6.375 6.374 6.354 6.321 6.3   6.293 6.262 6.253 6.223\n 6.199 6.198 6.192 6.182 6.174 6.149 6.125 6.118 6.105 6.1   6.086 6.07\n 6.046 6.028 6.021 6.008 5.94  5.895 5.893 5.89  5.888 5.886 5.86  5.809\n 5.779 5.758 5.743 5.718 5.697 5.693 5.653 5.648 5.631 5.603 5.529 5.525\n 5.523 5.467 5.432 5.43  5.425 5.386 5.373 5.339 5.323 5.287 5.285 5.274\n 5.265 5.261 5.247 5.211 5.208 5.208 5.197 5.192 5.191 5.175 5.082 5.044\n 5.011 4.996 4.944 4.913 4.906 4.883 4.812 4.799 4.796 4.722 4.719 4.707\n 4.7   4.696 4.681 4.668 4.639 4.628 4.587 4.559 4.548 4.534 4.519 4.516\n 4.509 4.49  4.466 4.461 4.456 4.437 4.418 4.39  4.374 4.366 4.36  4.35\n 4.332 4.286 4.212 4.189 4.166 4.107 4.085 4.015 3.975 3.973 3.933 3.802\n 3.775 3.663 3.597 3.488 3.462 3.41  3.38  3.334 3.231 3.203 3.083 2.853].\nReshape your data either using array.reshape(-1, 1) if your data has a single feature or array.reshape(1, -1) if it contains a single sample.",
     "output_type": "error",
     "traceback": [
      "\u001b[0;31m---------------------------------------------------------------------------\u001b[0m",
      "\u001b[0;31mValueError\u001b[0m                                Traceback (most recent call last)",
      "\u001b[0;32m<ipython-input-79-3b0427b2ea88>\u001b[0m in \u001b[0;36m<module>\u001b[0;34m\u001b[0m\n\u001b[0;32m----> 1\u001b[0;31m \u001b[0mreg3\u001b[0m\u001b[0;34m.\u001b[0m\u001b[0mfit\u001b[0m\u001b[0;34m(\u001b[0m\u001b[0mx\u001b[0m\u001b[0;34m,\u001b[0m\u001b[0my\u001b[0m\u001b[0;34m)\u001b[0m\u001b[0;34m\u001b[0m\u001b[0;34m\u001b[0m\u001b[0m\n\u001b[0m",
      "\u001b[0;32m~/anaconda3/lib/python3.8/site-packages/sklearn/linear_model/_coordinate_descent.py\u001b[0m in \u001b[0;36mfit\u001b[0;34m(self, X, y, sample_weight, check_input)\u001b[0m\n\u001b[1;32m    757\u001b[0m         \u001b[0;32mif\u001b[0m \u001b[0mcheck_input\u001b[0m\u001b[0;34m:\u001b[0m\u001b[0;34m\u001b[0m\u001b[0;34m\u001b[0m\u001b[0m\n\u001b[1;32m    758\u001b[0m             \u001b[0mX_copied\u001b[0m \u001b[0;34m=\u001b[0m \u001b[0mself\u001b[0m\u001b[0;34m.\u001b[0m\u001b[0mcopy_X\u001b[0m \u001b[0;32mand\u001b[0m \u001b[0mself\u001b[0m\u001b[0;34m.\u001b[0m\u001b[0mfit_intercept\u001b[0m\u001b[0;34m\u001b[0m\u001b[0;34m\u001b[0m\u001b[0m\n\u001b[0;32m--> 759\u001b[0;31m             X, y = self._validate_data(X, y, accept_sparse='csc',\n\u001b[0m\u001b[1;32m    760\u001b[0m                                        \u001b[0morder\u001b[0m\u001b[0;34m=\u001b[0m\u001b[0;34m'F'\u001b[0m\u001b[0;34m,\u001b[0m\u001b[0;34m\u001b[0m\u001b[0;34m\u001b[0m\u001b[0m\n\u001b[1;32m    761\u001b[0m                                        \u001b[0mdtype\u001b[0m\u001b[0;34m=\u001b[0m\u001b[0;34m[\u001b[0m\u001b[0mnp\u001b[0m\u001b[0;34m.\u001b[0m\u001b[0mfloat64\u001b[0m\u001b[0;34m,\u001b[0m \u001b[0mnp\u001b[0m\u001b[0;34m.\u001b[0m\u001b[0mfloat32\u001b[0m\u001b[0;34m]\u001b[0m\u001b[0;34m,\u001b[0m\u001b[0;34m\u001b[0m\u001b[0;34m\u001b[0m\u001b[0m\n",
      "\u001b[0;32m~/anaconda3/lib/python3.8/site-packages/sklearn/base.py\u001b[0m in \u001b[0;36m_validate_data\u001b[0;34m(self, X, y, reset, validate_separately, **check_params)\u001b[0m\n\u001b[1;32m    430\u001b[0m                 \u001b[0my\u001b[0m \u001b[0;34m=\u001b[0m \u001b[0mcheck_array\u001b[0m\u001b[0;34m(\u001b[0m\u001b[0my\u001b[0m\u001b[0;34m,\u001b[0m \u001b[0;34m**\u001b[0m\u001b[0mcheck_y_params\u001b[0m\u001b[0;34m)\u001b[0m\u001b[0;34m\u001b[0m\u001b[0;34m\u001b[0m\u001b[0m\n\u001b[1;32m    431\u001b[0m             \u001b[0;32melse\u001b[0m\u001b[0;34m:\u001b[0m\u001b[0;34m\u001b[0m\u001b[0;34m\u001b[0m\u001b[0m\n\u001b[0;32m--> 432\u001b[0;31m                 \u001b[0mX\u001b[0m\u001b[0;34m,\u001b[0m \u001b[0my\u001b[0m \u001b[0;34m=\u001b[0m \u001b[0mcheck_X_y\u001b[0m\u001b[0;34m(\u001b[0m\u001b[0mX\u001b[0m\u001b[0;34m,\u001b[0m \u001b[0my\u001b[0m\u001b[0;34m,\u001b[0m \u001b[0;34m**\u001b[0m\u001b[0mcheck_params\u001b[0m\u001b[0;34m)\u001b[0m\u001b[0;34m\u001b[0m\u001b[0;34m\u001b[0m\u001b[0m\n\u001b[0m\u001b[1;32m    433\u001b[0m             \u001b[0mout\u001b[0m \u001b[0;34m=\u001b[0m \u001b[0mX\u001b[0m\u001b[0;34m,\u001b[0m \u001b[0my\u001b[0m\u001b[0;34m\u001b[0m\u001b[0;34m\u001b[0m\u001b[0m\n\u001b[1;32m    434\u001b[0m \u001b[0;34m\u001b[0m\u001b[0m\n",
      "\u001b[0;32m~/anaconda3/lib/python3.8/site-packages/sklearn/utils/validation.py\u001b[0m in \u001b[0;36minner_f\u001b[0;34m(*args, **kwargs)\u001b[0m\n\u001b[1;32m     71\u001b[0m                           FutureWarning)\n\u001b[1;32m     72\u001b[0m         \u001b[0mkwargs\u001b[0m\u001b[0;34m.\u001b[0m\u001b[0mupdate\u001b[0m\u001b[0;34m(\u001b[0m\u001b[0;34m{\u001b[0m\u001b[0mk\u001b[0m\u001b[0;34m:\u001b[0m \u001b[0marg\u001b[0m \u001b[0;32mfor\u001b[0m \u001b[0mk\u001b[0m\u001b[0;34m,\u001b[0m \u001b[0marg\u001b[0m \u001b[0;32min\u001b[0m \u001b[0mzip\u001b[0m\u001b[0;34m(\u001b[0m\u001b[0msig\u001b[0m\u001b[0;34m.\u001b[0m\u001b[0mparameters\u001b[0m\u001b[0;34m,\u001b[0m \u001b[0margs\u001b[0m\u001b[0;34m)\u001b[0m\u001b[0;34m}\u001b[0m\u001b[0;34m)\u001b[0m\u001b[0;34m\u001b[0m\u001b[0;34m\u001b[0m\u001b[0m\n\u001b[0;32m---> 73\u001b[0;31m         \u001b[0;32mreturn\u001b[0m \u001b[0mf\u001b[0m\u001b[0;34m(\u001b[0m\u001b[0;34m**\u001b[0m\u001b[0mkwargs\u001b[0m\u001b[0;34m)\u001b[0m\u001b[0;34m\u001b[0m\u001b[0;34m\u001b[0m\u001b[0m\n\u001b[0m\u001b[1;32m     74\u001b[0m     \u001b[0;32mreturn\u001b[0m \u001b[0minner_f\u001b[0m\u001b[0;34m\u001b[0m\u001b[0;34m\u001b[0m\u001b[0m\n\u001b[1;32m     75\u001b[0m \u001b[0;34m\u001b[0m\u001b[0m\n",
      "\u001b[0;32m~/anaconda3/lib/python3.8/site-packages/sklearn/utils/validation.py\u001b[0m in \u001b[0;36mcheck_X_y\u001b[0;34m(X, y, accept_sparse, accept_large_sparse, dtype, order, copy, force_all_finite, ensure_2d, allow_nd, multi_output, ensure_min_samples, ensure_min_features, y_numeric, estimator)\u001b[0m\n\u001b[1;32m    794\u001b[0m         \u001b[0;32mraise\u001b[0m \u001b[0mValueError\u001b[0m\u001b[0;34m(\u001b[0m\u001b[0;34m\"y cannot be None\"\u001b[0m\u001b[0;34m)\u001b[0m\u001b[0;34m\u001b[0m\u001b[0;34m\u001b[0m\u001b[0m\n\u001b[1;32m    795\u001b[0m \u001b[0;34m\u001b[0m\u001b[0m\n\u001b[0;32m--> 796\u001b[0;31m     X = check_array(X, accept_sparse=accept_sparse,\n\u001b[0m\u001b[1;32m    797\u001b[0m                     \u001b[0maccept_large_sparse\u001b[0m\u001b[0;34m=\u001b[0m\u001b[0maccept_large_sparse\u001b[0m\u001b[0;34m,\u001b[0m\u001b[0;34m\u001b[0m\u001b[0;34m\u001b[0m\u001b[0m\n\u001b[1;32m    798\u001b[0m                     \u001b[0mdtype\u001b[0m\u001b[0;34m=\u001b[0m\u001b[0mdtype\u001b[0m\u001b[0;34m,\u001b[0m \u001b[0morder\u001b[0m\u001b[0;34m=\u001b[0m\u001b[0morder\u001b[0m\u001b[0;34m,\u001b[0m \u001b[0mcopy\u001b[0m\u001b[0;34m=\u001b[0m\u001b[0mcopy\u001b[0m\u001b[0;34m,\u001b[0m\u001b[0;34m\u001b[0m\u001b[0;34m\u001b[0m\u001b[0m\n",
      "\u001b[0;32m~/anaconda3/lib/python3.8/site-packages/sklearn/utils/validation.py\u001b[0m in \u001b[0;36minner_f\u001b[0;34m(*args, **kwargs)\u001b[0m\n\u001b[1;32m     71\u001b[0m                           FutureWarning)\n\u001b[1;32m     72\u001b[0m         \u001b[0mkwargs\u001b[0m\u001b[0;34m.\u001b[0m\u001b[0mupdate\u001b[0m\u001b[0;34m(\u001b[0m\u001b[0;34m{\u001b[0m\u001b[0mk\u001b[0m\u001b[0;34m:\u001b[0m \u001b[0marg\u001b[0m \u001b[0;32mfor\u001b[0m \u001b[0mk\u001b[0m\u001b[0;34m,\u001b[0m \u001b[0marg\u001b[0m \u001b[0;32min\u001b[0m \u001b[0mzip\u001b[0m\u001b[0;34m(\u001b[0m\u001b[0msig\u001b[0m\u001b[0;34m.\u001b[0m\u001b[0mparameters\u001b[0m\u001b[0;34m,\u001b[0m \u001b[0margs\u001b[0m\u001b[0;34m)\u001b[0m\u001b[0;34m}\u001b[0m\u001b[0;34m)\u001b[0m\u001b[0;34m\u001b[0m\u001b[0;34m\u001b[0m\u001b[0m\n\u001b[0;32m---> 73\u001b[0;31m         \u001b[0;32mreturn\u001b[0m \u001b[0mf\u001b[0m\u001b[0;34m(\u001b[0m\u001b[0;34m**\u001b[0m\u001b[0mkwargs\u001b[0m\u001b[0;34m)\u001b[0m\u001b[0;34m\u001b[0m\u001b[0;34m\u001b[0m\u001b[0m\n\u001b[0m\u001b[1;32m     74\u001b[0m     \u001b[0;32mreturn\u001b[0m \u001b[0minner_f\u001b[0m\u001b[0;34m\u001b[0m\u001b[0;34m\u001b[0m\u001b[0m\n\u001b[1;32m     75\u001b[0m \u001b[0;34m\u001b[0m\u001b[0m\n",
      "\u001b[0;32m~/anaconda3/lib/python3.8/site-packages/sklearn/utils/validation.py\u001b[0m in \u001b[0;36mcheck_array\u001b[0;34m(array, accept_sparse, accept_large_sparse, dtype, order, copy, force_all_finite, ensure_2d, allow_nd, ensure_min_samples, ensure_min_features, estimator)\u001b[0m\n\u001b[1;32m    618\u001b[0m             \u001b[0;31m# If input is 1D raise error\u001b[0m\u001b[0;34m\u001b[0m\u001b[0;34m\u001b[0m\u001b[0;34m\u001b[0m\u001b[0m\n\u001b[1;32m    619\u001b[0m             \u001b[0;32mif\u001b[0m \u001b[0marray\u001b[0m\u001b[0;34m.\u001b[0m\u001b[0mndim\u001b[0m \u001b[0;34m==\u001b[0m \u001b[0;36m1\u001b[0m\u001b[0;34m:\u001b[0m\u001b[0;34m\u001b[0m\u001b[0;34m\u001b[0m\u001b[0m\n\u001b[0;32m--> 620\u001b[0;31m                 raise ValueError(\n\u001b[0m\u001b[1;32m    621\u001b[0m                     \u001b[0;34m\"Expected 2D array, got 1D array instead:\\narray={}.\\n\"\u001b[0m\u001b[0;34m\u001b[0m\u001b[0;34m\u001b[0m\u001b[0m\n\u001b[1;32m    622\u001b[0m                     \u001b[0;34m\"Reshape your data either using array.reshape(-1, 1) if \"\u001b[0m\u001b[0;34m\u001b[0m\u001b[0;34m\u001b[0m\u001b[0m\n",
      "\u001b[0;31mValueError\u001b[0m: Expected 2D array, got 1D array instead:\narray=[7.769 7.6   7.554 7.494 7.488 7.48  7.343 7.307 7.278 7.246 7.228 7.167\n 7.139 7.09  7.054 7.021 6.985 6.923 6.892 6.852 6.825 6.726 6.595 6.592\n 6.446 6.444 6.436 6.375 6.374 6.354 6.321 6.3   6.293 6.262 6.253 6.223\n 6.199 6.198 6.192 6.182 6.174 6.149 6.125 6.118 6.105 6.1   6.086 6.07\n 6.046 6.028 6.021 6.008 5.94  5.895 5.893 5.89  5.888 5.886 5.86  5.809\n 5.779 5.758 5.743 5.718 5.697 5.693 5.653 5.648 5.631 5.603 5.529 5.525\n 5.523 5.467 5.432 5.43  5.425 5.386 5.373 5.339 5.323 5.287 5.285 5.274\n 5.265 5.261 5.247 5.211 5.208 5.208 5.197 5.192 5.191 5.175 5.082 5.044\n 5.011 4.996 4.944 4.913 4.906 4.883 4.812 4.799 4.796 4.722 4.719 4.707\n 4.7   4.696 4.681 4.668 4.639 4.628 4.587 4.559 4.548 4.534 4.519 4.516\n 4.509 4.49  4.466 4.461 4.456 4.437 4.418 4.39  4.374 4.366 4.36  4.35\n 4.332 4.286 4.212 4.189 4.166 4.107 4.085 4.015 3.975 3.973 3.933 3.802\n 3.775 3.663 3.597 3.488 3.462 3.41  3.38  3.334 3.231 3.203 3.083 2.853].\nReshape your data either using array.reshape(-1, 1) if your data has a single feature or array.reshape(1, -1) if it contains a single sample."
     ]
    }
   ],
   "source": []
  },
  {
   "cell_type": "code",
   "execution_count": 97,
   "metadata": {},
   "outputs": [],
   "source": [
    "x=x.reshape(-1,1)"
   ]
  },
  {
   "cell_type": "code",
   "execution_count": 98,
   "metadata": {},
   "outputs": [
    {
     "data": {
      "text/plain": [
       "Lasso(alpha=0.1)"
      ]
     },
     "execution_count": 98,
     "metadata": {},
     "output_type": "execute_result"
    }
   ],
   "source": [
    "reg3.fit(x,y)"
   ]
  },
  {
   "cell_type": "code",
   "execution_count": 99,
   "metadata": {},
   "outputs": [
    {
     "data": {
      "text/plain": [
       "array([0.08841028])"
      ]
     },
     "execution_count": 99,
     "metadata": {},
     "output_type": "execute_result"
    }
   ],
   "source": [
    "reg3.coef_"
   ]
  },
  {
   "cell_type": "code",
   "execution_count": 83,
   "metadata": {},
   "outputs": [
    {
     "data": {
      "text/plain": [
       "[<matplotlib.lines.Line2D at 0x7f85b143b400>]"
      ]
     },
     "execution_count": 83,
     "metadata": {},
     "output_type": "execute_result"
    },
    {
     "data": {
      "image/png": "[encoded data removed]",
      "text/plain": [
       "<Figure size 432x288 with 1 Axes>"
      ]
     },
     "metadata": {
      "needs_background": "light"
     },
     "output_type": "display_data"
    }
   ],
   "source": [
    "plt.plot(x,y)"
   ]
  },
  {
   "cell_type": "code",
   "execution_count": 100,
   "metadata": {},
   "outputs": [
    {
     "data": {
      "text/plain": [
       "[<matplotlib.lines.Line2D at 0x7f85b11f3160>]"
      ]
     },
     "execution_count": 100,
     "metadata": {},
     "output_type": "execute_result"
    },
    {
     "data": {
      "image/png": "[encoded data removed]",
      "text/plain": [
       "<Figure size 432x288 with 1 Axes>"
      ]
     },
     "metadata": {
      "needs_background": "light"
     },
     "output_type": "display_data"
    }
   ],
   "source": [
    "plt.plot(x,y)\n",
    "plt.plot(x,reg3.intercept_+x*reg3.coef_)"
   ]
  },
  {
   "cell_type": "code",
   "execution_count": 85,
   "metadata": {},
   "outputs": [],
   "source": [
    "x_ = PolynomialFeatures(degree=2, include_bias=False).fit_transform(x)"
   ]
  },
  {
   "cell_type": "code",
   "execution_count": 86,
   "metadata": {},
   "outputs": [
    {
     "data": {
      "text/plain": [
       "Lasso(alpha=0.1)"
      ]
     },
     "execution_count": 86,
     "metadata": {},
     "output_type": "execute_result"
    }
   ],
   "source": [
    "reg3.fit(x_,y)"
   ]
  },
  {
   "cell_type": "code",
   "execution_count": 104,
   "metadata": {},
   "outputs": [
    {
     "data": {
      "text/plain": [
       "[<matplotlib.lines.Line2D at 0x7f85b08c5ee0>,\n",
       " <matplotlib.lines.Line2D at 0x7f85b08c5fd0>]"
      ]
     },
     "execution_count": 104,
     "metadata": {},
     "output_type": "execute_result"
    },
    {
     "data": {
      "image/png": "[encoded data removed]",
      "text/plain": [
       "<Figure size 432x288 with 1 Axes>"
      ]
     },
     "metadata": {
      "needs_background": "light"
     },
     "output_type": "display_data"
    }
   ],
   "source": [
    "plt.plot(x,y,'ro')\n",
    "plt.plot(x_,reg3.intercept_+x_*reg3.coef_)"
   ]
  },
  {
   "cell_type": "code",
   "execution_count": 88,
   "metadata": {},
   "outputs": [
    {
     "data": {
      "text/plain": [
       "array([[ 7.769   , 60.357361],\n",
       "       [ 7.6     , 57.76    ],\n",
       "       [ 7.554   , 57.062916],\n",
       "       [ 7.494   , 56.160036],\n",
       "       [ 7.488   , 56.070144],\n",
       "       [ 7.48    , 55.9504  ],\n",
       "       [ 7.343   , 53.919649],\n",
       "       [ 7.307   , 53.392249],\n",
       "       [ 7.278   , 52.969284],\n",
       "       [ 7.246   , 52.504516],\n",
       "       [ 7.228   , 52.243984],\n",
       "       [ 7.167   , 51.365889],\n",
       "       [ 7.139   , 50.965321],\n",
       "       [ 7.09    , 50.2681  ],\n",
       "       [ 7.054   , 49.758916],\n",
       "       [ 7.021   , 49.294441],\n",
       "       [ 6.985   , 48.790225],\n",
       "       [ 6.923   , 47.927929],\n",
       "       [ 6.892   , 47.499664],\n",
       "       [ 6.852   , 46.949904],\n",
       "       [ 6.825   , 46.580625],\n",
       "       [ 6.726   , 45.239076],\n",
       "       [ 6.595   , 43.494025],\n",
       "       [ 6.592   , 43.454464],\n",
       "       [ 6.446   , 41.550916],\n",
       "       [ 6.444   , 41.525136],\n",
       "       [ 6.436   , 41.422096],\n",
       "       [ 6.375   , 40.640625],\n",
       "       [ 6.374   , 40.627876],\n",
       "       [ 6.354   , 40.373316],\n",
       "       [ 6.321   , 39.955041],\n",
       "       [ 6.3     , 39.69    ],\n",
       "       [ 6.293   , 39.601849],\n",
       "       [ 6.262   , 39.212644],\n",
       "       [ 6.253   , 39.100009],\n",
       "       [ 6.223   , 38.725729],\n",
       "       [ 6.199   , 38.427601],\n",
       "       [ 6.198   , 38.415204],\n",
       "       [ 6.192   , 38.340864],\n",
       "       [ 6.182   , 38.217124],\n",
       "       [ 6.174   , 38.118276],\n",
       "       [ 6.149   , 37.810201],\n",
       "       [ 6.125   , 37.515625],\n",
       "       [ 6.118   , 37.429924],\n",
       "       [ 6.105   , 37.271025],\n",
       "       [ 6.1     , 37.21    ],\n",
       "       [ 6.086   , 37.039396],\n",
       "       [ 6.07    , 36.8449  ],\n",
       "       [ 6.046   , 36.554116],\n",
       "       [ 6.028   , 36.336784],\n",
       "       [ 6.021   , 36.252441],\n",
       "       [ 6.008   , 36.096064],\n",
       "       [ 5.94    , 35.2836  ],\n",
       "       [ 5.895   , 34.751025],\n",
       "       [ 5.893   , 34.727449],\n",
       "       [ 5.89    , 34.6921  ],\n",
       "       [ 5.888   , 34.668544],\n",
       "       [ 5.886   , 34.644996],\n",
       "       [ 5.86    , 34.3396  ],\n",
       "       [ 5.809   , 33.744481],\n",
       "       [ 5.779   , 33.396841],\n",
       "       [ 5.758   , 33.154564],\n",
       "       [ 5.743   , 32.982049],\n",
       "       [ 5.718   , 32.695524],\n",
       "       [ 5.697   , 32.455809],\n",
       "       [ 5.693   , 32.410249],\n",
       "       [ 5.653   , 31.956409],\n",
       "       [ 5.648   , 31.899904],\n",
       "       [ 5.631   , 31.708161],\n",
       "       [ 5.603   , 31.393609],\n",
       "       [ 5.529   , 30.569841],\n",
       "       [ 5.525   , 30.525625],\n",
       "       [ 5.523   , 30.503529],\n",
       "       [ 5.467   , 29.888089],\n",
       "       [ 5.432   , 29.506624],\n",
       "       [ 5.43    , 29.4849  ],\n",
       "       [ 5.425   , 29.430625],\n",
       "       [ 5.386   , 29.008996],\n",
       "       [ 5.373   , 28.869129],\n",
       "       [ 5.339   , 28.504921],\n",
       "       [ 5.323   , 28.334329],\n",
       "       [ 5.287   , 27.952369],\n",
       "       [ 5.285   , 27.931225],\n",
       "       [ 5.274   , 27.815076],\n",
       "       [ 5.265   , 27.720225],\n",
       "       [ 5.261   , 27.678121],\n",
       "       [ 5.247   , 27.531009],\n",
       "       [ 5.211   , 27.154521],\n",
       "       [ 5.208   , 27.123264],\n",
       "       [ 5.208   , 27.123264],\n",
       "       [ 5.197   , 27.008809],\n",
       "       [ 5.192   , 26.956864],\n",
       "       [ 5.191   , 26.946481],\n",
       "       [ 5.175   , 26.780625],\n",
       "       [ 5.082   , 25.826724],\n",
       "       [ 5.044   , 25.441936],\n",
       "       [ 5.011   , 25.110121],\n",
       "       [ 4.996   , 24.960016],\n",
       "       [ 4.944   , 24.443136],\n",
       "       [ 4.913   , 24.137569],\n",
       "       [ 4.906   , 24.068836],\n",
       "       [ 4.883   , 23.843689],\n",
       "       [ 4.812   , 23.155344],\n",
       "       [ 4.799   , 23.030401],\n",
       "       [ 4.796   , 23.001616],\n",
       "       [ 4.722   , 22.297284],\n",
       "       [ 4.719   , 22.268961],\n",
       "       [ 4.707   , 22.155849],\n",
       "       [ 4.7     , 22.09    ],\n",
       "       [ 4.696   , 22.052416],\n",
       "       [ 4.681   , 21.911761],\n",
       "       [ 4.668   , 21.790224],\n",
       "       [ 4.639   , 21.520321],\n",
       "       [ 4.628   , 21.418384],\n",
       "       [ 4.587   , 21.040569],\n",
       "       [ 4.559   , 20.784481],\n",
       "       [ 4.548   , 20.684304],\n",
       "       [ 4.534   , 20.557156],\n",
       "       [ 4.519   , 20.421361],\n",
       "       [ 4.516   , 20.394256],\n",
       "       [ 4.509   , 20.331081],\n",
       "       [ 4.49    , 20.1601  ],\n",
       "       [ 4.466   , 19.945156],\n",
       "       [ 4.461   , 19.900521],\n",
       "       [ 4.456   , 19.855936],\n",
       "       [ 4.437   , 19.686969],\n",
       "       [ 4.418   , 19.518724],\n",
       "       [ 4.39    , 19.2721  ],\n",
       "       [ 4.374   , 19.131876],\n",
       "       [ 4.366   , 19.061956],\n",
       "       [ 4.36    , 19.0096  ],\n",
       "       [ 4.35    , 18.9225  ],\n",
       "       [ 4.332   , 18.766224],\n",
       "       [ 4.286   , 18.369796],\n",
       "       [ 4.212   , 17.740944],\n",
       "       [ 4.189   , 17.547721],\n",
       "       [ 4.166   , 17.355556],\n",
       "       [ 4.107   , 16.867449],\n",
       "       [ 4.085   , 16.687225],\n",
       "       [ 4.015   , 16.120225],\n",
       "       [ 3.975   , 15.800625],\n",
       "       [ 3.973   , 15.784729],\n",
       "       [ 3.933   , 15.468489],\n",
       "       [ 3.802   , 14.455204],\n",
       "       [ 3.775   , 14.250625],\n",
       "       [ 3.663   , 13.417569],\n",
       "       [ 3.597   , 12.938409],\n",
       "       [ 3.488   , 12.166144],\n",
       "       [ 3.462   , 11.985444],\n",
       "       [ 3.41    , 11.6281  ],\n",
       "       [ 3.38    , 11.4244  ],\n",
       "       [ 3.334   , 11.115556],\n",
       "       [ 3.231   , 10.439361],\n",
       "       [ 3.203   , 10.259209],\n",
       "       [ 3.083   ,  9.504889],\n",
       "       [ 2.853   ,  8.139609]])"
      ]
     },
     "execution_count": 88,
     "metadata": {},
     "output_type": "execute_result"
    }
   ],
   "source": [
    "x_\n"
   ]
  },
  {
   "cell_type": "code",
   "execution_count": 90,
   "metadata": {},
   "outputs": [
    {
     "ename": "ValueError",
     "evalue": "matmul: Input operand 1 has a mismatch in its core dimension 0, with gufunc signature (n?,k),(k,m?)->(n?,m?) (size 2 is different from 1)",
     "output_type": "error",
     "traceback": [
      "\u001b[0;31m---------------------------------------------------------------------------\u001b[0m",
      "\u001b[0;31mValueError\u001b[0m                                Traceback (most recent call last)",
      "\u001b[0;32m<ipython-input-90-d4756b9b98a7>\u001b[0m in \u001b[0;36m<module>\u001b[0;34m\u001b[0m\n\u001b[0;32m----> 1\u001b[0;31m \u001b[0mreg3\u001b[0m\u001b[0;34m.\u001b[0m\u001b[0mscore\u001b[0m\u001b[0;34m(\u001b[0m\u001b[0mx\u001b[0m\u001b[0;34m,\u001b[0m\u001b[0my\u001b[0m\u001b[0;34m)\u001b[0m\u001b[0;34m\u001b[0m\u001b[0;34m\u001b[0m\u001b[0m\n\u001b[0m",
      "\u001b[0;32m~/anaconda3/lib/python3.8/site-packages/sklearn/base.py\u001b[0m in \u001b[0;36mscore\u001b[0;34m(self, X, y, sample_weight)\u001b[0m\n\u001b[1;32m    549\u001b[0m \u001b[0;34m\u001b[0m\u001b[0m\n\u001b[1;32m    550\u001b[0m         \u001b[0;32mfrom\u001b[0m \u001b[0;34m.\u001b[0m\u001b[0mmetrics\u001b[0m \u001b[0;32mimport\u001b[0m \u001b[0mr2_score\u001b[0m\u001b[0;34m\u001b[0m\u001b[0;34m\u001b[0m\u001b[0m\n\u001b[0;32m--> 551\u001b[0;31m         \u001b[0my_pred\u001b[0m \u001b[0;34m=\u001b[0m \u001b[0mself\u001b[0m\u001b[0;34m.\u001b[0m\u001b[0mpredict\u001b[0m\u001b[0;34m(\u001b[0m\u001b[0mX\u001b[0m\u001b[0;34m)\u001b[0m\u001b[0;34m\u001b[0m\u001b[0;34m\u001b[0m\u001b[0m\n\u001b[0m\u001b[1;32m    552\u001b[0m         \u001b[0;32mreturn\u001b[0m \u001b[0mr2_score\u001b[0m\u001b[0;34m(\u001b[0m\u001b[0my\u001b[0m\u001b[0;34m,\u001b[0m \u001b[0my_pred\u001b[0m\u001b[0;34m,\u001b[0m \u001b[0msample_weight\u001b[0m\u001b[0;34m=\u001b[0m\u001b[0msample_weight\u001b[0m\u001b[0;34m)\u001b[0m\u001b[0;34m\u001b[0m\u001b[0;34m\u001b[0m\u001b[0m\n\u001b[1;32m    553\u001b[0m \u001b[0;34m\u001b[0m\u001b[0m\n",
      "\u001b[0;32m~/anaconda3/lib/python3.8/site-packages/sklearn/linear_model/_base.py\u001b[0m in \u001b[0;36mpredict\u001b[0;34m(self, X)\u001b[0m\n\u001b[1;32m    234\u001b[0m             \u001b[0mReturns\u001b[0m \u001b[0mpredicted\u001b[0m \u001b[0mvalues\u001b[0m\u001b[0;34m.\u001b[0m\u001b[0;34m\u001b[0m\u001b[0;34m\u001b[0m\u001b[0m\n\u001b[1;32m    235\u001b[0m         \"\"\"\n\u001b[0;32m--> 236\u001b[0;31m         \u001b[0;32mreturn\u001b[0m \u001b[0mself\u001b[0m\u001b[0;34m.\u001b[0m\u001b[0m_decision_function\u001b[0m\u001b[0;34m(\u001b[0m\u001b[0mX\u001b[0m\u001b[0;34m)\u001b[0m\u001b[0;34m\u001b[0m\u001b[0;34m\u001b[0m\u001b[0m\n\u001b[0m\u001b[1;32m    237\u001b[0m \u001b[0;34m\u001b[0m\u001b[0m\n\u001b[1;32m    238\u001b[0m     \u001b[0m_preprocess_data\u001b[0m \u001b[0;34m=\u001b[0m \u001b[0mstaticmethod\u001b[0m\u001b[0;34m(\u001b[0m\u001b[0m_preprocess_data\u001b[0m\u001b[0;34m)\u001b[0m\u001b[0;34m\u001b[0m\u001b[0;34m\u001b[0m\u001b[0m\n",
      "\u001b[0;32m~/anaconda3/lib/python3.8/site-packages/sklearn/linear_model/_coordinate_descent.py\u001b[0m in \u001b[0;36m_decision_function\u001b[0;34m(self, X)\u001b[0m\n\u001b[1;32m    884\u001b[0m                                    dense_output=True) + self.intercept_\n\u001b[1;32m    885\u001b[0m         \u001b[0;32melse\u001b[0m\u001b[0;34m:\u001b[0m\u001b[0;34m\u001b[0m\u001b[0;34m\u001b[0m\u001b[0m\n\u001b[0;32m--> 886\u001b[0;31m             \u001b[0;32mreturn\u001b[0m \u001b[0msuper\u001b[0m\u001b[0;34m(\u001b[0m\u001b[0;34m)\u001b[0m\u001b[0;34m.\u001b[0m\u001b[0m_decision_function\u001b[0m\u001b[0;34m(\u001b[0m\u001b[0mX\u001b[0m\u001b[0;34m)\u001b[0m\u001b[0;34m\u001b[0m\u001b[0;34m\u001b[0m\u001b[0m\n\u001b[0m\u001b[1;32m    887\u001b[0m \u001b[0;34m\u001b[0m\u001b[0m\n\u001b[1;32m    888\u001b[0m \u001b[0;34m\u001b[0m\u001b[0m\n",
      "\u001b[0;32m~/anaconda3/lib/python3.8/site-packages/sklearn/linear_model/_base.py\u001b[0m in \u001b[0;36m_decision_function\u001b[0;34m(self, X)\u001b[0m\n\u001b[1;32m    217\u001b[0m \u001b[0;34m\u001b[0m\u001b[0m\n\u001b[1;32m    218\u001b[0m         \u001b[0mX\u001b[0m \u001b[0;34m=\u001b[0m \u001b[0mcheck_array\u001b[0m\u001b[0;34m(\u001b[0m\u001b[0mX\u001b[0m\u001b[0;34m,\u001b[0m \u001b[0maccept_sparse\u001b[0m\u001b[0;34m=\u001b[0m\u001b[0;34m[\u001b[0m\u001b[0;34m'csr'\u001b[0m\u001b[0;34m,\u001b[0m \u001b[0;34m'csc'\u001b[0m\u001b[0;34m,\u001b[0m \u001b[0;34m'coo'\u001b[0m\u001b[0;34m]\u001b[0m\u001b[0;34m)\u001b[0m\u001b[0;34m\u001b[0m\u001b[0;34m\u001b[0m\u001b[0m\n\u001b[0;32m--> 219\u001b[0;31m         return safe_sparse_dot(X, self.coef_.T,\n\u001b[0m\u001b[1;32m    220\u001b[0m                                dense_output=True) + self.intercept_\n\u001b[1;32m    221\u001b[0m \u001b[0;34m\u001b[0m\u001b[0m\n",
      "\u001b[0;32m~/anaconda3/lib/python3.8/site-packages/sklearn/utils/validation.py\u001b[0m in \u001b[0;36minner_f\u001b[0;34m(*args, **kwargs)\u001b[0m\n\u001b[1;32m     71\u001b[0m                           FutureWarning)\n\u001b[1;32m     72\u001b[0m         \u001b[0mkwargs\u001b[0m\u001b[0;34m.\u001b[0m\u001b[0mupdate\u001b[0m\u001b[0;34m(\u001b[0m\u001b[0;34m{\u001b[0m\u001b[0mk\u001b[0m\u001b[0;34m:\u001b[0m \u001b[0marg\u001b[0m \u001b[0;32mfor\u001b[0m \u001b[0mk\u001b[0m\u001b[0;34m,\u001b[0m \u001b[0marg\u001b[0m \u001b[0;32min\u001b[0m \u001b[0mzip\u001b[0m\u001b[0;34m(\u001b[0m\u001b[0msig\u001b[0m\u001b[0;34m.\u001b[0m\u001b[0mparameters\u001b[0m\u001b[0;34m,\u001b[0m \u001b[0margs\u001b[0m\u001b[0;34m)\u001b[0m\u001b[0;34m}\u001b[0m\u001b[0;34m)\u001b[0m\u001b[0;34m\u001b[0m\u001b[0;34m\u001b[0m\u001b[0m\n\u001b[0;32m---> 73\u001b[0;31m         \u001b[0;32mreturn\u001b[0m \u001b[0mf\u001b[0m\u001b[0;34m(\u001b[0m\u001b[0;34m**\u001b[0m\u001b[0mkwargs\u001b[0m\u001b[0;34m)\u001b[0m\u001b[0;34m\u001b[0m\u001b[0;34m\u001b[0m\u001b[0m\n\u001b[0m\u001b[1;32m     74\u001b[0m     \u001b[0;32mreturn\u001b[0m \u001b[0minner_f\u001b[0m\u001b[0;34m\u001b[0m\u001b[0;34m\u001b[0m\u001b[0m\n\u001b[1;32m     75\u001b[0m \u001b[0;34m\u001b[0m\u001b[0m\n",
      "\u001b[0;32m~/anaconda3/lib/python3.8/site-packages/sklearn/utils/extmath.py\u001b[0m in \u001b[0;36msafe_sparse_dot\u001b[0;34m(a, b, dense_output)\u001b[0m\n\u001b[1;32m    151\u001b[0m             \u001b[0mret\u001b[0m \u001b[0;34m=\u001b[0m \u001b[0mnp\u001b[0m\u001b[0;34m.\u001b[0m\u001b[0mdot\u001b[0m\u001b[0;34m(\u001b[0m\u001b[0ma\u001b[0m\u001b[0;34m,\u001b[0m \u001b[0mb\u001b[0m\u001b[0;34m)\u001b[0m\u001b[0;34m\u001b[0m\u001b[0;34m\u001b[0m\u001b[0m\n\u001b[1;32m    152\u001b[0m     \u001b[0;32melse\u001b[0m\u001b[0;34m:\u001b[0m\u001b[0;34m\u001b[0m\u001b[0;34m\u001b[0m\u001b[0m\n\u001b[0;32m--> 153\u001b[0;31m         \u001b[0mret\u001b[0m \u001b[0;34m=\u001b[0m \u001b[0ma\u001b[0m \u001b[0;34m@\u001b[0m \u001b[0mb\u001b[0m\u001b[0;34m\u001b[0m\u001b[0;34m\u001b[0m\u001b[0m\n\u001b[0m\u001b[1;32m    154\u001b[0m \u001b[0;34m\u001b[0m\u001b[0m\n\u001b[1;32m    155\u001b[0m     if (sparse.issparse(a) and sparse.issparse(b)\n",
      "\u001b[0;31mValueError\u001b[0m: matmul: Input operand 1 has a mismatch in its core dimension 0, with gufunc signature (n?,k),(k,m?)->(n?,m?) (size 2 is different from 1)"
     ]
    }
   ],
   "source": [
    "reg3.score(x,y)"
   ]
  },
  {
   "cell_type": "code",
   "execution_count": 101,
   "metadata": {},
   "outputs": [
    {
     "data": {
      "text/plain": [
       "0.46876524189324187"
      ]
     },
     "execution_count": 101,
     "metadata": {},
     "output_type": "execute_result"
    }
   ],
   "source": [
    "reg3.score(x,y)"
   ]
  },
  {
   "cell_type": "code",
   "execution_count": null,
   "metadata": {},
   "outputs": [],
   "source": []
  }
 ],
 "metadata": {
  "kernelspec": {
   "display_name": "Python 3",
   "language": "python",
   "name": "python3"
  },
  "language_info": {
   "codemirror_mode": {
    "name": "ipython",
    "version": 3
   },
   "file_extension": ".py",
   "mimetype": "text/x-python",
   "name": "python",
   "nbconvert_exporter": "python",
   "pygments_lexer": "ipython3",
   "version": "3.8.3"
  }
 },
 "nbformat": 4,
 "nbformat_minor": 4
}
